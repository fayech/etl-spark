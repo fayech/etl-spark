{
 "cells": [
  {
   "cell_type": "code",
   "execution_count": 137,
   "metadata": {},
   "outputs": [],
   "source": [
    "from pyhive  import  hive\n",
    "from pyhive import  presto"
   ]
  },
  {
   "cell_type": "code",
   "execution_count": 138,
   "metadata": {},
   "outputs": [],
   "source": [
    "conn = hive.Connection(host=\"localhost\",port=10000,username=\"value\",database=\"default\")"
   ]
  },
  {
   "cell_type": "code",
   "execution_count": 139,
   "metadata": {},
   "outputs": [],
   "source": [
    "cnx = conn.cursor()"
   ]
  },
  {
   "cell_type": "code",
   "execution_count": 140,
   "metadata": {},
   "outputs": [],
   "source": [
    "cnx.execute(\"select * from O_T24_USER\")"
   ]
  },
  {
   "cell_type": "code",
   "execution_count": 141,
   "metadata": {},
   "outputs": [],
   "source": [
    "newods = cnx.fetchall()"
   ]
  },
  {
   "cell_type": "code",
   "execution_count": 142,
   "metadata": {},
   "outputs": [
    {
     "name": "stdout",
     "output_type": "stream",
     "text": [
      "[('B-00001', 'B00001', '555', '?278', 'B00001@biat.com.tn', '2021-08-12', '2021-08-12', 'null'), ('B-00002', 'B00002', '35', '?233', 'B00002@biat.com.tn', '2021-08-12', '2021-08-12', 'null'), ('B-00003', 'B00003', '299', '?202', 'B00003@biat.com.tn', '2021-08-12', '2021-08-12', 'null'), ('B-00004', 'B00004', '41', '?265', 'B00004@biat.com.tn', '2021-08-12', '2021-08-12', 'null'), ('B-00005', 'B00005', '605', '?266', 'B00005@biat.com.tn', '2021-08-12', '2021-08-12', 'null'), ('B-00006', 'B00006', '125', '?233', 'B00006@biat.com.tn', '2021-08-12', '2021-08-12', 'null'), ('B-00007', 'B00007', '103', '?202', 'B00007@biat.com.tn', '2021-08-12', '2021-08-12', 'null')]\n"
     ]
    }
   ],
   "source": [
    "print(newods)"
   ]
  },
  {
   "cell_type": "code",
   "execution_count": 143,
   "metadata": {},
   "outputs": [],
   "source": [
    "import pyspark\n",
    "from pyspark.sql import SparkSession"
   ]
  },
  {
   "cell_type": "code",
   "execution_count": 144,
   "metadata": {},
   "outputs": [],
   "source": [
    "spark = SparkSession.builder.getOrCreate()"
   ]
  },
  {
   "cell_type": "code",
   "execution_count": 145,
   "metadata": {},
   "outputs": [],
   "source": [
    "from pyspark import SparkContext\n",
    "from pyspark.sql import SQLContext\n",
    "from pyspark.sql.types import *"
   ]
  },
  {
   "cell_type": "code",
   "execution_count": 146,
   "metadata": {},
   "outputs": [],
   "source": [
    "df1= spark.createDataFrame(newods,['ID_A','USER_NAME_A','DEPARTMENT_CODE','INIT_APPLICATION','EMAIL_A','DAT_SIT','DAT_CHG','DAT_CSO'])"
   ]
  },
  {
   "cell_type": "code",
   "execution_count": 147,
   "metadata": {},
   "outputs": [
    {
     "name": "stdout",
     "output_type": "stream",
     "text": [
      "+-------+-----------+---------------+----------------+------------------+----------+----------+-------+\n",
      "|   ID_A|USER_NAME_A|DEPARTMENT_CODE|INIT_APPLICATION|           EMAIL_A|   DAT_SIT|   DAT_CHG|DAT_CSO|\n",
      "+-------+-----------+---------------+----------------+------------------+----------+----------+-------+\n",
      "|B-00001|     B00001|            555|            ?278|B00001@biat.com.tn|2021-08-12|2021-08-12|   null|\n",
      "|B-00002|     B00002|             35|            ?233|B00002@biat.com.tn|2021-08-12|2021-08-12|   null|\n",
      "|B-00003|     B00003|            299|            ?202|B00003@biat.com.tn|2021-08-12|2021-08-12|   null|\n",
      "|B-00004|     B00004|             41|            ?265|B00004@biat.com.tn|2021-08-12|2021-08-12|   null|\n",
      "|B-00005|     B00005|            605|            ?266|B00005@biat.com.tn|2021-08-12|2021-08-12|   null|\n",
      "|B-00006|     B00006|            125|            ?233|B00006@biat.com.tn|2021-08-12|2021-08-12|   null|\n",
      "|B-00007|     B00007|            103|            ?202|B00007@biat.com.tn|2021-08-12|2021-08-12|   null|\n",
      "+-------+-----------+---------------+----------------+------------------+----------+----------+-------+\n",
      "\n"
     ]
    }
   ],
   "source": [
    "df1.show()"
   ]
  },
  {
   "cell_type": "code",
   "execution_count": 148,
   "metadata": {},
   "outputs": [
    {
     "name": "stdout",
     "output_type": "stream",
     "text": [
      "root\n",
      " |-- ID_A: string (nullable = true)\n",
      " |-- USER_NAME_A: string (nullable = true)\n",
      " |-- DEPARTMENT_CODE: string (nullable = true)\n",
      " |-- INIT_APPLICATION: string (nullable = true)\n",
      " |-- EMAIL_A: string (nullable = true)\n",
      " |-- DAT_SIT: string (nullable = true)\n",
      " |-- DAT_CHG: string (nullable = true)\n",
      " |-- DAT_CSO: string (nullable = true)\n",
      "\n"
     ]
    }
   ],
   "source": [
    "df1.printSchema()"
   ]
  },
  {
   "cell_type": "code",
   "execution_count": 149,
   "metadata": {},
   "outputs": [],
   "source": [
    "from pyspark.sql.functions import *"
   ]
  },
  {
   "cell_type": "code",
   "execution_count": 150,
   "metadata": {},
   "outputs": [],
   "source": [
    "import time\n",
    "import datetime\n"
   ]
  },
  {
   "cell_type": "code",
   "execution_count": 151,
   "metadata": {},
   "outputs": [],
   "source": [
    "ods = df1.withColumn('DAT_CSO', regexp_replace('DAT_CSO','null','0'))\n"
   ]
  },
  {
   "cell_type": "code",
   "execution_count": 152,
   "metadata": {},
   "outputs": [
    {
     "name": "stdout",
     "output_type": "stream",
     "text": [
      "+-------+-----------+---------------+----------------+------------------+----------+----------+-------+\n",
      "|   ID_A|USER_NAME_A|DEPARTMENT_CODE|INIT_APPLICATION|           EMAIL_A|   DAT_SIT|   DAT_CHG|DAT_CSO|\n",
      "+-------+-----------+---------------+----------------+------------------+----------+----------+-------+\n",
      "|B-00001|     B00001|            555|            ?278|B00001@biat.com.tn|2021-08-12|2021-08-12|      0|\n",
      "|B-00002|     B00002|             35|            ?233|B00002@biat.com.tn|2021-08-12|2021-08-12|      0|\n",
      "|B-00003|     B00003|            299|            ?202|B00003@biat.com.tn|2021-08-12|2021-08-12|      0|\n",
      "|B-00004|     B00004|             41|            ?265|B00004@biat.com.tn|2021-08-12|2021-08-12|      0|\n",
      "|B-00005|     B00005|            605|            ?266|B00005@biat.com.tn|2021-08-12|2021-08-12|      0|\n",
      "|B-00006|     B00006|            125|            ?233|B00006@biat.com.tn|2021-08-12|2021-08-12|      0|\n",
      "|B-00007|     B00007|            103|            ?202|B00007@biat.com.tn|2021-08-12|2021-08-12|      0|\n",
      "+-------+-----------+---------------+----------------+------------------+----------+----------+-------+\n",
      "\n"
     ]
    }
   ],
   "source": [
    "ods.show()"
   ]
  },
  {
   "cell_type": "code",
   "execution_count": 153,
   "metadata": {},
   "outputs": [],
   "source": [
    "newdf = ods.withColumn(\"DAT_CSO\",to_date(current_timestamp()))"
   ]
  },
  {
   "cell_type": "code",
   "execution_count": 154,
   "metadata": {},
   "outputs": [
    {
     "name": "stdout",
     "output_type": "stream",
     "text": [
      "+-------+-----------+---------------+----------------+------------------+----------+----------+----------+\n",
      "|   ID_A|USER_NAME_A|DEPARTMENT_CODE|INIT_APPLICATION|           EMAIL_A|   DAT_SIT|   DAT_CHG|   DAT_CSO|\n",
      "+-------+-----------+---------------+----------------+------------------+----------+----------+----------+\n",
      "|B-00001|     B00001|            555|            ?278|B00001@biat.com.tn|2021-08-12|2021-08-12|2021-08-12|\n",
      "|B-00002|     B00002|             35|            ?233|B00002@biat.com.tn|2021-08-12|2021-08-12|2021-08-12|\n",
      "|B-00003|     B00003|            299|            ?202|B00003@biat.com.tn|2021-08-12|2021-08-12|2021-08-12|\n",
      "|B-00004|     B00004|             41|            ?265|B00004@biat.com.tn|2021-08-12|2021-08-12|2021-08-12|\n",
      "|B-00005|     B00005|            605|            ?266|B00005@biat.com.tn|2021-08-12|2021-08-12|2021-08-12|\n",
      "|B-00006|     B00006|            125|            ?233|B00006@biat.com.tn|2021-08-12|2021-08-12|2021-08-12|\n",
      "|B-00007|     B00007|            103|            ?202|B00007@biat.com.tn|2021-08-12|2021-08-12|2021-08-12|\n",
      "+-------+-----------+---------------+----------------+------------------+----------+----------+----------+\n",
      "\n"
     ]
    }
   ],
   "source": [
    "newdf.show()"
   ]
  },
  {
   "cell_type": "code",
   "execution_count": 155,
   "metadata": {},
   "outputs": [],
   "source": [
    "import pyspark.sql.functions as f"
   ]
  },
  {
   "cell_type": "code",
   "execution_count": 156,
   "metadata": {},
   "outputs": [],
   "source": [
    "newdf.coalesce(1).write.csv(\"hdfs://master.com:8020/user/value/ods-user.csv\")"
   ]
  },
  {
   "cell_type": "code",
   "execution_count": 157,
   "metadata": {},
   "outputs": [],
   "source": [
    "cnx.execute(\"load data  INPATH 'hdfs://master.com:8020/user/value/ods-user.csv' overwrite into table O_T24_USER\")\n"
   ]
  },
  {
   "cell_type": "code",
   "execution_count": 158,
   "metadata": {},
   "outputs": [],
   "source": [
    "cnx.execute(\"select * from O_T24_USER\")"
   ]
  },
  {
   "cell_type": "code",
   "execution_count": 159,
   "metadata": {},
   "outputs": [],
   "source": [
    "\n",
    "newschema = cnx.fetchall()"
   ]
  },
  {
   "cell_type": "code",
   "execution_count": 160,
   "metadata": {},
   "outputs": [
    {
     "name": "stdout",
     "output_type": "stream",
     "text": [
      "[('B-00001', 'B00001', '555', '?278', 'B00001@biat.com.tn', '2021-08-12', '2021-08-12', '2021-08-12'), ('B-00002', 'B00002', '35', '?233', 'B00002@biat.com.tn', '2021-08-12', '2021-08-12', '2021-08-12'), ('B-00003', 'B00003', '299', '?202', 'B00003@biat.com.tn', '2021-08-12', '2021-08-12', '2021-08-12'), ('B-00004', 'B00004', '41', '?265', 'B00004@biat.com.tn', '2021-08-12', '2021-08-12', '2021-08-12'), ('B-00005', 'B00005', '605', '?266', 'B00005@biat.com.tn', '2021-08-12', '2021-08-12', '2021-08-12'), ('B-00006', 'B00006', '125', '?233', 'B00006@biat.com.tn', '2021-08-12', '2021-08-12', '2021-08-12'), ('B-00007', 'B00007', '103', '?202', 'B00007@biat.com.tn', '2021-08-12', '2021-08-12', '2021-08-12')]\n"
     ]
    }
   ],
   "source": [
    "print(newschema)"
   ]
  },
  {
   "cell_type": "code",
   "execution_count": 161,
   "metadata": {},
   "outputs": [],
   "source": [
    "df1= spark.createDataFrame(newschema,['ID_A','USER_NAME_A','DEPARTMENT_CODE','INIT_APPLICATION','EMAIL_A','DAT_SIT','DAT_CHG','DAT_CSO'])"
   ]
  },
  {
   "cell_type": "code",
   "execution_count": 162,
   "metadata": {},
   "outputs": [
    {
     "name": "stdout",
     "output_type": "stream",
     "text": [
      "+-------+-----------+---------------+----------------+------------------+----------+----------+----------+\n",
      "|   ID_A|USER_NAME_A|DEPARTMENT_CODE|INIT_APPLICATION|           EMAIL_A|   DAT_SIT|   DAT_CHG|   DAT_CSO|\n",
      "+-------+-----------+---------------+----------------+------------------+----------+----------+----------+\n",
      "|B-00001|     B00001|            555|            ?278|B00001@biat.com.tn|2021-08-12|2021-08-12|2021-08-12|\n",
      "|B-00002|     B00002|             35|            ?233|B00002@biat.com.tn|2021-08-12|2021-08-12|2021-08-12|\n",
      "|B-00003|     B00003|            299|            ?202|B00003@biat.com.tn|2021-08-12|2021-08-12|2021-08-12|\n",
      "|B-00004|     B00004|             41|            ?265|B00004@biat.com.tn|2021-08-12|2021-08-12|2021-08-12|\n",
      "|B-00005|     B00005|            605|            ?266|B00005@biat.com.tn|2021-08-12|2021-08-12|2021-08-12|\n",
      "|B-00006|     B00006|            125|            ?233|B00006@biat.com.tn|2021-08-12|2021-08-12|2021-08-12|\n",
      "|B-00007|     B00007|            103|            ?202|B00007@biat.com.tn|2021-08-12|2021-08-12|2021-08-12|\n",
      "+-------+-----------+---------------+----------------+------------------+----------+----------+----------+\n",
      "\n"
     ]
    }
   ],
   "source": [
    "df1.show()"
   ]
  },
  {
   "cell_type": "code",
   "execution_count": 163,
   "metadata": {},
   "outputs": [],
   "source": [
    "edd1=df1.select(\"ID_A\",\"USER_NAME_A\",\"DEPARTMENT_CODE\",\"INIT_APPLICATION\",\"EMAIL_A\",\"DAT_SIT\",\"DAT_CHG\",\"DAT_CSO\")"
   ]
  },
  {
   "cell_type": "code",
   "execution_count": 164,
   "metadata": {},
   "outputs": [
    {
     "name": "stdout",
     "output_type": "stream",
     "text": [
      "+-------+-----------+---------------+----------------+------------------+----------+----------+----------+\n",
      "|   ID_A|USER_NAME_A|DEPARTMENT_CODE|INIT_APPLICATION|           EMAIL_A|   DAT_SIT|   DAT_CHG|   DAT_CSO|\n",
      "+-------+-----------+---------------+----------------+------------------+----------+----------+----------+\n",
      "|B-00001|     B00001|            555|            ?278|B00001@biat.com.tn|2021-08-12|2021-08-12|2021-08-12|\n",
      "|B-00002|     B00002|             35|            ?233|B00002@biat.com.tn|2021-08-12|2021-08-12|2021-08-12|\n",
      "|B-00003|     B00003|            299|            ?202|B00003@biat.com.tn|2021-08-12|2021-08-12|2021-08-12|\n",
      "|B-00004|     B00004|             41|            ?265|B00004@biat.com.tn|2021-08-12|2021-08-12|2021-08-12|\n",
      "|B-00005|     B00005|            605|            ?266|B00005@biat.com.tn|2021-08-12|2021-08-12|2021-08-12|\n",
      "|B-00006|     B00006|            125|            ?233|B00006@biat.com.tn|2021-08-12|2021-08-12|2021-08-12|\n",
      "|B-00007|     B00007|            103|            ?202|B00007@biat.com.tn|2021-08-12|2021-08-12|2021-08-12|\n",
      "+-------+-----------+---------------+----------------+------------------+----------+----------+----------+\n",
      "\n"
     ]
    }
   ],
   "source": [
    "edd1.show()"
   ]
  },
  {
   "cell_type": "code",
   "execution_count": 165,
   "metadata": {},
   "outputs": [],
   "source": [
    "eddschema=edd1.withColumnRenamed(\"DAT_SIT\",\"DATDEBVLD\")"
   ]
  },
  {
   "cell_type": "code",
   "execution_count": 166,
   "metadata": {},
   "outputs": [
    {
     "name": "stdout",
     "output_type": "stream",
     "text": [
      "+-------+-----------+---------------+----------------+------------------+----------+----------+----------+\n",
      "|   ID_A|USER_NAME_A|DEPARTMENT_CODE|INIT_APPLICATION|           EMAIL_A| DATDEBVLD|   DAT_CHG|   DAT_CSO|\n",
      "+-------+-----------+---------------+----------------+------------------+----------+----------+----------+\n",
      "|B-00001|     B00001|            555|            ?278|B00001@biat.com.tn|2021-08-12|2021-08-12|2021-08-12|\n",
      "|B-00002|     B00002|             35|            ?233|B00002@biat.com.tn|2021-08-12|2021-08-12|2021-08-12|\n",
      "|B-00003|     B00003|            299|            ?202|B00003@biat.com.tn|2021-08-12|2021-08-12|2021-08-12|\n",
      "|B-00004|     B00004|             41|            ?265|B00004@biat.com.tn|2021-08-12|2021-08-12|2021-08-12|\n",
      "|B-00005|     B00005|            605|            ?266|B00005@biat.com.tn|2021-08-12|2021-08-12|2021-08-12|\n",
      "|B-00006|     B00006|            125|            ?233|B00006@biat.com.tn|2021-08-12|2021-08-12|2021-08-12|\n",
      "|B-00007|     B00007|            103|            ?202|B00007@biat.com.tn|2021-08-12|2021-08-12|2021-08-12|\n",
      "+-------+-----------+---------------+----------------+------------------+----------+----------+----------+\n",
      "\n"
     ]
    }
   ],
   "source": [
    "eddschema.show()"
   ]
  },
  {
   "cell_type": "code",
   "execution_count": 167,
   "metadata": {},
   "outputs": [
    {
     "name": "stdout",
     "output_type": "stream",
     "text": [
      "+-------+-----------+---------------+----------------+------------------+----------+\n",
      "|   ID_A|USER_NAME_A|DEPARTMENT_CODE|INIT_APPLICATION|           EMAIL_A| DATDEBVLD|\n",
      "+-------+-----------+---------------+----------------+------------------+----------+\n",
      "|B-00001|     B00001|            555|            ?278|B00001@biat.com.tn|2021-08-12|\n",
      "|B-00002|     B00002|             35|            ?233|B00002@biat.com.tn|2021-08-12|\n",
      "|B-00003|     B00003|            299|            ?202|B00003@biat.com.tn|2021-08-12|\n",
      "|B-00004|     B00004|             41|            ?265|B00004@biat.com.tn|2021-08-12|\n",
      "|B-00005|     B00005|            605|            ?266|B00005@biat.com.tn|2021-08-12|\n",
      "|B-00006|     B00006|            125|            ?233|B00006@biat.com.tn|2021-08-12|\n",
      "|B-00007|     B00007|            103|            ?202|B00007@biat.com.tn|2021-08-12|\n",
      "+-------+-----------+---------------+----------------+------------------+----------+\n",
      "\n"
     ]
    }
   ],
   "source": [
    "eddmod=eddschema.select(\"ID_A\",\"USER_NAME_A\",\"DEPARTMENT_CODE\",\"INIT_APPLICATION\",\"EMAIL_A\",\"DATDEBVLD\")\n",
    "eddmod.show()"
   ]
  },
  {
   "cell_type": "code",
   "execution_count": 168,
   "metadata": {},
   "outputs": [],
   "source": [
    "eddmod = eddmod.withColumn(\"DATFINVLD\",lit(\"9999-12-31\")).withColumn(\"DAT_CHG\",to_date(current_timestamp())).withColumn(\"Dersit\",lit(1))\n"
   ]
  },
  {
   "cell_type": "code",
   "execution_count": 169,
   "metadata": {},
   "outputs": [
    {
     "name": "stdout",
     "output_type": "stream",
     "text": [
      "+-------+-----------+---------------+----------------+------------------+----------+----------+----------+------+\n",
      "|   ID_A|USER_NAME_A|DEPARTMENT_CODE|INIT_APPLICATION|           EMAIL_A| DATDEBVLD| DATFINVLD|   DAT_CHG|Dersit|\n",
      "+-------+-----------+---------------+----------------+------------------+----------+----------+----------+------+\n",
      "|B-00001|     B00001|            555|            ?278|B00001@biat.com.tn|2021-08-12|9999-12-31|2021-08-12|     1|\n",
      "|B-00002|     B00002|             35|            ?233|B00002@biat.com.tn|2021-08-12|9999-12-31|2021-08-12|     1|\n",
      "|B-00003|     B00003|            299|            ?202|B00003@biat.com.tn|2021-08-12|9999-12-31|2021-08-12|     1|\n",
      "|B-00004|     B00004|             41|            ?265|B00004@biat.com.tn|2021-08-12|9999-12-31|2021-08-12|     1|\n",
      "|B-00005|     B00005|            605|            ?266|B00005@biat.com.tn|2021-08-12|9999-12-31|2021-08-12|     1|\n",
      "|B-00006|     B00006|            125|            ?233|B00006@biat.com.tn|2021-08-12|9999-12-31|2021-08-12|     1|\n",
      "|B-00007|     B00007|            103|            ?202|B00007@biat.com.tn|2021-08-12|9999-12-31|2021-08-12|     1|\n",
      "+-------+-----------+---------------+----------------+------------------+----------+----------+----------+------+\n",
      "\n"
     ]
    }
   ],
   "source": [
    "eddmod.show()"
   ]
  },
  {
   "cell_type": "code",
   "execution_count": 170,
   "metadata": {},
   "outputs": [],
   "source": [
    "eddmod.coalesce(1).write.csv(\"hdfs://master.com:8020/user/value/edd/hdfs-edduser.csv\")"
   ]
  },
  {
   "cell_type": "code",
   "execution_count": 171,
   "metadata": {},
   "outputs": [
    {
     "name": "stdout",
     "output_type": "stream",
     "text": [
      "root\n",
      " |-- ID_A: string (nullable = true)\n",
      " |-- USER_NAME_A: string (nullable = true)\n",
      " |-- DEPARTMENT_CODE: string (nullable = true)\n",
      " |-- INIT_APPLICATION: string (nullable = true)\n",
      " |-- EMAIL_A: string (nullable = true)\n",
      " |-- DATDEBVLD: string (nullable = true)\n",
      " |-- DATFINVLD: string (nullable = false)\n",
      " |-- DAT_CHG: date (nullable = false)\n",
      " |-- Dersit: integer (nullable = false)\n",
      "\n"
     ]
    }
   ],
   "source": [
    "eddmod.printSchema()"
   ]
  },
  {
   "cell_type": "code",
   "execution_count": 172,
   "metadata": {},
   "outputs": [
    {
     "name": "stdout",
     "output_type": "stream",
     "text": [
      "+-------+------+---+----+------------------+-----------+----------+-----------+---+\n",
      "|B-00001|B00001|555|?278|B00001@biat.com.tn|2021-08-125|9999-12-31|2021-08-127|  1|\n",
      "+-------+------+---+----+------------------+-----------+----------+-----------+---+\n",
      "|B-00002|B00002| 35|?233|B00002@biat.com.tn| 2021-08-12|9999-12-31| 2021-08-12|  1|\n",
      "|B-00003|B00003|299|?202|B00003@biat.com.tn| 2021-08-12|9999-12-31| 2021-08-12|  1|\n",
      "|B-00004|B00004| 41|?265|B00004@biat.com.tn| 2021-08-12|9999-12-31| 2021-08-12|  1|\n",
      "|B-00005|B00005|605|?266|B00005@biat.com.tn| 2021-08-12|9999-12-31| 2021-08-12|  1|\n",
      "|B-00006|B00006|125|?233|B00006@biat.com.tn| 2021-08-12|9999-12-31| 2021-08-12|  1|\n",
      "|B-00007|B00007|103|?202|B00007@biat.com.tn| 2021-08-12|9999-12-31| 2021-08-12|  1|\n",
      "+-------+------+---+----+------------------+-----------+----------+-----------+---+\n",
      "\n"
     ]
    }
   ],
   "source": [
    "edd_load = spark.read.option(\"header\",\"true\").csv('hdfs://master.com:8020/user/value/edd/hdfs-edduser.csv')\n",
    "edd_load.show()"
   ]
  },
  {
   "cell_type": "code",
   "execution_count": 173,
   "metadata": {},
   "outputs": [
    {
     "ename": "OperationalError",
     "evalue": "TExecuteStatementResp(status=TStatus(statusCode=3, infoMessages=['*org.apache.hive.service.cli.HiveSQLException:Error while compiling statement: FAILED: Execution Error, return code 1 from org.apache.hadoop.hive.ql.ddl.DDLTask. AlreadyExistsException(message:Table hive.default.edduser already exists):28:27', 'org.apache.hive.service.cli.operation.Operation:toSQLException:Operation.java:362', 'org.apache.hive.service.cli.operation.SQLOperation:runQuery:SQLOperation.java:241', 'org.apache.hive.service.cli.operation.SQLOperation:runInternal:SQLOperation.java:263', 'org.apache.hive.service.cli.operation.Operation:run:Operation.java:274', 'org.apache.hive.service.cli.session.HiveSessionImpl:executeStatementInternal:HiveSessionImpl.java:565', 'org.apache.hive.service.cli.session.HiveSessionImpl:executeStatement:HiveSessionImpl.java:540', 'sun.reflect.GeneratedMethodAccessor43:invoke::-1', 'sun.reflect.DelegatingMethodAccessorImpl:invoke:DelegatingMethodAccessorImpl.java:43', 'java.lang.reflect.Method:invoke:Method.java:498', 'org.apache.hive.service.cli.session.HiveSessionProxy:invoke:HiveSessionProxy.java:78', 'org.apache.hive.service.cli.session.HiveSessionProxy:access$000:HiveSessionProxy.java:36', 'org.apache.hive.service.cli.session.HiveSessionProxy$1:run:HiveSessionProxy.java:63', 'java.security.AccessController:doPrivileged:AccessController.java:-2', 'javax.security.auth.Subject:doAs:Subject.java:422', 'org.apache.hadoop.security.UserGroupInformation:doAs:UserGroupInformation.java:1898', 'org.apache.hive.service.cli.session.HiveSessionProxy:invoke:HiveSessionProxy.java:59', 'com.sun.proxy.$Proxy38:executeStatement::-1', 'org.apache.hive.service.cli.CLIService:executeStatement:CLIService.java:285', 'org.apache.hive.service.cli.thrift.ThriftCLIService:ExecuteStatement:ThriftCLIService.java:568', 'org.apache.hive.service.rpc.thrift.TCLIService$Processor$ExecuteStatement:getResult:TCLIService.java:1557', 'org.apache.hive.service.rpc.thrift.TCLIService$Processor$ExecuteStatement:getResult:TCLIService.java:1542', 'org.apache.thrift.ProcessFunction:process:ProcessFunction.java:39', 'org.apache.thrift.TBaseProcessor:process:TBaseProcessor.java:39', 'org.apache.hive.service.auth.TSetIpAddressProcessor:process:TSetIpAddressProcessor.java:56', 'org.apache.thrift.server.TThreadPoolServer$WorkerProcess:run:TThreadPoolServer.java:286', 'java.util.concurrent.ThreadPoolExecutor:runWorker:ThreadPoolExecutor.java:1149', 'java.util.concurrent.ThreadPoolExecutor$Worker:run:ThreadPoolExecutor.java:624', 'java.lang.Thread:run:Thread.java:748', '*org.apache.hadoop.hive.ql.metadata.HiveException:AlreadyExistsException(message:Table hive.default.edduser already exists):42:15', 'org.apache.hadoop.hive.ql.metadata.Hive:createTable:Hive.java:1136', 'org.apache.hadoop.hive.ql.metadata.Hive:createTable:Hive.java:1144', 'org.apache.hadoop.hive.ql.ddl.table.create.CreateTableOperation:createTableNonReplaceMode:CreateTableOperation.java:140', 'org.apache.hadoop.hive.ql.ddl.table.create.CreateTableOperation:execute:CreateTableOperation.java:98', 'org.apache.hadoop.hive.ql.ddl.DDLTask:execute:DDLTask.java:80', 'org.apache.hadoop.hive.ql.exec.Task:executeTask:Task.java:213', 'org.apache.hadoop.hive.ql.exec.TaskRunner:runSequential:TaskRunner.java:105', 'org.apache.hadoop.hive.ql.Executor:launchTask:Executor.java:357', 'org.apache.hadoop.hive.ql.Executor:launchTasks:Executor.java:330', 'org.apache.hadoop.hive.ql.Executor:runTasks:Executor.java:246', 'org.apache.hadoop.hive.ql.Executor:execute:Executor.java:109', 'org.apache.hadoop.hive.ql.Driver:runInternal:Driver.java:740', 'org.apache.hadoop.hive.ql.Driver:run:Driver.java:495', 'org.apache.hadoop.hive.ql.Driver:run:Driver.java:489', 'org.apache.hadoop.hive.ql.reexec.ReExecDriver:run:ReExecDriver.java:166', 'org.apache.hive.service.cli.operation.SQLOperation:runQuery:SQLOperation.java:225', '*org.apache.hadoop.hive.metastore.api.AlreadyExistsException:Table hive.default.edduser already exists:62:20', 'org.apache.hadoop.hive.metastore.api.ThriftHiveMetastore$create_table_req_result$create_table_req_resultStandardScheme:read:ThriftHiveMetastore.java:63725', 'org.apache.hadoop.hive.metastore.api.ThriftHiveMetastore$create_table_req_result$create_table_req_resultStandardScheme:read:ThriftHiveMetastore.java:63711', 'org.apache.hadoop.hive.metastore.api.ThriftHiveMetastore$create_table_req_result:read:ThriftHiveMetastore.java:63637', 'org.apache.thrift.TServiceClient:receiveBase:TServiceClient.java:86', 'org.apache.hadoop.hive.metastore.api.ThriftHiveMetastore$Client:recv_create_table_req:ThriftHiveMetastore.java:1792', 'org.apache.hadoop.hive.metastore.api.ThriftHiveMetastore$Client:create_table_req:ThriftHiveMetastore.java:1779', 'org.apache.hadoop.hive.metastore.HiveMetaStoreClient:create_table_with_environment_context:HiveMetaStoreClient.java:3535', 'org.apache.hadoop.hive.ql.metadata.SessionHiveMetaStoreClient:create_table_with_environment_context:SessionHiveMetaStoreClient.java:145', 'org.apache.hadoop.hive.metastore.HiveMetaStoreClient:createTable:HiveMetaStoreClient.java:1052', 'org.apache.hadoop.hive.metastore.HiveMetaStoreClient:createTable:HiveMetaStoreClient.java:1037', 'sun.reflect.GeneratedMethodAccessor67:invoke::-1', 'sun.reflect.DelegatingMethodAccessorImpl:invoke:DelegatingMethodAccessorImpl.java:43', 'java.lang.reflect.Method:invoke:Method.java:498', 'org.apache.hadoop.hive.metastore.RetryingMetaStoreClient:invoke:RetryingMetaStoreClient.java:213', 'com.sun.proxy.$Proxy35:createTable::-1', 'sun.reflect.GeneratedMethodAccessor67:invoke::-1', 'sun.reflect.DelegatingMethodAccessorImpl:invoke:DelegatingMethodAccessorImpl.java:43', 'java.lang.reflect.Method:invoke:Method.java:498', 'org.apache.hadoop.hive.metastore.HiveMetaStoreClient$SynchronizedHandler:invoke:HiveMetaStoreClient.java:3428', 'com.sun.proxy.$Proxy35:createTable::-1', 'org.apache.hadoop.hive.ql.metadata.Hive:createTable:Hive.java:1128'], sqlState='08S01', errorCode=1, errorMessage='Error while compiling statement: FAILED: Execution Error, return code 1 from org.apache.hadoop.hive.ql.ddl.DDLTask. AlreadyExistsException(message:Table hive.default.edduser already exists)'), operationHandle=None)",
     "output_type": "error",
     "traceback": [
      "\u001b[0;31m---------------------------------------------------------------------------\u001b[0m",
      "\u001b[0;31mOperationalError\u001b[0m                          Traceback (most recent call last)",
      "\u001b[0;32m<ipython-input-173-9d357abb5a02>\u001b[0m in \u001b[0;36m<module>\u001b[0;34m\u001b[0m\n\u001b[0;32m----> 1\u001b[0;31m \u001b[0mcnx\u001b[0m\u001b[0;34m.\u001b[0m\u001b[0mexecute\u001b[0m\u001b[0;34m(\u001b[0m\u001b[0;34m\"CREATE TABLE  edduser ( ID_A string, USER_NAME_A string, DEPARTMENT_CODE string, INIT_APPLICATION string, EMAIL_A string,DATDEBVLD date,DATFINVLD date,DAT_CHG date ,Dersit integer)ROW FORMAT DELIMITED FIELDS TERMINATED BY ','\"\u001b[0m\u001b[0;34m)\u001b[0m\u001b[0;34m\u001b[0m\u001b[0;34m\u001b[0m\u001b[0m\n\u001b[0m",
      "\u001b[0;32m~/anaconda3/lib/python3.7/site-packages/pyhive/hive.py\u001b[0m in \u001b[0;36mexecute\u001b[0;34m(self, operation, parameters, **kwargs)\u001b[0m\n\u001b[1;32m    363\u001b[0m         \u001b[0m_logger\u001b[0m\u001b[0;34m.\u001b[0m\u001b[0mdebug\u001b[0m\u001b[0;34m(\u001b[0m\u001b[0mreq\u001b[0m\u001b[0;34m)\u001b[0m\u001b[0;34m\u001b[0m\u001b[0;34m\u001b[0m\u001b[0m\n\u001b[1;32m    364\u001b[0m         \u001b[0mresponse\u001b[0m \u001b[0;34m=\u001b[0m \u001b[0mself\u001b[0m\u001b[0;34m.\u001b[0m\u001b[0m_connection\u001b[0m\u001b[0;34m.\u001b[0m\u001b[0mclient\u001b[0m\u001b[0;34m.\u001b[0m\u001b[0mExecuteStatement\u001b[0m\u001b[0;34m(\u001b[0m\u001b[0mreq\u001b[0m\u001b[0;34m)\u001b[0m\u001b[0;34m\u001b[0m\u001b[0;34m\u001b[0m\u001b[0m\n\u001b[0;32m--> 365\u001b[0;31m         \u001b[0m_check_status\u001b[0m\u001b[0;34m(\u001b[0m\u001b[0mresponse\u001b[0m\u001b[0;34m)\u001b[0m\u001b[0;34m\u001b[0m\u001b[0;34m\u001b[0m\u001b[0m\n\u001b[0m\u001b[1;32m    366\u001b[0m         \u001b[0mself\u001b[0m\u001b[0;34m.\u001b[0m\u001b[0m_operationHandle\u001b[0m \u001b[0;34m=\u001b[0m \u001b[0mresponse\u001b[0m\u001b[0;34m.\u001b[0m\u001b[0moperationHandle\u001b[0m\u001b[0;34m\u001b[0m\u001b[0;34m\u001b[0m\u001b[0m\n\u001b[1;32m    367\u001b[0m \u001b[0;34m\u001b[0m\u001b[0m\n",
      "\u001b[0;32m~/anaconda3/lib/python3.7/site-packages/pyhive/hive.py\u001b[0m in \u001b[0;36m_check_status\u001b[0;34m(response)\u001b[0m\n\u001b[1;32m    493\u001b[0m     \u001b[0m_logger\u001b[0m\u001b[0;34m.\u001b[0m\u001b[0mdebug\u001b[0m\u001b[0;34m(\u001b[0m\u001b[0mresponse\u001b[0m\u001b[0;34m)\u001b[0m\u001b[0;34m\u001b[0m\u001b[0;34m\u001b[0m\u001b[0m\n\u001b[1;32m    494\u001b[0m     \u001b[0;32mif\u001b[0m \u001b[0mresponse\u001b[0m\u001b[0;34m.\u001b[0m\u001b[0mstatus\u001b[0m\u001b[0;34m.\u001b[0m\u001b[0mstatusCode\u001b[0m \u001b[0;34m!=\u001b[0m \u001b[0mttypes\u001b[0m\u001b[0;34m.\u001b[0m\u001b[0mTStatusCode\u001b[0m\u001b[0;34m.\u001b[0m\u001b[0mSUCCESS_STATUS\u001b[0m\u001b[0;34m:\u001b[0m\u001b[0;34m\u001b[0m\u001b[0;34m\u001b[0m\u001b[0m\n\u001b[0;32m--> 495\u001b[0;31m         \u001b[0;32mraise\u001b[0m \u001b[0mOperationalError\u001b[0m\u001b[0;34m(\u001b[0m\u001b[0mresponse\u001b[0m\u001b[0;34m)\u001b[0m\u001b[0;34m\u001b[0m\u001b[0;34m\u001b[0m\u001b[0m\n\u001b[0m",
      "\u001b[0;31mOperationalError\u001b[0m: TExecuteStatementResp(status=TStatus(statusCode=3, infoMessages=['*org.apache.hive.service.cli.HiveSQLException:Error while compiling statement: FAILED: Execution Error, return code 1 from org.apache.hadoop.hive.ql.ddl.DDLTask. AlreadyExistsException(message:Table hive.default.edduser already exists):28:27', 'org.apache.hive.service.cli.operation.Operation:toSQLException:Operation.java:362', 'org.apache.hive.service.cli.operation.SQLOperation:runQuery:SQLOperation.java:241', 'org.apache.hive.service.cli.operation.SQLOperation:runInternal:SQLOperation.java:263', 'org.apache.hive.service.cli.operation.Operation:run:Operation.java:274', 'org.apache.hive.service.cli.session.HiveSessionImpl:executeStatementInternal:HiveSessionImpl.java:565', 'org.apache.hive.service.cli.session.HiveSessionImpl:executeStatement:HiveSessionImpl.java:540', 'sun.reflect.GeneratedMethodAccessor43:invoke::-1', 'sun.reflect.DelegatingMethodAccessorImpl:invoke:DelegatingMethodAccessorImpl.java:43', 'java.lang.reflect.Method:invoke:Method.java:498', 'org.apache.hive.service.cli.session.HiveSessionProxy:invoke:HiveSessionProxy.java:78', 'org.apache.hive.service.cli.session.HiveSessionProxy:access$000:HiveSessionProxy.java:36', 'org.apache.hive.service.cli.session.HiveSessionProxy$1:run:HiveSessionProxy.java:63', 'java.security.AccessController:doPrivileged:AccessController.java:-2', 'javax.security.auth.Subject:doAs:Subject.java:422', 'org.apache.hadoop.security.UserGroupInformation:doAs:UserGroupInformation.java:1898', 'org.apache.hive.service.cli.session.HiveSessionProxy:invoke:HiveSessionProxy.java:59', 'com.sun.proxy.$Proxy38:executeStatement::-1', 'org.apache.hive.service.cli.CLIService:executeStatement:CLIService.java:285', 'org.apache.hive.service.cli.thrift.ThriftCLIService:ExecuteStatement:ThriftCLIService.java:568', 'org.apache.hive.service.rpc.thrift.TCLIService$Processor$ExecuteStatement:getResult:TCLIService.java:1557', 'org.apache.hive.service.rpc.thrift.TCLIService$Processor$ExecuteStatement:getResult:TCLIService.java:1542', 'org.apache.thrift.ProcessFunction:process:ProcessFunction.java:39', 'org.apache.thrift.TBaseProcessor:process:TBaseProcessor.java:39', 'org.apache.hive.service.auth.TSetIpAddressProcessor:process:TSetIpAddressProcessor.java:56', 'org.apache.thrift.server.TThreadPoolServer$WorkerProcess:run:TThreadPoolServer.java:286', 'java.util.concurrent.ThreadPoolExecutor:runWorker:ThreadPoolExecutor.java:1149', 'java.util.concurrent.ThreadPoolExecutor$Worker:run:ThreadPoolExecutor.java:624', 'java.lang.Thread:run:Thread.java:748', '*org.apache.hadoop.hive.ql.metadata.HiveException:AlreadyExistsException(message:Table hive.default.edduser already exists):42:15', 'org.apache.hadoop.hive.ql.metadata.Hive:createTable:Hive.java:1136', 'org.apache.hadoop.hive.ql.metadata.Hive:createTable:Hive.java:1144', 'org.apache.hadoop.hive.ql.ddl.table.create.CreateTableOperation:createTableNonReplaceMode:CreateTableOperation.java:140', 'org.apache.hadoop.hive.ql.ddl.table.create.CreateTableOperation:execute:CreateTableOperation.java:98', 'org.apache.hadoop.hive.ql.ddl.DDLTask:execute:DDLTask.java:80', 'org.apache.hadoop.hive.ql.exec.Task:executeTask:Task.java:213', 'org.apache.hadoop.hive.ql.exec.TaskRunner:runSequential:TaskRunner.java:105', 'org.apache.hadoop.hive.ql.Executor:launchTask:Executor.java:357', 'org.apache.hadoop.hive.ql.Executor:launchTasks:Executor.java:330', 'org.apache.hadoop.hive.ql.Executor:runTasks:Executor.java:246', 'org.apache.hadoop.hive.ql.Executor:execute:Executor.java:109', 'org.apache.hadoop.hive.ql.Driver:runInternal:Driver.java:740', 'org.apache.hadoop.hive.ql.Driver:run:Driver.java:495', 'org.apache.hadoop.hive.ql.Driver:run:Driver.java:489', 'org.apache.hadoop.hive.ql.reexec.ReExecDriver:run:ReExecDriver.java:166', 'org.apache.hive.service.cli.operation.SQLOperation:runQuery:SQLOperation.java:225', '*org.apache.hadoop.hive.metastore.api.AlreadyExistsException:Table hive.default.edduser already exists:62:20', 'org.apache.hadoop.hive.metastore.api.ThriftHiveMetastore$create_table_req_result$create_table_req_resultStandardScheme:read:ThriftHiveMetastore.java:63725', 'org.apache.hadoop.hive.metastore.api.ThriftHiveMetastore$create_table_req_result$create_table_req_resultStandardScheme:read:ThriftHiveMetastore.java:63711', 'org.apache.hadoop.hive.metastore.api.ThriftHiveMetastore$create_table_req_result:read:ThriftHiveMetastore.java:63637', 'org.apache.thrift.TServiceClient:receiveBase:TServiceClient.java:86', 'org.apache.hadoop.hive.metastore.api.ThriftHiveMetastore$Client:recv_create_table_req:ThriftHiveMetastore.java:1792', 'org.apache.hadoop.hive.metastore.api.ThriftHiveMetastore$Client:create_table_req:ThriftHiveMetastore.java:1779', 'org.apache.hadoop.hive.metastore.HiveMetaStoreClient:create_table_with_environment_context:HiveMetaStoreClient.java:3535', 'org.apache.hadoop.hive.ql.metadata.SessionHiveMetaStoreClient:create_table_with_environment_context:SessionHiveMetaStoreClient.java:145', 'org.apache.hadoop.hive.metastore.HiveMetaStoreClient:createTable:HiveMetaStoreClient.java:1052', 'org.apache.hadoop.hive.metastore.HiveMetaStoreClient:createTable:HiveMetaStoreClient.java:1037', 'sun.reflect.GeneratedMethodAccessor67:invoke::-1', 'sun.reflect.DelegatingMethodAccessorImpl:invoke:DelegatingMethodAccessorImpl.java:43', 'java.lang.reflect.Method:invoke:Method.java:498', 'org.apache.hadoop.hive.metastore.RetryingMetaStoreClient:invoke:RetryingMetaStoreClient.java:213', 'com.sun.proxy.$Proxy35:createTable::-1', 'sun.reflect.GeneratedMethodAccessor67:invoke::-1', 'sun.reflect.DelegatingMethodAccessorImpl:invoke:DelegatingMethodAccessorImpl.java:43', 'java.lang.reflect.Method:invoke:Method.java:498', 'org.apache.hadoop.hive.metastore.HiveMetaStoreClient$SynchronizedHandler:invoke:HiveMetaStoreClient.java:3428', 'com.sun.proxy.$Proxy35:createTable::-1', 'org.apache.hadoop.hive.ql.metadata.Hive:createTable:Hive.java:1128'], sqlState='08S01', errorCode=1, errorMessage='Error while compiling statement: FAILED: Execution Error, return code 1 from org.apache.hadoop.hive.ql.ddl.DDLTask. AlreadyExistsException(message:Table hive.default.edduser already exists)'), operationHandle=None)"
     ]
    }
   ],
   "source": [
    "cnx.execute(\"CREATE TABLE  edduser ( ID_A string, USER_NAME_A string, DEPARTMENT_CODE string, INIT_APPLICATION string, EMAIL_A string,DATDEBVLD date,DATFINVLD date,DAT_CHG date ,Dersit integer)ROW FORMAT DELIMITED FIELDS TERMINATED BY ','\")"
   ]
  },
  {
   "cell_type": "code",
   "execution_count": 174,
   "metadata": {},
   "outputs": [],
   "source": [
    "cnx.execute(\"load data  INPATH 'hdfs://master.com:8020/user/value/edd/hdfs-edduser.csv' overwrite into table edduser\")\n"
   ]
  },
  {
   "cell_type": "code",
   "execution_count": 175,
   "metadata": {},
   "outputs": [],
   "source": [
    "cnx.execute(\"select * from edduser\")"
   ]
  },
  {
   "cell_type": "code",
   "execution_count": 176,
   "metadata": {},
   "outputs": [],
   "source": [
    "newschema = cnx.fetchall()"
   ]
  },
  {
   "cell_type": "code",
   "execution_count": 177,
   "metadata": {},
   "outputs": [
    {
     "name": "stdout",
     "output_type": "stream",
     "text": [
      "[('B-00001', 'B00001', '555', '?278', 'B00001@biat.com.tn', '2021-08-12', '9999-12-31', '2021-08-12', 1), ('B-00002', 'B00002', '35', '?233', 'B00002@biat.com.tn', '2021-08-12', '9999-12-31', '2021-08-12', 1), ('B-00003', 'B00003', '299', '?202', 'B00003@biat.com.tn', '2021-08-12', '9999-12-31', '2021-08-12', 1), ('B-00004', 'B00004', '41', '?265', 'B00004@biat.com.tn', '2021-08-12', '9999-12-31', '2021-08-12', 1), ('B-00005', 'B00005', '605', '?266', 'B00005@biat.com.tn', '2021-08-12', '9999-12-31', '2021-08-12', 1), ('B-00006', 'B00006', '125', '?233', 'B00006@biat.com.tn', '2021-08-12', '9999-12-31', '2021-08-12', 1), ('B-00007', 'B00007', '103', '?202', 'B00007@biat.com.tn', '2021-08-12', '9999-12-31', '2021-08-12', 1)]\n"
     ]
    }
   ],
   "source": [
    "print(newschema)"
   ]
  },
  {
   "cell_type": "code",
   "execution_count": 178,
   "metadata": {},
   "outputs": [],
   "source": [
    "edd2 = spark.createDataFrame(newschema,['ID_A','USER_NAME_A','DEPARTMENT_CODE','INIT_APPLICATION','EMAIL_A','DATDEBVLD','DATFINVLD','DAT_CHG','Dersit'])\n"
   ]
  },
  {
   "cell_type": "code",
   "execution_count": 179,
   "metadata": {},
   "outputs": [
    {
     "name": "stdout",
     "output_type": "stream",
     "text": [
      "+-------+-----------+---------------+----------------+------------------+----------+----------+----------+------+\n",
      "|   ID_A|USER_NAME_A|DEPARTMENT_CODE|INIT_APPLICATION|           EMAIL_A| DATDEBVLD| DATFINVLD|   DAT_CHG|Dersit|\n",
      "+-------+-----------+---------------+----------------+------------------+----------+----------+----------+------+\n",
      "|B-00001|     B00001|            555|            ?278|B00001@biat.com.tn|2021-08-12|9999-12-31|2021-08-12|     1|\n",
      "|B-00002|     B00002|             35|            ?233|B00002@biat.com.tn|2021-08-12|9999-12-31|2021-08-12|     1|\n",
      "|B-00003|     B00003|            299|            ?202|B00003@biat.com.tn|2021-08-12|9999-12-31|2021-08-12|     1|\n",
      "|B-00004|     B00004|             41|            ?265|B00004@biat.com.tn|2021-08-12|9999-12-31|2021-08-12|     1|\n",
      "|B-00005|     B00005|            605|            ?266|B00005@biat.com.tn|2021-08-12|9999-12-31|2021-08-12|     1|\n",
      "|B-00006|     B00006|            125|            ?233|B00006@biat.com.tn|2021-08-12|9999-12-31|2021-08-12|     1|\n",
      "|B-00007|     B00007|            103|            ?202|B00007@biat.com.tn|2021-08-12|9999-12-31|2021-08-12|     1|\n",
      "+-------+-----------+---------------+----------------+------------------+----------+----------+----------+------+\n",
      "\n"
     ]
    }
   ],
   "source": [
    "edd2.show()"
   ]
  },
  {
   "cell_type": "code",
   "execution_count": null,
   "metadata": {},
   "outputs": [],
   "source": []
  }
 ],
 "metadata": {
  "kernelspec": {
   "display_name": "Python 3",
   "language": "python",
   "name": "python3"
  },
  "language_info": {
   "codemirror_mode": {
    "name": "ipython",
    "version": 3
   },
   "file_extension": ".py",
   "mimetype": "text/x-python",
   "name": "python",
   "nbconvert_exporter": "python",
   "pygments_lexer": "ipython3",
   "version": "3.7.3"
  }
 },
 "nbformat": 4,
 "nbformat_minor": 4
}
