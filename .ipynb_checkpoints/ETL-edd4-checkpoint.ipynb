{
 "cells": [
  {
   "cell_type": "code",
   "execution_count": 14,
   "metadata": {},
   "outputs": [],
   "source": [
    "from pyhive  import  hive\n",
    "from pyhive import  presto"
   ]
  },
  {
   "cell_type": "code",
   "execution_count": 15,
   "metadata": {},
   "outputs": [],
   "source": [
    "conn = hive.Connection(host=\"localhost\",port=10000,username=\"value\",database=\"default\")"
   ]
  },
  {
   "cell_type": "code",
   "execution_count": 16,
   "metadata": {},
   "outputs": [],
   "source": [
    "cnx = conn.cursor()"
   ]
  },
  {
   "cell_type": "code",
   "execution_count": 17,
   "metadata": {},
   "outputs": [],
   "source": [
    "cnx.execute(\"select * from O_T24_USER\")"
   ]
  },
  {
   "cell_type": "code",
   "execution_count": 18,
   "metadata": {},
   "outputs": [],
   "source": [
    "hiveods = cnx.fetchall()"
   ]
  },
  {
   "cell_type": "code",
   "execution_count": 19,
   "metadata": {},
   "outputs": [
    {
     "name": "stdout",
     "output_type": "stream",
     "text": [
      "[('B-00001', 'B000211', '222', '?255', 'B00001@biat.com.tn', '2021-08-18', '2021-08-18', 'null'), ('B-00002', 'B00002', '35', '?233', 'B00002@biat.com.tn', '2021-08-18', '2021-08-18', 'null'), ('B-00008', 'B00008', '125', '?233', 'B00008@biat.com.tn', '2021-08-18', '2021-08-18', 'null'), ('B-00009', 'B00009', '105', '?105', 'B00009@biat.com.tn', '2021-08-18', '2021-08-18', 'null'), ('B-00001', 'B00001', '555', '?278', 'B00001@biat.com.tn', '2021-08-18', '2021-08-18', '2021-08-18'), ('B-00002', 'B00002', '35', '?233', 'B00002@biat.com.tn', '2021-08-18', '2021-08-18', '2021-08-18'), ('B-00003', 'B00003', '299', '?202', 'B00003@biat.com.tn', '2021-08-18', '2021-08-18', '2021-08-18'), ('B-00004', 'B00004', '41', '?265', 'B00004@biat.com.tn', '2021-08-18', '2021-08-18', '2021-08-18'), ('B-00005', 'B00005', '605', '?266', 'B00005@biat.com.tn', '2021-08-18', '2021-08-18', '2021-08-18'), ('B-00006', 'B00006', '125', '?233', 'B00006@biat.com.tn', '2021-08-18', '2021-08-18', '2021-08-18'), ('B-00007', 'B00007', '103', '?202', 'B00007@biat.com.tn', '2021-08-18', '2021-08-18', '2021-08-18')]\n"
     ]
    }
   ],
   "source": [
    "print(hiveods)"
   ]
  },
  {
   "cell_type": "code",
   "execution_count": 20,
   "metadata": {},
   "outputs": [],
   "source": [
    "import pyspark\n",
    "from pyspark.sql import SparkSession"
   ]
  },
  {
   "cell_type": "code",
   "execution_count": 21,
   "metadata": {},
   "outputs": [],
   "source": [
    "spark = SparkSession.builder.getOrCreate()"
   ]
  },
  {
   "cell_type": "code",
   "execution_count": 22,
   "metadata": {},
   "outputs": [],
   "source": [
    "from pyspark import SparkContext\n",
    "from pyspark.sql import SQLContext\n",
    "from pyspark.sql.types import *"
   ]
  },
  {
   "cell_type": "code",
   "execution_count": 23,
   "metadata": {},
   "outputs": [],
   "source": [
    "df1= spark.createDataFrame(hiveods,['ID_A','USER_NAME_A','DEPARTMENT_CODE','INIT_APPLICATION','EMAIL_A','DAT_SIT','DAT_CHG','DAT_CSO'])\n"
   ]
  },
  {
   "cell_type": "code",
   "execution_count": 24,
   "metadata": {},
   "outputs": [
    {
     "name": "stdout",
     "output_type": "stream",
     "text": [
      "+-------+-----------+---------------+----------------+------------------+----------+----------+----------+\n",
      "|   ID_A|USER_NAME_A|DEPARTMENT_CODE|INIT_APPLICATION|           EMAIL_A|   DAT_SIT|   DAT_CHG|   DAT_CSO|\n",
      "+-------+-----------+---------------+----------------+------------------+----------+----------+----------+\n",
      "|B-00001|    B000211|            222|            ?255|B00001@biat.com.tn|2021-08-18|2021-08-18|      null|\n",
      "|B-00002|     B00002|             35|            ?233|B00002@biat.com.tn|2021-08-18|2021-08-18|      null|\n",
      "|B-00008|     B00008|            125|            ?233|B00008@biat.com.tn|2021-08-18|2021-08-18|      null|\n",
      "|B-00009|     B00009|            105|            ?105|B00009@biat.com.tn|2021-08-18|2021-08-18|      null|\n",
      "|B-00001|     B00001|            555|            ?278|B00001@biat.com.tn|2021-08-18|2021-08-18|2021-08-18|\n",
      "|B-00002|     B00002|             35|            ?233|B00002@biat.com.tn|2021-08-18|2021-08-18|2021-08-18|\n",
      "|B-00003|     B00003|            299|            ?202|B00003@biat.com.tn|2021-08-18|2021-08-18|2021-08-18|\n",
      "|B-00004|     B00004|             41|            ?265|B00004@biat.com.tn|2021-08-18|2021-08-18|2021-08-18|\n",
      "|B-00005|     B00005|            605|            ?266|B00005@biat.com.tn|2021-08-18|2021-08-18|2021-08-18|\n",
      "|B-00006|     B00006|            125|            ?233|B00006@biat.com.tn|2021-08-18|2021-08-18|2021-08-18|\n",
      "|B-00007|     B00007|            103|            ?202|B00007@biat.com.tn|2021-08-18|2021-08-18|2021-08-18|\n",
      "+-------+-----------+---------------+----------------+------------------+----------+----------+----------+\n",
      "\n"
     ]
    }
   ],
   "source": [
    "df1.show()"
   ]
  },
  {
   "cell_type": "code",
   "execution_count": 25,
   "metadata": {},
   "outputs": [],
   "source": [
    "edd1 = df1.select(\"ID_A\",\"USER_NAME_A\",\"DEPARTMENT_CODE\",\"INIT_APPLICATION\",\"EMAIL_A\").where(\"DAT_CSO == 'null'\")"
   ]
  },
  {
   "cell_type": "code",
   "execution_count": 26,
   "metadata": {},
   "outputs": [
    {
     "name": "stdout",
     "output_type": "stream",
     "text": [
      "+-------+-----------+---------------+----------------+------------------+\n",
      "|   ID_A|USER_NAME_A|DEPARTMENT_CODE|INIT_APPLICATION|           EMAIL_A|\n",
      "+-------+-----------+---------------+----------------+------------------+\n",
      "|B-00001|    B000211|            222|            ?255|B00001@biat.com.tn|\n",
      "|B-00002|     B00002|             35|            ?233|B00002@biat.com.tn|\n",
      "|B-00008|     B00008|            125|            ?233|B00008@biat.com.tn|\n",
      "|B-00009|     B00009|            105|            ?105|B00009@biat.com.tn|\n",
      "+-------+-----------+---------------+----------------+------------------+\n",
      "\n"
     ]
    }
   ],
   "source": [
    "edd1.show()"
   ]
  },
  {
   "cell_type": "code",
   "execution_count": 63,
   "metadata": {},
   "outputs": [
    {
     "name": "stdout",
     "output_type": "stream",
     "text": [
      "+----------+\n",
      "|   DAT_SIT|\n",
      "+----------+\n",
      "|2021-08-17|\n",
      "+----------+\n",
      "only showing top 1 row\n",
      "\n",
      "2021-08-17\n"
     ]
    }
   ],
   "source": [
    "import pyspark.sql.functions as F\n",
    "datadeb=df1.select(F.date_sub('DAT_SIT',1).alias('DAT_SIT')).where(\"DAT_CSO == 'null'\")\n",
    "datadeb.collect()[0]\n",
    "datadeb.show(1)\n",
    "daty = datadeb.first()['DAT_SIT']\n",
    "print(daty)"
   ]
  },
  {
   "cell_type": "code",
   "execution_count": 64,
   "metadata": {},
   "outputs": [
    {
     "data": {
      "text/plain": [
       "[('ID_A', 'string'),\n",
       " ('USER_NAME_A', 'string'),\n",
       " ('DEPARTMENT_CODE', 'string'),\n",
       " ('INIT_APPLICATION', 'string'),\n",
       " ('EMAIL_A', 'string')]"
      ]
     },
     "execution_count": 64,
     "metadata": {},
     "output_type": "execute_result"
    }
   ],
   "source": [
    "edd1.dtypes"
   ]
  },
  {
   "cell_type": "code",
   "execution_count": 65,
   "metadata": {},
   "outputs": [],
   "source": [
    "cnx.execute(\"select * from edduser\")"
   ]
  },
  {
   "cell_type": "code",
   "execution_count": 66,
   "metadata": {},
   "outputs": [],
   "source": [
    "newschema = cnx.fetchall()"
   ]
  },
  {
   "cell_type": "code",
   "execution_count": 67,
   "metadata": {},
   "outputs": [
    {
     "name": "stdout",
     "output_type": "stream",
     "text": [
      "[('B-00001', 'B00001', '555', '?278', 'B00001@biat.com.tn', '2021-08-18', '9999-12-31', '2021-08-18', 1, 1), ('B-00002', 'B00002', '35', '?233', 'B00002@biat.com.tn', '2021-08-18', '9999-12-31', '2021-08-18', 1, 2), ('B-00003', 'B00003', '299', '?202', 'B00003@biat.com.tn', '2021-08-18', '9999-12-31', '2021-08-18', 1, 3), ('B-00004', 'B00004', '41', '?265', 'B00004@biat.com.tn', '2021-08-18', '9999-12-31', '2021-08-18', 1, 4), ('B-00005', 'B00005', '605', '?266', 'B00005@biat.com.tn', '2021-08-18', '9999-12-31', '2021-08-18', 1, 5), ('B-00006', 'B00006', '125', '?233', 'B00006@biat.com.tn', '2021-08-18', '9999-12-31', '2021-08-18', 1, 6), ('B-00007', 'B00007', '103', '?202', 'B00007@biat.com.tn', '2021-08-18', '9999-12-31', '2021-08-18', 1, 7)]\n"
     ]
    }
   ],
   "source": [
    "print(newschema)"
   ]
  },
  {
   "cell_type": "code",
   "execution_count": 79,
   "metadata": {},
   "outputs": [],
   "source": [
    "edd2= spark.createDataFrame(newschema,['ID_A','USER_NAME_A','DEPARTMENT_CODE','INIT_APPLICATION','EMAIL_A','DATDEBVLD','DATFINVLD','DAT_CHG','Dersit','CDR'])\n"
   ]
  },
  {
   "cell_type": "code",
   "execution_count": 80,
   "metadata": {},
   "outputs": [
    {
     "name": "stdout",
     "output_type": "stream",
     "text": [
      "+-------+-----------+---------------+----------------+------------------+----------+----------+----------+------+---+\n",
      "|   ID_A|USER_NAME_A|DEPARTMENT_CODE|INIT_APPLICATION|           EMAIL_A| DATDEBVLD| DATFINVLD|   DAT_CHG|Dersit|CDR|\n",
      "+-------+-----------+---------------+----------------+------------------+----------+----------+----------+------+---+\n",
      "|B-00001|     B00001|            555|            ?278|B00001@biat.com.tn|2021-08-18|9999-12-31|2021-08-18|     1|  1|\n",
      "|B-00002|     B00002|             35|            ?233|B00002@biat.com.tn|2021-08-18|9999-12-31|2021-08-18|     1|  2|\n",
      "|B-00003|     B00003|            299|            ?202|B00003@biat.com.tn|2021-08-18|9999-12-31|2021-08-18|     1|  3|\n",
      "|B-00004|     B00004|             41|            ?265|B00004@biat.com.tn|2021-08-18|9999-12-31|2021-08-18|     1|  4|\n",
      "|B-00005|     B00005|            605|            ?266|B00005@biat.com.tn|2021-08-18|9999-12-31|2021-08-18|     1|  5|\n",
      "|B-00006|     B00006|            125|            ?233|B00006@biat.com.tn|2021-08-18|9999-12-31|2021-08-18|     1|  6|\n",
      "|B-00007|     B00007|            103|            ?202|B00007@biat.com.tn|2021-08-18|9999-12-31|2021-08-18|     1|  7|\n",
      "+-------+-----------+---------------+----------------+------------------+----------+----------+----------+------+---+\n",
      "\n"
     ]
    }
   ],
   "source": [
    "edd2.show()"
   ]
  },
  {
   "cell_type": "code",
   "execution_count": 81,
   "metadata": {},
   "outputs": [
    {
     "name": "stdout",
     "output_type": "stream",
     "text": [
      "root\n",
      " |-- ID_A: string (nullable = true)\n",
      " |-- USER_NAME_A: string (nullable = true)\n",
      " |-- DEPARTMENT_CODE: string (nullable = true)\n",
      " |-- INIT_APPLICATION: string (nullable = true)\n",
      " |-- EMAIL_A: string (nullable = true)\n",
      " |-- DATDEBVLD: string (nullable = true)\n",
      " |-- DATFINVLD: string (nullable = true)\n",
      " |-- DAT_CHG: string (nullable = true)\n",
      " |-- Dersit: long (nullable = true)\n",
      " |-- CDR: long (nullable = true)\n",
      "\n"
     ]
    }
   ],
   "source": [
    "edd2.printSchema()\n"
   ]
  },
  {
   "cell_type": "code",
   "execution_count": 82,
   "metadata": {},
   "outputs": [
    {
     "name": "stdout",
     "output_type": "stream",
     "text": [
      "root\n",
      " |-- ID_A: string (nullable = true)\n",
      " |-- USER_NAME_A: string (nullable = true)\n",
      " |-- DEPARTMENT_CODE: string (nullable = true)\n",
      " |-- INIT_APPLICATION: string (nullable = true)\n",
      " |-- EMAIL_A: string (nullable = true)\n",
      "\n"
     ]
    }
   ],
   "source": [
    "edd1.printSchema()"
   ]
  },
  {
   "cell_type": "code",
   "execution_count": 83,
   "metadata": {},
   "outputs": [
    {
     "name": "stdout",
     "output_type": "stream",
     "text": [
      "+-------+-----------+---------------+----------------+------------------+----------+----------+----------+------+---+\n",
      "|   ID_A|USER_NAME_A|DEPARTMENT_CODE|INIT_APPLICATION|           EMAIL_A| DATDEBVLD| DATFINVLD|   DAT_CHG|Dersit|CDR|\n",
      "+-------+-----------+---------------+----------------+------------------+----------+----------+----------+------+---+\n",
      "|B-00001|     B00001|            555|            ?278|B00001@biat.com.tn|2021-08-18|9999-12-31|2021-08-18|     1|  1|\n",
      "+-------+-----------+---------------+----------------+------------------+----------+----------+----------+------+---+\n",
      "\n",
      "+-------+-----------+---------------+----------------+------------------+----------+----------+----------+------+---+\n",
      "|   ID_A|USER_NAME_A|DEPARTMENT_CODE|INIT_APPLICATION|           EMAIL_A| DATDEBVLD| DATFINVLD|   DAT_CHG|Dersit|CDR|\n",
      "+-------+-----------+---------------+----------------+------------------+----------+----------+----------+------+---+\n",
      "|B-00001|     B00001|            555|            ?278|B00001@biat.com.tn|2021-08-18|2021-08-17|2021-08-18|     0|  1|\n",
      "+-------+-----------+---------------+----------------+------------------+----------+----------+----------+------+---+\n",
      "\n"
     ]
    }
   ],
   "source": [
    "from pyspark.sql.functions import col,array,when, array_remove,lit\n",
    "from pyspark.sql.functions import *\n",
    "\n",
    "conditions_ = [when(edd1[c]!= edd2[c], lit(c)).otherwise(\"\") for c in edd1.columns if c != 'ID_A']\n",
    "select_expr = [ \n",
    "    col(\"ID_A\"),\n",
    "    *[edd2[c] for c in edd2.columns if c != 'ID_A']\n",
    "]\n",
    "p=edd2.join(edd1,\"ID_A\").select(*select_expr)\n",
    "updatafiate = p.filter(p.ID_A == \"B-00001\")\n",
    "updatafiate.show()\n",
    "ods = updatafiate.withColumn('Dersit', regexp_replace('Dersit','1','0')).withColumn('DATFINVLD', regexp_replace('DATFINVLD','9999-12-31',str(daty)))\n",
    "ods.show()\n"
   ]
  },
  {
   "cell_type": "code",
   "execution_count": 84,
   "metadata": {},
   "outputs": [
    {
     "name": "stdout",
     "output_type": "stream",
     "text": [
      "+-------+-----------+---------------+----------------+------------------+----------+----------+----------+------+---+\n",
      "|   ID_A|USER_NAME_A|DEPARTMENT_CODE|INIT_APPLICATION|           EMAIL_A| DATDEBVLD| DATFINVLD|   DAT_CHG|Dersit|CDR|\n",
      "+-------+-----------+---------------+----------------+------------------+----------+----------+----------+------+---+\n",
      "|B-00002|     B00002|             35|            ?233|B00002@biat.com.tn|2021-08-18|9999-12-31|2021-08-18|     1|  2|\n",
      "|B-00003|     B00003|            299|            ?202|B00003@biat.com.tn|2021-08-18|9999-12-31|2021-08-18|     1|  3|\n",
      "|B-00004|     B00004|             41|            ?265|B00004@biat.com.tn|2021-08-18|9999-12-31|2021-08-18|     1|  4|\n",
      "|B-00005|     B00005|            605|            ?266|B00005@biat.com.tn|2021-08-18|9999-12-31|2021-08-18|     1|  5|\n",
      "|B-00006|     B00006|            125|            ?233|B00006@biat.com.tn|2021-08-18|9999-12-31|2021-08-18|     1|  6|\n",
      "|B-00007|     B00007|            103|            ?202|B00007@biat.com.tn|2021-08-18|9999-12-31|2021-08-18|     1|  7|\n",
      "|B-00001|     B00001|            555|            ?278|B00001@biat.com.tn|2021-08-18|2021-08-17|2021-08-18|     0|  1|\n",
      "+-------+-----------+---------------+----------------+------------------+----------+----------+----------+------+---+\n",
      "\n"
     ]
    }
   ],
   "source": [
    "oldedd=edd2.withColumn('New_col',\n",
    "                     when(edd2.ID_A != \"B-00001\", \"True\")\n",
    "                     \n",
    "                     ).filter(\"New_col == True\").drop(\"New_col\")\n",
    "dataset = oldedd.union(ods)\n",
    "oldedd.union(ods).show()"
   ]
  },
  {
   "cell_type": "code",
   "execution_count": 85,
   "metadata": {},
   "outputs": [
    {
     "name": "stdout",
     "output_type": "stream",
     "text": [
      "+-------+-----------+---------------+----------------+------------------+\n",
      "|   ID_A|USER_NAME_A|DEPARTMENT_CODE|INIT_APPLICATION|           EMAIL_A|\n",
      "+-------+-----------+---------------+----------------+------------------+\n",
      "|B-00001|    B000211|            222|            ?255|B00001@biat.com.tn|\n",
      "|B-00008|     B00008|            125|            ?233|B00008@biat.com.tn|\n",
      "|B-00009|     B00009|            105|            ?105|B00009@biat.com.tn|\n",
      "+-------+-----------+---------------+----------------+------------------+\n",
      "\n"
     ]
    }
   ],
   "source": [
    "oldods=edd1.withColumn('New_col',\n",
    "                     when(edd1.ID_A != \"B-00002\", \"True\")\n",
    "                     \n",
    "                     ).filter(\"New_col == True\").drop(\"New_col\")\n",
    "oldods.show()"
   ]
  },
  {
   "cell_type": "code",
   "execution_count": 86,
   "metadata": {},
   "outputs": [],
   "source": [
    "newedd = oldods.withColumn(\"DATDEBVLD\",to_date(current_timestamp())).withColumn(\"DATFINVLD\",lit(\"9999-12-31\")).withColumn(\"DAT_CHG\",to_date(current_timestamp())).withColumn(\"Dersit\",lit(1))"
   ]
  },
  {
   "cell_type": "code",
   "execution_count": 87,
   "metadata": {},
   "outputs": [
    {
     "name": "stdout",
     "output_type": "stream",
     "text": [
      "+-------+-----------+---------------+----------------+------------------+----------+----------+----------+------+\n",
      "|   ID_A|USER_NAME_A|DEPARTMENT_CODE|INIT_APPLICATION|           EMAIL_A| DATDEBVLD| DATFINVLD|   DAT_CHG|Dersit|\n",
      "+-------+-----------+---------------+----------------+------------------+----------+----------+----------+------+\n",
      "|B-00001|    B000211|            222|            ?255|B00001@biat.com.tn|2021-08-18|9999-12-31|2021-08-18|     1|\n",
      "|B-00008|     B00008|            125|            ?233|B00008@biat.com.tn|2021-08-18|9999-12-31|2021-08-18|     1|\n",
      "|B-00009|     B00009|            105|            ?105|B00009@biat.com.tn|2021-08-18|9999-12-31|2021-08-18|     1|\n",
      "+-------+-----------+---------------+----------------+------------------+----------+----------+----------+------+\n",
      "\n"
     ]
    }
   ],
   "source": [
    "newedd.show()"
   ]
  },
  {
   "cell_type": "code",
   "execution_count": 99,
   "metadata": {},
   "outputs": [],
   "source": [
    "A=newedd.join(edd2,newedd['ID_A']==edd2['ID_A'],'inner').select(newedd.ID_A).where(newedd['ID_A'].isNotNull())"
   ]
  },
  {
   "cell_type": "code",
   "execution_count": 102,
   "metadata": {},
   "outputs": [
    {
     "name": "stdout",
     "output_type": "stream",
     "text": [
      "+----+\n",
      "|ID_A|\n",
      "+----+\n",
      "|null|\n",
      "|null|\n",
      "|null|\n",
      "|null|\n",
      "|null|\n",
      "|null|\n",
      "+----+\n",
      "\n"
     ]
    }
   ],
   "source": [
    "newedd.join(edd2,newedd['ID_A']==edd2['ID_A'],'left').select(newedd.ID_A).where(newedd['ID_A'].isNull()).show()"
   ]
  },
  {
   "cell_type": "code",
   "execution_count": null,
   "metadata": {},
   "outputs": [],
   "source": [
    "newedd.USER_NAME_A,newedd.DEPARTMENT_CODE,newedd.INIT_APPLICATION,newedd.EMAIL_A,newedd.DATDEBVLD,newedd.DATFINVLD,newedd.DAT_CHG,newedd.Dersit"
   ]
  },
  {
   "cell_type": "code",
   "execution_count": 88,
   "metadata": {},
   "outputs": [
    {
     "ename": "AnalysisException",
     "evalue": "\"Union can only be performed on tables with the same number of columns, but the first table has 10 columns and the 2th table has 9 columns;;\\n'Union\\n:- Project [ID_A#546, USER_NAME_A#547, DEPARTMENT_CODE#548, INIT_APPLICATION#549, EMAIL_A#550, DATDEBVLD#551, DATFINVLD#552, DAT_CHG#553, cast(Dersit#554L as string) AS Dersit#727, CDR#555L]\\n:  +- Project [ID_A#546, USER_NAME_A#547, DEPARTMENT_CODE#548, INIT_APPLICATION#549, EMAIL_A#550, DATDEBVLD#551, DATFINVLD#552, DAT_CHG#553, Dersit#554L, CDR#555L]\\n:     +- Filter (cast(New_col#705 as boolean) = true)\\n:        +- Project [ID_A#546, USER_NAME_A#547, DEPARTMENT_CODE#548, INIT_APPLICATION#549, EMAIL_A#550, DATDEBVLD#551, DATFINVLD#552, DAT_CHG#553, Dersit#554L, CDR#555L, CASE WHEN NOT (ID_A#546 = B-00001) THEN True END AS New_col#705]\\n:           +- LogicalRDD [ID_A#546, USER_NAME_A#547, DEPARTMENT_CODE#548, INIT_APPLICATION#549, EMAIL_A#550, DATDEBVLD#551, DATFINVLD#552, DAT_CHG#553, Dersit#554L, CDR#555L], false\\n:- Project [ID_A#546, USER_NAME_A#547, DEPARTMENT_CODE#548, INIT_APPLICATION#549, EMAIL_A#550, DATDEBVLD#551, DATFINVLD#663, DAT_CHG#553, Dersit#652, CDR#555L]\\n:  +- Project [ID_A#546, USER_NAME_A#547, DEPARTMENT_CODE#548, INIT_APPLICATION#549, EMAIL_A#550, DATDEBVLD#551, regexp_replace(DATFINVLD#552, 9999-12-31, 2021-08-17) AS DATFINVLD#663, DAT_CHG#553, Dersit#652, CDR#555L]\\n:     +- Project [ID_A#546, USER_NAME_A#547, DEPARTMENT_CODE#548, INIT_APPLICATION#549, EMAIL_A#550, DATDEBVLD#551, DATFINVLD#552, DAT_CHG#553, regexp_replace(cast(Dersit#554L as string), 1, 0) AS Dersit#652, CDR#555L]\\n:        +- Filter (ID_A#546 = B-00001)\\n:           +- Project [ID_A#546, USER_NAME_A#547, DEPARTMENT_CODE#548, INIT_APPLICATION#549, EMAIL_A#550, DATDEBVLD#551, DATFINVLD#552, DAT_CHG#553, Dersit#554L, CDR#555L]\\n:              +- Project [ID_A#546, USER_NAME_A#547, DEPARTMENT_CODE#548, INIT_APPLICATION#549, EMAIL_A#550, DATDEBVLD#551, DATFINVLD#552, DAT_CHG#553, Dersit#554L, CDR#555L, USER_NAME_A#63, DEPARTMENT_CODE#64, INIT_APPLICATION#65, EMAIL_A#66]\\n:                 +- Join Inner, (ID_A#546 = ID_A#62)\\n:                    :- LogicalRDD [ID_A#546, USER_NAME_A#547, DEPARTMENT_CODE#548, INIT_APPLICATION#549, EMAIL_A#550, DATDEBVLD#551, DATFINVLD#552, DAT_CHG#553, Dersit#554L, CDR#555L], false\\n:                    +- Project [ID_A#62, USER_NAME_A#63, DEPARTMENT_CODE#64, INIT_APPLICATION#65, EMAIL_A#66]\\n:                       +- Filter (DAT_CSO#69 = null)\\n:                          +- Project [ID_A#62, USER_NAME_A#63, DEPARTMENT_CODE#64, INIT_APPLICATION#65, EMAIL_A#66, DAT_CSO#69]\\n:                             +- LogicalRDD [ID_A#62, USER_NAME_A#63, DEPARTMENT_CODE#64, INIT_APPLICATION#65, EMAIL_A#66, DAT_SIT#67, DAT_CHG#68, DAT_CSO#69], false\\n+- Project [ID_A#62, USER_NAME_A#63, DEPARTMENT_CODE#64, INIT_APPLICATION#65, EMAIL_A#66, DATDEBVLD#818, DATFINVLD#825, DAT_CHG#833, 1 AS Dersit#842]\\n   +- Project [ID_A#62, USER_NAME_A#63, DEPARTMENT_CODE#64, INIT_APPLICATION#65, EMAIL_A#66, DATDEBVLD#818, DATFINVLD#825, to_date(current_timestamp(), None) AS DAT_CHG#833]\\n      +- Project [ID_A#62, USER_NAME_A#63, DEPARTMENT_CODE#64, INIT_APPLICATION#65, EMAIL_A#66, DATDEBVLD#818, 9999-12-31 AS DATFINVLD#825]\\n         +- Project [ID_A#62, USER_NAME_A#63, DEPARTMENT_CODE#64, INIT_APPLICATION#65, EMAIL_A#66, to_date(current_timestamp(), None) AS DATDEBVLD#818]\\n            +- Project [ID_A#62, USER_NAME_A#63, DEPARTMENT_CODE#64, INIT_APPLICATION#65, EMAIL_A#66]\\n               +- Filter (cast(New_col#790 as boolean) = true)\\n                  +- Project [ID_A#62, USER_NAME_A#63, DEPARTMENT_CODE#64, INIT_APPLICATION#65, EMAIL_A#66, CASE WHEN NOT (ID_A#62 = B-00002) THEN True END AS New_col#790]\\n                     +- Project [ID_A#62, USER_NAME_A#63, DEPARTMENT_CODE#64, INIT_APPLICATION#65, EMAIL_A#66]\\n                        +- Filter (DAT_CSO#69 = null)\\n                           +- Project [ID_A#62, USER_NAME_A#63, DEPARTMENT_CODE#64, INIT_APPLICATION#65, EMAIL_A#66, DAT_CSO#69]\\n                              +- LogicalRDD [ID_A#62, USER_NAME_A#63, DEPARTMENT_CODE#64, INIT_APPLICATION#65, EMAIL_A#66, DAT_SIT#67, DAT_CHG#68, DAT_CSO#69], false\\n\"",
     "output_type": "error",
     "traceback": [
      "\u001b[0;31m---------------------------------------------------------------------------\u001b[0m",
      "\u001b[0;31mPy4JJavaError\u001b[0m                             Traceback (most recent call last)",
      "\u001b[0;32m~/anaconda3/lib/python3.7/site-packages/pyspark/sql/utils.py\u001b[0m in \u001b[0;36mdeco\u001b[0;34m(*a, **kw)\u001b[0m\n\u001b[1;32m     62\u001b[0m         \u001b[0;32mtry\u001b[0m\u001b[0;34m:\u001b[0m\u001b[0;34m\u001b[0m\u001b[0;34m\u001b[0m\u001b[0m\n\u001b[0;32m---> 63\u001b[0;31m             \u001b[0;32mreturn\u001b[0m \u001b[0mf\u001b[0m\u001b[0;34m(\u001b[0m\u001b[0;34m*\u001b[0m\u001b[0ma\u001b[0m\u001b[0;34m,\u001b[0m \u001b[0;34m**\u001b[0m\u001b[0mkw\u001b[0m\u001b[0;34m)\u001b[0m\u001b[0;34m\u001b[0m\u001b[0;34m\u001b[0m\u001b[0m\n\u001b[0m\u001b[1;32m     64\u001b[0m         \u001b[0;32mexcept\u001b[0m \u001b[0mpy4j\u001b[0m\u001b[0;34m.\u001b[0m\u001b[0mprotocol\u001b[0m\u001b[0;34m.\u001b[0m\u001b[0mPy4JJavaError\u001b[0m \u001b[0;32mas\u001b[0m \u001b[0me\u001b[0m\u001b[0;34m:\u001b[0m\u001b[0;34m\u001b[0m\u001b[0;34m\u001b[0m\u001b[0m\n",
      "\u001b[0;32m~/anaconda3/lib/python3.7/site-packages/py4j/protocol.py\u001b[0m in \u001b[0;36mget_return_value\u001b[0;34m(answer, gateway_client, target_id, name)\u001b[0m\n\u001b[1;32m    327\u001b[0m                     \u001b[0;34m\"An error occurred while calling {0}{1}{2}.\\n\"\u001b[0m\u001b[0;34m.\u001b[0m\u001b[0;34m\u001b[0m\u001b[0;34m\u001b[0m\u001b[0m\n\u001b[0;32m--> 328\u001b[0;31m                     format(target_id, \".\", name), value)\n\u001b[0m\u001b[1;32m    329\u001b[0m             \u001b[0;32melse\u001b[0m\u001b[0;34m:\u001b[0m\u001b[0;34m\u001b[0m\u001b[0;34m\u001b[0m\u001b[0m\n",
      "\u001b[0;31mPy4JJavaError\u001b[0m: An error occurred while calling o567.union.\n: org.apache.spark.sql.AnalysisException: Union can only be performed on tables with the same number of columns, but the first table has 10 columns and the 2th table has 9 columns;;\n'Union\n:- Project [ID_A#546, USER_NAME_A#547, DEPARTMENT_CODE#548, INIT_APPLICATION#549, EMAIL_A#550, DATDEBVLD#551, DATFINVLD#552, DAT_CHG#553, cast(Dersit#554L as string) AS Dersit#727, CDR#555L]\n:  +- Project [ID_A#546, USER_NAME_A#547, DEPARTMENT_CODE#548, INIT_APPLICATION#549, EMAIL_A#550, DATDEBVLD#551, DATFINVLD#552, DAT_CHG#553, Dersit#554L, CDR#555L]\n:     +- Filter (cast(New_col#705 as boolean) = true)\n:        +- Project [ID_A#546, USER_NAME_A#547, DEPARTMENT_CODE#548, INIT_APPLICATION#549, EMAIL_A#550, DATDEBVLD#551, DATFINVLD#552, DAT_CHG#553, Dersit#554L, CDR#555L, CASE WHEN NOT (ID_A#546 = B-00001) THEN True END AS New_col#705]\n:           +- LogicalRDD [ID_A#546, USER_NAME_A#547, DEPARTMENT_CODE#548, INIT_APPLICATION#549, EMAIL_A#550, DATDEBVLD#551, DATFINVLD#552, DAT_CHG#553, Dersit#554L, CDR#555L], false\n:- Project [ID_A#546, USER_NAME_A#547, DEPARTMENT_CODE#548, INIT_APPLICATION#549, EMAIL_A#550, DATDEBVLD#551, DATFINVLD#663, DAT_CHG#553, Dersit#652, CDR#555L]\n:  +- Project [ID_A#546, USER_NAME_A#547, DEPARTMENT_CODE#548, INIT_APPLICATION#549, EMAIL_A#550, DATDEBVLD#551, regexp_replace(DATFINVLD#552, 9999-12-31, 2021-08-17) AS DATFINVLD#663, DAT_CHG#553, Dersit#652, CDR#555L]\n:     +- Project [ID_A#546, USER_NAME_A#547, DEPARTMENT_CODE#548, INIT_APPLICATION#549, EMAIL_A#550, DATDEBVLD#551, DATFINVLD#552, DAT_CHG#553, regexp_replace(cast(Dersit#554L as string), 1, 0) AS Dersit#652, CDR#555L]\n:        +- Filter (ID_A#546 = B-00001)\n:           +- Project [ID_A#546, USER_NAME_A#547, DEPARTMENT_CODE#548, INIT_APPLICATION#549, EMAIL_A#550, DATDEBVLD#551, DATFINVLD#552, DAT_CHG#553, Dersit#554L, CDR#555L]\n:              +- Project [ID_A#546, USER_NAME_A#547, DEPARTMENT_CODE#548, INIT_APPLICATION#549, EMAIL_A#550, DATDEBVLD#551, DATFINVLD#552, DAT_CHG#553, Dersit#554L, CDR#555L, USER_NAME_A#63, DEPARTMENT_CODE#64, INIT_APPLICATION#65, EMAIL_A#66]\n:                 +- Join Inner, (ID_A#546 = ID_A#62)\n:                    :- LogicalRDD [ID_A#546, USER_NAME_A#547, DEPARTMENT_CODE#548, INIT_APPLICATION#549, EMAIL_A#550, DATDEBVLD#551, DATFINVLD#552, DAT_CHG#553, Dersit#554L, CDR#555L], false\n:                    +- Project [ID_A#62, USER_NAME_A#63, DEPARTMENT_CODE#64, INIT_APPLICATION#65, EMAIL_A#66]\n:                       +- Filter (DAT_CSO#69 = null)\n:                          +- Project [ID_A#62, USER_NAME_A#63, DEPARTMENT_CODE#64, INIT_APPLICATION#65, EMAIL_A#66, DAT_CSO#69]\n:                             +- LogicalRDD [ID_A#62, USER_NAME_A#63, DEPARTMENT_CODE#64, INIT_APPLICATION#65, EMAIL_A#66, DAT_SIT#67, DAT_CHG#68, DAT_CSO#69], false\n+- Project [ID_A#62, USER_NAME_A#63, DEPARTMENT_CODE#64, INIT_APPLICATION#65, EMAIL_A#66, DATDEBVLD#818, DATFINVLD#825, DAT_CHG#833, 1 AS Dersit#842]\n   +- Project [ID_A#62, USER_NAME_A#63, DEPARTMENT_CODE#64, INIT_APPLICATION#65, EMAIL_A#66, DATDEBVLD#818, DATFINVLD#825, to_date(current_timestamp(), None) AS DAT_CHG#833]\n      +- Project [ID_A#62, USER_NAME_A#63, DEPARTMENT_CODE#64, INIT_APPLICATION#65, EMAIL_A#66, DATDEBVLD#818, 9999-12-31 AS DATFINVLD#825]\n         +- Project [ID_A#62, USER_NAME_A#63, DEPARTMENT_CODE#64, INIT_APPLICATION#65, EMAIL_A#66, to_date(current_timestamp(), None) AS DATDEBVLD#818]\n            +- Project [ID_A#62, USER_NAME_A#63, DEPARTMENT_CODE#64, INIT_APPLICATION#65, EMAIL_A#66]\n               +- Filter (cast(New_col#790 as boolean) = true)\n                  +- Project [ID_A#62, USER_NAME_A#63, DEPARTMENT_CODE#64, INIT_APPLICATION#65, EMAIL_A#66, CASE WHEN NOT (ID_A#62 = B-00002) THEN True END AS New_col#790]\n                     +- Project [ID_A#62, USER_NAME_A#63, DEPARTMENT_CODE#64, INIT_APPLICATION#65, EMAIL_A#66]\n                        +- Filter (DAT_CSO#69 = null)\n                           +- Project [ID_A#62, USER_NAME_A#63, DEPARTMENT_CODE#64, INIT_APPLICATION#65, EMAIL_A#66, DAT_CSO#69]\n                              +- LogicalRDD [ID_A#62, USER_NAME_A#63, DEPARTMENT_CODE#64, INIT_APPLICATION#65, EMAIL_A#66, DAT_SIT#67, DAT_CHG#68, DAT_CSO#69], false\n\n\tat org.apache.spark.sql.catalyst.analysis.CheckAnalysis$class.failAnalysis(CheckAnalysis.scala:43)\n\tat org.apache.spark.sql.catalyst.analysis.Analyzer.failAnalysis(Analyzer.scala:95)\n\tat org.apache.spark.sql.catalyst.analysis.CheckAnalysis$$anonfun$checkAnalysis$1$$anonfun$apply$12.apply(CheckAnalysis.scala:283)\n\tat org.apache.spark.sql.catalyst.analysis.CheckAnalysis$$anonfun$checkAnalysis$1$$anonfun$apply$12.apply(CheckAnalysis.scala:280)\n\tat scala.collection.mutable.ResizableArray$class.foreach(ResizableArray.scala:59)\n\tat scala.collection.mutable.ArrayBuffer.foreach(ArrayBuffer.scala:48)\n\tat org.apache.spark.sql.catalyst.analysis.CheckAnalysis$$anonfun$checkAnalysis$1.apply(CheckAnalysis.scala:280)\n\tat org.apache.spark.sql.catalyst.analysis.CheckAnalysis$$anonfun$checkAnalysis$1.apply(CheckAnalysis.scala:86)\n\tat org.apache.spark.sql.catalyst.trees.TreeNode.foreachUp(TreeNode.scala:126)\n\tat org.apache.spark.sql.catalyst.analysis.CheckAnalysis$class.checkAnalysis(CheckAnalysis.scala:86)\n\tat org.apache.spark.sql.catalyst.analysis.Analyzer.checkAnalysis(Analyzer.scala:95)\n\tat org.apache.spark.sql.catalyst.analysis.Analyzer$$anonfun$executeAndCheck$1.apply(Analyzer.scala:108)\n\tat org.apache.spark.sql.catalyst.analysis.Analyzer$$anonfun$executeAndCheck$1.apply(Analyzer.scala:105)\n\tat org.apache.spark.sql.catalyst.plans.logical.AnalysisHelper$.markInAnalyzer(AnalysisHelper.scala:201)\n\tat org.apache.spark.sql.catalyst.analysis.Analyzer.executeAndCheck(Analyzer.scala:105)\n\tat org.apache.spark.sql.execution.QueryExecution.analyzed$lzycompute(QueryExecution.scala:58)\n\tat org.apache.spark.sql.execution.QueryExecution.analyzed(QueryExecution.scala:56)\n\tat org.apache.spark.sql.execution.QueryExecution.assertAnalyzed(QueryExecution.scala:48)\n\tat org.apache.spark.sql.Dataset$.ofRows(Dataset.scala:78)\n\tat org.apache.spark.sql.Dataset.withSetOperator(Dataset.scala:3424)\n\tat org.apache.spark.sql.Dataset.union(Dataset.scala:1862)\n\tat sun.reflect.NativeMethodAccessorImpl.invoke0(Native Method)\n\tat sun.reflect.NativeMethodAccessorImpl.invoke(NativeMethodAccessorImpl.java:62)\n\tat sun.reflect.DelegatingMethodAccessorImpl.invoke(DelegatingMethodAccessorImpl.java:43)\n\tat java.lang.reflect.Method.invoke(Method.java:498)\n\tat py4j.reflection.MethodInvoker.invoke(MethodInvoker.java:244)\n\tat py4j.reflection.ReflectionEngine.invoke(ReflectionEngine.java:357)\n\tat py4j.Gateway.invoke(Gateway.java:282)\n\tat py4j.commands.AbstractCommand.invokeMethod(AbstractCommand.java:132)\n\tat py4j.commands.CallCommand.execute(CallCommand.java:79)\n\tat py4j.GatewayConnection.run(GatewayConnection.java:238)\n\tat java.lang.Thread.run(Thread.java:748)\n",
      "\nDuring handling of the above exception, another exception occurred:\n",
      "\u001b[0;31mAnalysisException\u001b[0m                         Traceback (most recent call last)",
      "\u001b[0;32m<ipython-input-88-28c189ec2bdb>\u001b[0m in \u001b[0;36m<module>\u001b[0;34m\u001b[0m\n\u001b[0;32m----> 1\u001b[0;31m \u001b[0mdataset\u001b[0m\u001b[0;34m.\u001b[0m\u001b[0munion\u001b[0m\u001b[0;34m(\u001b[0m\u001b[0mnewedd\u001b[0m\u001b[0;34m)\u001b[0m\u001b[0;34m.\u001b[0m\u001b[0mshow\u001b[0m\u001b[0;34m(\u001b[0m\u001b[0;34m)\u001b[0m\u001b[0;34m\u001b[0m\u001b[0;34m\u001b[0m\u001b[0m\n\u001b[0m\u001b[1;32m      2\u001b[0m \u001b[0mfinaledd\u001b[0m  \u001b[0;34m=\u001b[0m \u001b[0mdataset\u001b[0m\u001b[0;34m.\u001b[0m\u001b[0munion\u001b[0m\u001b[0;34m(\u001b[0m\u001b[0mnewedd\u001b[0m\u001b[0;34m)\u001b[0m\u001b[0;34m\u001b[0m\u001b[0;34m\u001b[0m\u001b[0m\n",
      "\u001b[0;32m~/anaconda3/lib/python3.7/site-packages/pyspark/sql/dataframe.py\u001b[0m in \u001b[0;36munion\u001b[0;34m(self, other)\u001b[0m\n\u001b[1;32m   1460\u001b[0m         \u001b[0mAlso\u001b[0m \u001b[0;32mas\u001b[0m \u001b[0mstandard\u001b[0m \u001b[0;32min\u001b[0m \u001b[0mSQL\u001b[0m\u001b[0;34m,\u001b[0m \u001b[0mthis\u001b[0m \u001b[0mfunction\u001b[0m \u001b[0mresolves\u001b[0m \u001b[0mcolumns\u001b[0m \u001b[0mby\u001b[0m \u001b[0mposition\u001b[0m \u001b[0;34m(\u001b[0m\u001b[0;32mnot\u001b[0m \u001b[0mby\u001b[0m \u001b[0mname\u001b[0m\u001b[0;34m)\u001b[0m\u001b[0;34m.\u001b[0m\u001b[0;34m\u001b[0m\u001b[0;34m\u001b[0m\u001b[0m\n\u001b[1;32m   1461\u001b[0m         \"\"\"\n\u001b[0;32m-> 1462\u001b[0;31m         \u001b[0;32mreturn\u001b[0m \u001b[0mDataFrame\u001b[0m\u001b[0;34m(\u001b[0m\u001b[0mself\u001b[0m\u001b[0;34m.\u001b[0m\u001b[0m_jdf\u001b[0m\u001b[0;34m.\u001b[0m\u001b[0munion\u001b[0m\u001b[0;34m(\u001b[0m\u001b[0mother\u001b[0m\u001b[0;34m.\u001b[0m\u001b[0m_jdf\u001b[0m\u001b[0;34m)\u001b[0m\u001b[0;34m,\u001b[0m \u001b[0mself\u001b[0m\u001b[0;34m.\u001b[0m\u001b[0msql_ctx\u001b[0m\u001b[0;34m)\u001b[0m\u001b[0;34m\u001b[0m\u001b[0;34m\u001b[0m\u001b[0m\n\u001b[0m\u001b[1;32m   1463\u001b[0m \u001b[0;34m\u001b[0m\u001b[0m\n\u001b[1;32m   1464\u001b[0m     \u001b[0;34m@\u001b[0m\u001b[0msince\u001b[0m\u001b[0;34m(\u001b[0m\u001b[0;36m1.3\u001b[0m\u001b[0;34m)\u001b[0m\u001b[0;34m\u001b[0m\u001b[0;34m\u001b[0m\u001b[0m\n",
      "\u001b[0;32m~/anaconda3/lib/python3.7/site-packages/py4j/java_gateway.py\u001b[0m in \u001b[0;36m__call__\u001b[0;34m(self, *args)\u001b[0m\n\u001b[1;32m   1255\u001b[0m         \u001b[0manswer\u001b[0m \u001b[0;34m=\u001b[0m \u001b[0mself\u001b[0m\u001b[0;34m.\u001b[0m\u001b[0mgateway_client\u001b[0m\u001b[0;34m.\u001b[0m\u001b[0msend_command\u001b[0m\u001b[0;34m(\u001b[0m\u001b[0mcommand\u001b[0m\u001b[0;34m)\u001b[0m\u001b[0;34m\u001b[0m\u001b[0;34m\u001b[0m\u001b[0m\n\u001b[1;32m   1256\u001b[0m         return_value = get_return_value(\n\u001b[0;32m-> 1257\u001b[0;31m             answer, self.gateway_client, self.target_id, self.name)\n\u001b[0m\u001b[1;32m   1258\u001b[0m \u001b[0;34m\u001b[0m\u001b[0m\n\u001b[1;32m   1259\u001b[0m         \u001b[0;32mfor\u001b[0m \u001b[0mtemp_arg\u001b[0m \u001b[0;32min\u001b[0m \u001b[0mtemp_args\u001b[0m\u001b[0;34m:\u001b[0m\u001b[0;34m\u001b[0m\u001b[0;34m\u001b[0m\u001b[0m\n",
      "\u001b[0;32m~/anaconda3/lib/python3.7/site-packages/pyspark/sql/utils.py\u001b[0m in \u001b[0;36mdeco\u001b[0;34m(*a, **kw)\u001b[0m\n\u001b[1;32m     67\u001b[0m                                              e.java_exception.getStackTrace()))\n\u001b[1;32m     68\u001b[0m             \u001b[0;32mif\u001b[0m \u001b[0ms\u001b[0m\u001b[0;34m.\u001b[0m\u001b[0mstartswith\u001b[0m\u001b[0;34m(\u001b[0m\u001b[0;34m'org.apache.spark.sql.AnalysisException: '\u001b[0m\u001b[0;34m)\u001b[0m\u001b[0;34m:\u001b[0m\u001b[0;34m\u001b[0m\u001b[0;34m\u001b[0m\u001b[0m\n\u001b[0;32m---> 69\u001b[0;31m                 \u001b[0;32mraise\u001b[0m \u001b[0mAnalysisException\u001b[0m\u001b[0;34m(\u001b[0m\u001b[0ms\u001b[0m\u001b[0;34m.\u001b[0m\u001b[0msplit\u001b[0m\u001b[0;34m(\u001b[0m\u001b[0;34m': '\u001b[0m\u001b[0;34m,\u001b[0m \u001b[0;36m1\u001b[0m\u001b[0;34m)\u001b[0m\u001b[0;34m[\u001b[0m\u001b[0;36m1\u001b[0m\u001b[0;34m]\u001b[0m\u001b[0;34m,\u001b[0m \u001b[0mstackTrace\u001b[0m\u001b[0;34m)\u001b[0m\u001b[0;34m\u001b[0m\u001b[0;34m\u001b[0m\u001b[0m\n\u001b[0m\u001b[1;32m     70\u001b[0m             \u001b[0;32mif\u001b[0m \u001b[0ms\u001b[0m\u001b[0;34m.\u001b[0m\u001b[0mstartswith\u001b[0m\u001b[0;34m(\u001b[0m\u001b[0;34m'org.apache.spark.sql.catalyst.analysis'\u001b[0m\u001b[0;34m)\u001b[0m\u001b[0;34m:\u001b[0m\u001b[0;34m\u001b[0m\u001b[0;34m\u001b[0m\u001b[0m\n\u001b[1;32m     71\u001b[0m                 \u001b[0;32mraise\u001b[0m \u001b[0mAnalysisException\u001b[0m\u001b[0;34m(\u001b[0m\u001b[0ms\u001b[0m\u001b[0;34m.\u001b[0m\u001b[0msplit\u001b[0m\u001b[0;34m(\u001b[0m\u001b[0;34m': '\u001b[0m\u001b[0;34m,\u001b[0m \u001b[0;36m1\u001b[0m\u001b[0;34m)\u001b[0m\u001b[0;34m[\u001b[0m\u001b[0;36m1\u001b[0m\u001b[0;34m]\u001b[0m\u001b[0;34m,\u001b[0m \u001b[0mstackTrace\u001b[0m\u001b[0;34m)\u001b[0m\u001b[0;34m\u001b[0m\u001b[0;34m\u001b[0m\u001b[0m\n",
      "\u001b[0;31mAnalysisException\u001b[0m: \"Union can only be performed on tables with the same number of columns, but the first table has 10 columns and the 2th table has 9 columns;;\\n'Union\\n:- Project [ID_A#546, USER_NAME_A#547, DEPARTMENT_CODE#548, INIT_APPLICATION#549, EMAIL_A#550, DATDEBVLD#551, DATFINVLD#552, DAT_CHG#553, cast(Dersit#554L as string) AS Dersit#727, CDR#555L]\\n:  +- Project [ID_A#546, USER_NAME_A#547, DEPARTMENT_CODE#548, INIT_APPLICATION#549, EMAIL_A#550, DATDEBVLD#551, DATFINVLD#552, DAT_CHG#553, Dersit#554L, CDR#555L]\\n:     +- Filter (cast(New_col#705 as boolean) = true)\\n:        +- Project [ID_A#546, USER_NAME_A#547, DEPARTMENT_CODE#548, INIT_APPLICATION#549, EMAIL_A#550, DATDEBVLD#551, DATFINVLD#552, DAT_CHG#553, Dersit#554L, CDR#555L, CASE WHEN NOT (ID_A#546 = B-00001) THEN True END AS New_col#705]\\n:           +- LogicalRDD [ID_A#546, USER_NAME_A#547, DEPARTMENT_CODE#548, INIT_APPLICATION#549, EMAIL_A#550, DATDEBVLD#551, DATFINVLD#552, DAT_CHG#553, Dersit#554L, CDR#555L], false\\n:- Project [ID_A#546, USER_NAME_A#547, DEPARTMENT_CODE#548, INIT_APPLICATION#549, EMAIL_A#550, DATDEBVLD#551, DATFINVLD#663, DAT_CHG#553, Dersit#652, CDR#555L]\\n:  +- Project [ID_A#546, USER_NAME_A#547, DEPARTMENT_CODE#548, INIT_APPLICATION#549, EMAIL_A#550, DATDEBVLD#551, regexp_replace(DATFINVLD#552, 9999-12-31, 2021-08-17) AS DATFINVLD#663, DAT_CHG#553, Dersit#652, CDR#555L]\\n:     +- Project [ID_A#546, USER_NAME_A#547, DEPARTMENT_CODE#548, INIT_APPLICATION#549, EMAIL_A#550, DATDEBVLD#551, DATFINVLD#552, DAT_CHG#553, regexp_replace(cast(Dersit#554L as string), 1, 0) AS Dersit#652, CDR#555L]\\n:        +- Filter (ID_A#546 = B-00001)\\n:           +- Project [ID_A#546, USER_NAME_A#547, DEPARTMENT_CODE#548, INIT_APPLICATION#549, EMAIL_A#550, DATDEBVLD#551, DATFINVLD#552, DAT_CHG#553, Dersit#554L, CDR#555L]\\n:              +- Project [ID_A#546, USER_NAME_A#547, DEPARTMENT_CODE#548, INIT_APPLICATION#549, EMAIL_A#550, DATDEBVLD#551, DATFINVLD#552, DAT_CHG#553, Dersit#554L, CDR#555L, USER_NAME_A#63, DEPARTMENT_CODE#64, INIT_APPLICATION#65, EMAIL_A#66]\\n:                 +- Join Inner, (ID_A#546 = ID_A#62)\\n:                    :- LogicalRDD [ID_A#546, USER_NAME_A#547, DEPARTMENT_CODE#548, INIT_APPLICATION#549, EMAIL_A#550, DATDEBVLD#551, DATFINVLD#552, DAT_CHG#553, Dersit#554L, CDR#555L], false\\n:                    +- Project [ID_A#62, USER_NAME_A#63, DEPARTMENT_CODE#64, INIT_APPLICATION#65, EMAIL_A#66]\\n:                       +- Filter (DAT_CSO#69 = null)\\n:                          +- Project [ID_A#62, USER_NAME_A#63, DEPARTMENT_CODE#64, INIT_APPLICATION#65, EMAIL_A#66, DAT_CSO#69]\\n:                             +- LogicalRDD [ID_A#62, USER_NAME_A#63, DEPARTMENT_CODE#64, INIT_APPLICATION#65, EMAIL_A#66, DAT_SIT#67, DAT_CHG#68, DAT_CSO#69], false\\n+- Project [ID_A#62, USER_NAME_A#63, DEPARTMENT_CODE#64, INIT_APPLICATION#65, EMAIL_A#66, DATDEBVLD#818, DATFINVLD#825, DAT_CHG#833, 1 AS Dersit#842]\\n   +- Project [ID_A#62, USER_NAME_A#63, DEPARTMENT_CODE#64, INIT_APPLICATION#65, EMAIL_A#66, DATDEBVLD#818, DATFINVLD#825, to_date(current_timestamp(), None) AS DAT_CHG#833]\\n      +- Project [ID_A#62, USER_NAME_A#63, DEPARTMENT_CODE#64, INIT_APPLICATION#65, EMAIL_A#66, DATDEBVLD#818, 9999-12-31 AS DATFINVLD#825]\\n         +- Project [ID_A#62, USER_NAME_A#63, DEPARTMENT_CODE#64, INIT_APPLICATION#65, EMAIL_A#66, to_date(current_timestamp(), None) AS DATDEBVLD#818]\\n            +- Project [ID_A#62, USER_NAME_A#63, DEPARTMENT_CODE#64, INIT_APPLICATION#65, EMAIL_A#66]\\n               +- Filter (cast(New_col#790 as boolean) = true)\\n                  +- Project [ID_A#62, USER_NAME_A#63, DEPARTMENT_CODE#64, INIT_APPLICATION#65, EMAIL_A#66, CASE WHEN NOT (ID_A#62 = B-00002) THEN True END AS New_col#790]\\n                     +- Project [ID_A#62, USER_NAME_A#63, DEPARTMENT_CODE#64, INIT_APPLICATION#65, EMAIL_A#66]\\n                        +- Filter (DAT_CSO#69 = null)\\n                           +- Project [ID_A#62, USER_NAME_A#63, DEPARTMENT_CODE#64, INIT_APPLICATION#65, EMAIL_A#66, DAT_CSO#69]\\n                              +- LogicalRDD [ID_A#62, USER_NAME_A#63, DEPARTMENT_CODE#64, INIT_APPLICATION#65, EMAIL_A#66, DAT_SIT#67, DAT_CHG#68, DAT_CSO#69], false\\n\""
     ]
    }
   ],
   "source": [
    "dataset.union(newedd).show()\n",
    "finaledd  = dataset.union(newedd)"
   ]
  },
  {
   "cell_type": "code",
   "execution_count": 77,
   "metadata": {},
   "outputs": [
    {
     "name": "stdout",
     "output_type": "stream",
     "text": [
      "+-------+-----------+---------------+----------------+------------------+----------+----------+----------+------+\n",
      "|   ID_A|USER_NAME_A|DEPARTMENT_CODE|INIT_APPLICATION|           EMAIL_A| DATDEBVLD| DATFINVLD|   DAT_CHG|Dersit|\n",
      "+-------+-----------+---------------+----------------+------------------+----------+----------+----------+------+\n",
      "|B-00002|     B00002|             35|            ?233|B00002@biat.com.tn|2021-08-12|9999-12-31|2021-08-12|     1|\n",
      "|B-00003|     B00003|            299|            ?202|B00003@biat.com.tn|2021-08-12|9999-12-31|2021-08-12|     1|\n",
      "|B-00004|     B00004|             41|            ?265|B00004@biat.com.tn|2021-08-12|9999-12-31|2021-08-12|     1|\n",
      "|B-00005|     B00005|            605|            ?266|B00005@biat.com.tn|2021-08-12|9999-12-31|2021-08-12|     1|\n",
      "|B-00006|     B00006|            125|            ?233|B00006@biat.com.tn|2021-08-12|9999-12-31|2021-08-12|     1|\n",
      "|B-00007|     B00007|            103|            ?202|B00007@biat.com.tn|2021-08-12|9999-12-31|2021-08-12|     1|\n",
      "|B-00001|     B00001|            555|            ?278|B00001@biat.com.tn|2021-08-12|9999-12-31|2021-08-12|     0|\n",
      "|B-00001|    B000211|            222|            ?255|B00001@biat.com.tn|2021-08-12|9999-12-31|2021-08-12|     1|\n",
      "|B-00008|     B00008|            125|            ?233|B00008@biat.com.tn|2021-08-12|9999-12-31|2021-08-12|     1|\n",
      "|B-00009|     B00009|            105|            ?105|B00009@biat.com.tn|2021-08-12|9999-12-31|2021-08-12|     1|\n",
      "+-------+-----------+---------------+----------------+------------------+----------+----------+----------+------+\n",
      "\n"
     ]
    }
   ],
   "source": [
    "finaledd.show()"
   ]
  },
  {
   "cell_type": "code",
   "execution_count": 78,
   "metadata": {},
   "outputs": [],
   "source": [
    "finaledd.coalesce(1).write.csv(\"hdfs://master.com:8020/user/value/edd/hdfs-FINALEDD.csv\")"
   ]
  },
  {
   "cell_type": "code",
   "execution_count": 79,
   "metadata": {},
   "outputs": [],
   "source": [
    "df_hdfs = spark.read.option(\"header\",\"true\").option(\"delimiter\",\",\").option(\"inferSchema\",\"true\").csv(\"hdfs://master.com:8020/user/value/edd/hdfs-FINALEDD.csv\")"
   ]
  },
  {
   "cell_type": "code",
   "execution_count": 80,
   "metadata": {},
   "outputs": [
    {
     "name": "stdout",
     "output_type": "stream",
     "text": [
      "+-------+-------+---+----+------------------+-------------------+-------------------+-------------------+---+\n",
      "|B-00002| B00002| 35|?233|B00002@biat.com.tn|        2021-08-125|         9999-12-31|        2021-08-127|  1|\n",
      "+-------+-------+---+----+------------------+-------------------+-------------------+-------------------+---+\n",
      "|B-00003| B00003|299|?202|B00003@biat.com.tn|2021-08-12 00:00:00|9999-12-31 00:00:00|2021-08-12 00:00:00|  1|\n",
      "|B-00004| B00004| 41|?265|B00004@biat.com.tn|2021-08-12 00:00:00|9999-12-31 00:00:00|2021-08-12 00:00:00|  1|\n",
      "|B-00005| B00005|605|?266|B00005@biat.com.tn|2021-08-12 00:00:00|9999-12-31 00:00:00|2021-08-12 00:00:00|  1|\n",
      "|B-00006| B00006|125|?233|B00006@biat.com.tn|2021-08-12 00:00:00|9999-12-31 00:00:00|2021-08-12 00:00:00|  1|\n",
      "|B-00007| B00007|103|?202|B00007@biat.com.tn|2021-08-12 00:00:00|9999-12-31 00:00:00|2021-08-12 00:00:00|  1|\n",
      "|B-00001| B00001|555|?278|B00001@biat.com.tn|2021-08-12 00:00:00|9999-12-31 00:00:00|2021-08-12 00:00:00|  0|\n",
      "|B-00001|B000211|222|?255|B00001@biat.com.tn|2021-08-12 00:00:00|9999-12-31 00:00:00|2021-08-12 00:00:00|  1|\n",
      "|B-00008| B00008|125|?233|B00008@biat.com.tn|2021-08-12 00:00:00|9999-12-31 00:00:00|2021-08-12 00:00:00|  1|\n",
      "|B-00009| B00009|105|?105|B00009@biat.com.tn|2021-08-12 00:00:00|9999-12-31 00:00:00|2021-08-12 00:00:00|  1|\n",
      "+-------+-------+---+----+------------------+-------------------+-------------------+-------------------+---+\n",
      "\n"
     ]
    }
   ],
   "source": [
    "df_hdfs.show()"
   ]
  },
  {
   "cell_type": "code",
   "execution_count": 81,
   "metadata": {},
   "outputs": [],
   "source": [
    "\n",
    "cnx.execute(\"load data  INPATH 'hdfs://master.com:8020/user/value/edd/hdfs-FINALEDD.csv' overwrite into table edduser\")\n"
   ]
  },
  {
   "cell_type": "code",
   "execution_count": 82,
   "metadata": {},
   "outputs": [],
   "source": [
    "cnx.execute(\"select * from edduser\")"
   ]
  },
  {
   "cell_type": "code",
   "execution_count": 83,
   "metadata": {},
   "outputs": [],
   "source": [
    "eddfinal = cnx.fetchall()"
   ]
  },
  {
   "cell_type": "code",
   "execution_count": 84,
   "metadata": {},
   "outputs": [
    {
     "name": "stdout",
     "output_type": "stream",
     "text": [
      "[('B-00002', 'B00002', '35', '?233', 'B00002@biat.com.tn', '2021-08-12', '9999-12-31', '2021-08-12', 1), ('B-00003', 'B00003', '299', '?202', 'B00003@biat.com.tn', '2021-08-12', '9999-12-31', '2021-08-12', 1), ('B-00004', 'B00004', '41', '?265', 'B00004@biat.com.tn', '2021-08-12', '9999-12-31', '2021-08-12', 1), ('B-00005', 'B00005', '605', '?266', 'B00005@biat.com.tn', '2021-08-12', '9999-12-31', '2021-08-12', 1), ('B-00006', 'B00006', '125', '?233', 'B00006@biat.com.tn', '2021-08-12', '9999-12-31', '2021-08-12', 1), ('B-00007', 'B00007', '103', '?202', 'B00007@biat.com.tn', '2021-08-12', '9999-12-31', '2021-08-12', 1), ('B-00001', 'B00001', '555', '?278', 'B00001@biat.com.tn', '2021-08-12', '9999-12-31', '2021-08-12', 0), ('B-00001', 'B000211', '222', '?255', 'B00001@biat.com.tn', '2021-08-12', '9999-12-31', '2021-08-12', 1), ('B-00008', 'B00008', '125', '?233', 'B00008@biat.com.tn', '2021-08-12', '9999-12-31', '2021-08-12', 1), ('B-00009', 'B00009', '105', '?105', 'B00009@biat.com.tn', '2021-08-12', '9999-12-31', '2021-08-12', 1)]\n"
     ]
    }
   ],
   "source": [
    "print(eddfinal)"
   ]
  },
  {
   "cell_type": "code",
   "execution_count": 85,
   "metadata": {},
   "outputs": [],
   "source": [
    "hiveEdd = spark.createDataFrame(eddfinal,['ID_A','USER_NAME_A','DEPARTMENT_CODE','INIT_APPLICATION','EMAIL_A','DATDEBVLD','DATFINVLD','DAT_CHG','Dersit'])"
   ]
  },
  {
   "cell_type": "code",
   "execution_count": 86,
   "metadata": {},
   "outputs": [
    {
     "name": "stdout",
     "output_type": "stream",
     "text": [
      "+-------+-----------+---------------+----------------+------------------+----------+----------+----------+------+\n",
      "|   ID_A|USER_NAME_A|DEPARTMENT_CODE|INIT_APPLICATION|           EMAIL_A| DATDEBVLD| DATFINVLD|   DAT_CHG|Dersit|\n",
      "+-------+-----------+---------------+----------------+------------------+----------+----------+----------+------+\n",
      "|B-00002|     B00002|             35|            ?233|B00002@biat.com.tn|2021-08-12|9999-12-31|2021-08-12|     1|\n",
      "|B-00003|     B00003|            299|            ?202|B00003@biat.com.tn|2021-08-12|9999-12-31|2021-08-12|     1|\n",
      "|B-00004|     B00004|             41|            ?265|B00004@biat.com.tn|2021-08-12|9999-12-31|2021-08-12|     1|\n",
      "|B-00005|     B00005|            605|            ?266|B00005@biat.com.tn|2021-08-12|9999-12-31|2021-08-12|     1|\n",
      "|B-00006|     B00006|            125|            ?233|B00006@biat.com.tn|2021-08-12|9999-12-31|2021-08-12|     1|\n",
      "|B-00007|     B00007|            103|            ?202|B00007@biat.com.tn|2021-08-12|9999-12-31|2021-08-12|     1|\n",
      "|B-00001|     B00001|            555|            ?278|B00001@biat.com.tn|2021-08-12|9999-12-31|2021-08-12|     0|\n",
      "|B-00001|    B000211|            222|            ?255|B00001@biat.com.tn|2021-08-12|9999-12-31|2021-08-12|     1|\n",
      "|B-00008|     B00008|            125|            ?233|B00008@biat.com.tn|2021-08-12|9999-12-31|2021-08-12|     1|\n",
      "|B-00009|     B00009|            105|            ?105|B00009@biat.com.tn|2021-08-12|9999-12-31|2021-08-12|     1|\n",
      "+-------+-----------+---------------+----------------+------------------+----------+----------+----------+------+\n",
      "\n"
     ]
    }
   ],
   "source": [
    "hiveEdd.show()"
   ]
  },
  {
   "cell_type": "code",
   "execution_count": 115,
   "metadata": {},
   "outputs": [
    {
     "data": {
      "text/plain": [
       "False"
      ]
     },
     "execution_count": 115,
     "metadata": {},
     "output_type": "execute_result"
    }
   ],
   "source": [
    "def are_dfs_equal(df1, df2):\n",
    "    if df1.schema != df2.schema:\n",
    "        return False\n",
    "    if df1.collect() != df2.collect():\n",
    "        return False\n",
    "    return True\n",
    "are_dfs_equal(edd2,edd1)"
   ]
  },
  {
   "cell_type": "code",
   "execution_count": 127,
   "metadata": {},
   "outputs": [
    {
     "name": "stdout",
     "output_type": "stream",
     "text": [
      "+-------+-----------+---------------+----------------+------------------+-------+-----------+---------------+----------------+------------------+----------+----------+------+\n",
      "|   ID_A|USER_NAME_A|DEPARTMENT_CODE|INIT_APPLICATION|           EMAIL_A|   ID_A|USER_NAME_A|DEPARTMENT_CODE|INIT_APPLICATION|           EMAIL_A| DATDEBVLD|    DATCHG|Dersit|\n",
      "+-------+-----------+---------------+----------------+------------------+-------+-----------+---------------+----------------+------------------+----------+----------+------+\n",
      "|B-00002|     B00002|             35|            ?233|B00002@biat.com.tn|B-00002|     B00002|             35|            ?233|B00002@biat.com.tn|2021-08-04|2021-08-04|     1|\n",
      "|B-00008|     B00008|            125|            ?233|B00008@biat.com.tn|   null|       null|           null|            null|              null|      null|      null|  null|\n",
      "|B-00001|    B000211|            222|            ?255|B00001@biat.com.tn|B-00001|     B00001|            555|            ?278|B00001@biat.com.tn|2021-08-04|2021-08-04|     1|\n",
      "|B-00009|     B00009|            105|            ?105|B00009@biat.com.tn|   null|       null|           null|            null|              null|      null|      null|  null|\n",
      "+-------+-----------+---------------+----------------+------------------+-------+-----------+---------------+----------------+------------------+----------+----------+------+\n",
      "\n"
     ]
    }
   ],
   "source": [
    "import pyspark.sql.functions as f\n",
    "\n",
    "columns = edd1.columns\n",
    "df3 = edd1.alias(\"d1\").join(edd2.alias(\"d2\"), f.col(\"d1.ID_A\") == f.col(\"d2.ID_A\"), \"left\")\n",
    "df3.show()"
   ]
  },
  {
   "cell_type": "code",
   "execution_count": 129,
   "metadata": {},
   "outputs": [
    {
     "name": "stdout",
     "output_type": "stream",
     "text": [
      "+-------+-----------+---------------+----------------+------------------+----------+----------+------+-----------+---------------+----------------+------------------+\n",
      "|   ID_A|USER_NAME_A|DEPARTMENT_CODE|INIT_APPLICATION|           EMAIL_A| DATDEBVLD|    DATCHG|Dersit|USER_NAME_A|DEPARTMENT_CODE|INIT_APPLICATION|           EMAIL_A|\n",
      "+-------+-----------+---------------+----------------+------------------+----------+----------+------+-----------+---------------+----------------+------------------+\n",
      "|B-00002|     B00002|             35|            ?233|B00002@biat.com.tn|2021-08-04|2021-08-04|     1|     B00002|             35|            ?233|B00002@biat.com.tn|\n",
      "|B-00001|     B00001|            555|            ?278|B00001@biat.com.tn|2021-08-04|2021-08-04|     1|    B000211|            222|            ?255|B00001@biat.com.tn|\n",
      "+-------+-----------+---------------+----------------+------------------+----------+----------+------+-----------+---------------+----------------+------------------+\n",
      "\n"
     ]
    }
   ],
   "source": [
    "edd2.join(edd1,\"ID_A\").show()"
   ]
  },
  {
   "cell_type": "code",
   "execution_count": 130,
   "metadata": {},
   "outputs": [
    {
     "name": "stdout",
     "output_type": "stream",
     "text": [
      "+-------+-----------+---------------+----------------+------------------+-------+-----------+---------------+----------------+------------------+----------+----------+------+\n",
      "|ID_A   |USER_NAME_A|DEPARTMENT_CODE|INIT_APPLICATION|EMAIL_A           |ID_A   |USER_NAME_A|DEPARTMENT_CODE|INIT_APPLICATION|EMAIL_A           |DATDEBVLD |DATCHG    |Dersit|\n",
      "+-------+-----------+---------------+----------------+------------------+-------+-----------+---------------+----------------+------------------+----------+----------+------+\n",
      "|B-00002|B00002     |35             |?233            |B00002@biat.com.tn|B-00002|B00002     |35             |?233            |B00002@biat.com.tn|2021-08-04|2021-08-04|1     |\n",
      "|B-00001|B000211    |222            |?255            |B00001@biat.com.tn|B-00001|B00001     |555            |?278            |B00001@biat.com.tn|2021-08-04|2021-08-04|1     |\n",
      "+-------+-----------+---------------+----------------+------------------+-------+-----------+---------------+----------------+------------------+----------+----------+------+\n",
      "\n"
     ]
    }
   ],
   "source": [
    "edd1.join(edd2,edd1.ID_A ==  edd2.ID_A,\"inner\") \\\n",
    "     .show(truncate=False)"
   ]
  },
  {
   "cell_type": "code",
   "execution_count": 131,
   "metadata": {},
   "outputs": [
    {
     "name": "stdout",
     "output_type": "stream",
     "text": [
      "+-------+-----------+---------------+----------------+------------------+----------+----------+------+-------+-----------+---------------+----------------+------------------+\n",
      "|ID_A   |USER_NAME_A|DEPARTMENT_CODE|INIT_APPLICATION|EMAIL_A           |DATDEBVLD |DATCHG    |Dersit|ID_A   |USER_NAME_A|DEPARTMENT_CODE|INIT_APPLICATION|EMAIL_A           |\n",
      "+-------+-----------+---------------+----------------+------------------+----------+----------+------+-------+-----------+---------------+----------------+------------------+\n",
      "|B-00002|B00002     |35             |?233            |B00002@biat.com.tn|2021-08-04|2021-08-04|1     |B-00002|B00002     |35             |?233            |B00002@biat.com.tn|\n",
      "|B-00001|B00001     |555            |?278            |B00001@biat.com.tn|2021-08-04|2021-08-04|1     |B-00001|B000211    |222            |?255            |B00001@biat.com.tn|\n",
      "+-------+-----------+---------------+----------------+------------------+----------+----------+------+-------+-----------+---------------+----------------+------------------+\n",
      "\n"
     ]
    }
   ],
   "source": [
    "edd2.join(edd1,edd2.ID_A ==  edd1.ID_A,\"inner\") \\\n",
    "     .show(truncate=False)"
   ]
  },
  {
   "cell_type": "code",
   "execution_count": 132,
   "metadata": {},
   "outputs": [],
   "source": [
    "newInsert = edd1.alias(\"edd1\").join(edd2.alias(\"edd2\"),\"ID_A\").where(\"edd2.USER_NAME_A = true and edd1.EMAIL_A <> edd2.EMAIL_A\")"
   ]
  },
  {
   "cell_type": "code",
   "execution_count": 133,
   "metadata": {},
   "outputs": [
    {
     "name": "stdout",
     "output_type": "stream",
     "text": [
      "+----+-----------+---------------+----------------+-------+-----------+---------------+----------------+-------+---------+------+------+\n",
      "|ID_A|USER_NAME_A|DEPARTMENT_CODE|INIT_APPLICATION|EMAIL_A|USER_NAME_A|DEPARTMENT_CODE|INIT_APPLICATION|EMAIL_A|DATDEBVLD|DATCHG|Dersit|\n",
      "+----+-----------+---------------+----------------+-------+-----------+---------------+----------------+-------+---------+------+------+\n",
      "+----+-----------+---------------+----------------+-------+-----------+---------------+----------------+-------+---------+------+------+\n",
      "\n"
     ]
    }
   ],
   "source": [
    "newInsert.show()"
   ]
  },
  {
   "cell_type": "code",
   "execution_count": 121,
   "metadata": {},
   "outputs": [],
   "source": [
    "newInsert = edd2.alias(\"edd2\").join(edd2.alias(\"edd1\"),\"ID_A\").where(\"edd2.Dersit = true AND(edd2.EMAIL_A <> edd1.EMAIL_A OR edd2.USER_NAME_A <> edd1.USER_NAME_A)\")"
   ]
  },
  {
   "cell_type": "code",
   "execution_count": 122,
   "metadata": {},
   "outputs": [
    {
     "name": "stdout",
     "output_type": "stream",
     "text": [
      "+----+-----------+---------------+----------------+-------+---------+------+------+-----------+---------------+----------------+-------+---------+------+------+\n",
      "|ID_A|USER_NAME_A|DEPARTMENT_CODE|INIT_APPLICATION|EMAIL_A|DATDEBVLD|DATCHG|Dersit|USER_NAME_A|DEPARTMENT_CODE|INIT_APPLICATION|EMAIL_A|DATDEBVLD|DATCHG|Dersit|\n",
      "+----+-----------+---------------+----------------+-------+---------+------+------+-----------+---------------+----------------+-------+---------+------+------+\n",
      "+----+-----------+---------------+----------------+-------+---------+------+------+-----------+---------------+----------------+-------+---------+------+------+\n",
      "\n"
     ]
    }
   ],
   "source": [
    "newInsert.show()"
   ]
  },
  {
   "cell_type": "code",
   "execution_count": 10,
   "metadata": {},
   "outputs": [
    {
     "name": "stdout",
     "output_type": "stream",
     "text": [
      "+--------+---------+-----------+\n",
      "|database|tableName|isTemporary|\n",
      "+--------+---------+-----------+\n",
      "+--------+---------+-----------+\n",
      "\n"
     ]
    }
   ],
   "source": [
    "spark.sql(\"show tables\").show()"
   ]
  },
  {
   "cell_type": "code",
   "execution_count": 8,
   "metadata": {},
   "outputs": [
    {
     "name": "stderr",
     "output_type": "stream",
     "text": [
      "UsageError: Cell magic `%%sql` not found.\n"
     ]
    }
   ],
   "source": [
    "%%sql"
   ]
  },
  {
   "cell_type": "code",
   "execution_count": 9,
   "metadata": {},
   "outputs": [
    {
     "data": {
      "text/plain": [
       "DataFrame[]"
      ]
     },
     "execution_count": 9,
     "metadata": {},
     "output_type": "execute_result"
    }
   ],
   "source": [
    "spark.sql(\"CREATE DATABASE IF NOT EXISTS employee\")"
   ]
  },
  {
   "cell_type": "code",
   "execution_count": 11,
   "metadata": {},
   "outputs": [
    {
     "data": {
      "text/plain": [
       "DataFrame[]"
      ]
     },
     "execution_count": 11,
     "metadata": {},
     "output_type": "execute_result"
    }
   ],
   "source": [
    "spark.sql(\"USE employee\")"
   ]
  },
  {
   "cell_type": "code",
   "execution_count": null,
   "metadata": {},
   "outputs": [],
   "source": []
  }
 ],
 "metadata": {
  "kernelspec": {
   "display_name": "Python 3",
   "language": "python",
   "name": "python3"
  },
  "language_info": {
   "codemirror_mode": {
    "name": "ipython",
    "version": 3
   },
   "file_extension": ".py",
   "mimetype": "text/x-python",
   "name": "python",
   "nbconvert_exporter": "python",
   "pygments_lexer": "ipython3",
   "version": "3.7.3"
  }
 },
 "nbformat": 4,
 "nbformat_minor": 4
}
