{
 "cells": [
  {
   "cell_type": "code",
   "execution_count": 199,
   "metadata": {},
   "outputs": [],
   "source": [
    "from pyhive  import  hive\n",
    "from pyhive import  presto"
   ]
  },
  {
   "cell_type": "code",
   "execution_count": 200,
   "metadata": {},
   "outputs": [],
   "source": [
    "conn = hive.Connection(host=\"localhost\",port=10000,username=\"value\",database=\"default\")"
   ]
  },
  {
   "cell_type": "code",
   "execution_count": 201,
   "metadata": {},
   "outputs": [],
   "source": [
    "cnx = conn.cursor()"
   ]
  },
  {
   "cell_type": "code",
   "execution_count": 202,
   "metadata": {},
   "outputs": [],
   "source": [
    "cnx.execute(\"select * from O_T24_USER\")"
   ]
  },
  {
   "cell_type": "code",
   "execution_count": 203,
   "metadata": {},
   "outputs": [],
   "source": [
    "hiveods = cnx.fetchall()"
   ]
  },
  {
   "cell_type": "code",
   "execution_count": 204,
   "metadata": {},
   "outputs": [
    {
     "name": "stdout",
     "output_type": "stream",
     "text": [
      "[('B-00001', 'B000211', '222', '?255', 'B00001@biat.com.tn', '2021-08-18', '2021-08-18', 'null'), ('B-00002', 'B00002', '35', '?233', 'B00002@biat.com.tn', '2021-08-18', '2021-08-18', 'null'), ('B-00008', 'B00008', '125', '?233', 'B00008@biat.com.tn', '2021-08-18', '2021-08-18', 'null'), ('B-00009', 'B00009', '105', '?105', 'B00009@biat.com.tn', '2021-08-18', '2021-08-18', 'null'), ('B-00001', 'B00001', '555', '?278', 'B00001@biat.com.tn', '2021-08-18', '2021-08-18', '2021-08-18'), ('B-00002', 'B00002', '35', '?233', 'B00002@biat.com.tn', '2021-08-18', '2021-08-18', '2021-08-18'), ('B-00003', 'B00003', '299', '?202', 'B00003@biat.com.tn', '2021-08-18', '2021-08-18', '2021-08-18'), ('B-00004', 'B00004', '41', '?265', 'B00004@biat.com.tn', '2021-08-18', '2021-08-18', '2021-08-18'), ('B-00005', 'B00005', '605', '?266', 'B00005@biat.com.tn', '2021-08-18', '2021-08-18', '2021-08-18'), ('B-00006', 'B00006', '125', '?233', 'B00006@biat.com.tn', '2021-08-18', '2021-08-18', '2021-08-18'), ('B-00007', 'B00007', '103', '?202', 'B00007@biat.com.tn', '2021-08-18', '2021-08-18', '2021-08-18')]\n"
     ]
    }
   ],
   "source": [
    "print(hiveods)"
   ]
  },
  {
   "cell_type": "code",
   "execution_count": 205,
   "metadata": {},
   "outputs": [],
   "source": [
    "import pyspark\n",
    "from pyspark.sql import SparkSession\n",
    "spark = SparkSession.builder.getOrCreate()"
   ]
  },
  {
   "cell_type": "code",
   "execution_count": 206,
   "metadata": {},
   "outputs": [],
   "source": [
    "from pyspark import SparkContext\n",
    "from pyspark.sql import SQLContext\n",
    "from pyspark.sql.types import *"
   ]
  },
  {
   "cell_type": "code",
   "execution_count": 207,
   "metadata": {},
   "outputs": [
    {
     "name": "stdout",
     "output_type": "stream",
     "text": [
      "+-------+-----------+---------------+----------------+------------------+----------+----------+----------+\n",
      "|   ID_A|USER_NAME_A|DEPARTMENT_CODE|INIT_APPLICATION|           EMAIL_A|   DAT_SIT|   DAT_CHG|   DAT_CSO|\n",
      "+-------+-----------+---------------+----------------+------------------+----------+----------+----------+\n",
      "|B-00001|    B000211|            222|            ?255|B00001@biat.com.tn|2021-08-18|2021-08-18|      null|\n",
      "|B-00002|     B00002|             35|            ?233|B00002@biat.com.tn|2021-08-18|2021-08-18|      null|\n",
      "|B-00008|     B00008|            125|            ?233|B00008@biat.com.tn|2021-08-18|2021-08-18|      null|\n",
      "|B-00009|     B00009|            105|            ?105|B00009@biat.com.tn|2021-08-18|2021-08-18|      null|\n",
      "|B-00001|     B00001|            555|            ?278|B00001@biat.com.tn|2021-08-18|2021-08-18|2021-08-18|\n",
      "|B-00002|     B00002|             35|            ?233|B00002@biat.com.tn|2021-08-18|2021-08-18|2021-08-18|\n",
      "|B-00003|     B00003|            299|            ?202|B00003@biat.com.tn|2021-08-18|2021-08-18|2021-08-18|\n",
      "|B-00004|     B00004|             41|            ?265|B00004@biat.com.tn|2021-08-18|2021-08-18|2021-08-18|\n",
      "|B-00005|     B00005|            605|            ?266|B00005@biat.com.tn|2021-08-18|2021-08-18|2021-08-18|\n",
      "|B-00006|     B00006|            125|            ?233|B00006@biat.com.tn|2021-08-18|2021-08-18|2021-08-18|\n",
      "|B-00007|     B00007|            103|            ?202|B00007@biat.com.tn|2021-08-18|2021-08-18|2021-08-18|\n",
      "+-------+-----------+---------------+----------------+------------------+----------+----------+----------+\n",
      "\n"
     ]
    }
   ],
   "source": [
    "ods= spark.createDataFrame(hiveods,['ID_A','USER_NAME_A','DEPARTMENT_CODE','INIT_APPLICATION','EMAIL_A','DAT_SIT','DAT_CHG','DAT_CSO'])\n",
    "ods.show()"
   ]
  },
  {
   "cell_type": "code",
   "execution_count": 208,
   "metadata": {},
   "outputs": [],
   "source": [
    "ods1 = ods.select(\"ID_A\",\"USER_NAME_A\",\"DEPARTMENT_CODE\",\"INIT_APPLICATION\",\"EMAIL_A\").where(\"DAT_CSO == 'null'\")"
   ]
  },
  {
   "cell_type": "code",
   "execution_count": 209,
   "metadata": {},
   "outputs": [
    {
     "name": "stdout",
     "output_type": "stream",
     "text": [
      "+-------+-----------+---------------+----------------+------------------+\n",
      "|   ID_A|USER_NAME_A|DEPARTMENT_CODE|INIT_APPLICATION|           EMAIL_A|\n",
      "+-------+-----------+---------------+----------------+------------------+\n",
      "|B-00001|    B000211|            222|            ?255|B00001@biat.com.tn|\n",
      "|B-00002|     B00002|             35|            ?233|B00002@biat.com.tn|\n",
      "|B-00008|     B00008|            125|            ?233|B00008@biat.com.tn|\n",
      "|B-00009|     B00009|            105|            ?105|B00009@biat.com.tn|\n",
      "+-------+-----------+---------------+----------------+------------------+\n",
      "\n"
     ]
    }
   ],
   "source": [
    "ods1.show()"
   ]
  },
  {
   "cell_type": "code",
   "execution_count": 210,
   "metadata": {},
   "outputs": [],
   "source": [
    "cnx.execute(\"select * from edduser\")"
   ]
  },
  {
   "cell_type": "code",
   "execution_count": 211,
   "metadata": {},
   "outputs": [],
   "source": [
    "eddfinal = cnx.fetchall()"
   ]
  },
  {
   "cell_type": "code",
   "execution_count": 212,
   "metadata": {},
   "outputs": [
    {
     "name": "stdout",
     "output_type": "stream",
     "text": [
      "[('B-00001', 'B00001', '555', '?278', 'B00001@biat.com.tn', '2021-08-18', '2021-08-17', '2021-08-18', 0, 1), ('B-00001', 'B000211', '222', '?255', 'B00001@biat.com.tn', '2021-08-19', '9999-12-31', '2021-08-19', 1, 1), ('B-00002', 'B00002', '35', '?233', 'B00002@biat.com.tn', '2021-08-18', '9999-12-31', '2021-08-18', 1, 2), ('B-00003', 'B00003', '299', '?202', 'B00003@biat.com.tn', '2021-08-18', '9999-12-31', '2021-08-18', 1, 3), ('B-00004', 'B00004', '41', '?265', 'B00004@biat.com.tn', '2021-08-18', '9999-12-31', '2021-08-18', 1, 4), ('B-00005', 'B00005', '605', '?266', 'B00005@biat.com.tn', '2021-08-18', '9999-12-31', '2021-08-18', 1, 5), ('B-00006', 'B00006', '125', '?233', 'B00006@biat.com.tn', '2021-08-18', '9999-12-31', '2021-08-18', 1, 6), ('B-00007', 'B00007', '103', '?202', 'B00007@biat.com.tn', '2021-08-18', '9999-12-31', '2021-08-18', 1, 7), ('B-00008', 'B00008', '125', '?233', 'B00008@biat.com.tn', '2021-08-19', '9999-12-31', '2021-08-19', 1, 8), ('B-00009', 'B00009', '105', '?105', 'B00009@biat.com.tn', '2021-08-19', '9999-12-31', '2021-08-19', 1, 9)]\n"
     ]
    }
   ],
   "source": [
    "print(eddfinal)"
   ]
  },
  {
   "cell_type": "code",
   "execution_count": 213,
   "metadata": {},
   "outputs": [],
   "source": [
    "hiveEdd = spark.createDataFrame(eddfinal,['ID_A','USER_NAME_A','DEPARTMENT_CODE','INIT_APPLICATION','EMAIL_A','DATDEBVLD','DATFINVLD','DAT_CHG','Dersit','CDR'])"
   ]
  },
  {
   "cell_type": "code",
   "execution_count": 214,
   "metadata": {},
   "outputs": [
    {
     "name": "stdout",
     "output_type": "stream",
     "text": [
      "+-------+-----------+---------------+----------------+------------------+----------+----------+----------+------+---+\n",
      "|   ID_A|USER_NAME_A|DEPARTMENT_CODE|INIT_APPLICATION|           EMAIL_A| DATDEBVLD| DATFINVLD|   DAT_CHG|Dersit|CDR|\n",
      "+-------+-----------+---------------+----------------+------------------+----------+----------+----------+------+---+\n",
      "|B-00001|     B00001|            555|            ?278|B00001@biat.com.tn|2021-08-18|2021-08-17|2021-08-18|     0|  1|\n",
      "|B-00001|    B000211|            222|            ?255|B00001@biat.com.tn|2021-08-19|9999-12-31|2021-08-19|     1|  1|\n",
      "|B-00002|     B00002|             35|            ?233|B00002@biat.com.tn|2021-08-18|9999-12-31|2021-08-18|     1|  2|\n",
      "|B-00003|     B00003|            299|            ?202|B00003@biat.com.tn|2021-08-18|9999-12-31|2021-08-18|     1|  3|\n",
      "|B-00004|     B00004|             41|            ?265|B00004@biat.com.tn|2021-08-18|9999-12-31|2021-08-18|     1|  4|\n",
      "|B-00005|     B00005|            605|            ?266|B00005@biat.com.tn|2021-08-18|9999-12-31|2021-08-18|     1|  5|\n",
      "|B-00006|     B00006|            125|            ?233|B00006@biat.com.tn|2021-08-18|9999-12-31|2021-08-18|     1|  6|\n",
      "|B-00007|     B00007|            103|            ?202|B00007@biat.com.tn|2021-08-18|9999-12-31|2021-08-18|     1|  7|\n",
      "|B-00008|     B00008|            125|            ?233|B00008@biat.com.tn|2021-08-19|9999-12-31|2021-08-19|     1|  8|\n",
      "|B-00009|     B00009|            105|            ?105|B00009@biat.com.tn|2021-08-19|9999-12-31|2021-08-19|     1|  9|\n",
      "+-------+-----------+---------------+----------------+------------------+----------+----------+----------+------+---+\n",
      "\n"
     ]
    }
   ],
   "source": [
    "hiveEdd.show()"
   ]
  },
  {
   "cell_type": "code",
   "execution_count": 215,
   "metadata": {},
   "outputs": [
    {
     "name": "stdout",
     "output_type": "stream",
     "text": [
      "+-------+-----------+---------------+----------------+------------------+----------+----------+----------+------+---+-------+-----------+---------------+----------------+------------------+\n",
      "|ID_A   |USER_NAME_A|DEPARTMENT_CODE|INIT_APPLICATION|EMAIL_A           |DATDEBVLD |DATFINVLD |DAT_CHG   |Dersit|CDR|ID_A   |USER_NAME_A|DEPARTMENT_CODE|INIT_APPLICATION|EMAIL_A           |\n",
      "+-------+-----------+---------------+----------------+------------------+----------+----------+----------+------+---+-------+-----------+---------------+----------------+------------------+\n",
      "|B-00002|B00002     |35             |?233            |B00002@biat.com.tn|2021-08-18|9999-12-31|2021-08-18|1     |2  |B-00002|B00002     |35             |?233            |B00002@biat.com.tn|\n",
      "|B-00008|B00008     |125            |?233            |B00008@biat.com.tn|2021-08-19|9999-12-31|2021-08-19|1     |8  |B-00008|B00008     |125            |?233            |B00008@biat.com.tn|\n",
      "|B-00001|B00001     |555            |?278            |B00001@biat.com.tn|2021-08-18|2021-08-17|2021-08-18|0     |1  |B-00001|B000211    |222            |?255            |B00001@biat.com.tn|\n",
      "|B-00001|B000211    |222            |?255            |B00001@biat.com.tn|2021-08-19|9999-12-31|2021-08-19|1     |1  |B-00001|B000211    |222            |?255            |B00001@biat.com.tn|\n",
      "|B-00009|B00009     |105            |?105            |B00009@biat.com.tn|2021-08-19|9999-12-31|2021-08-19|1     |9  |B-00009|B00009     |105            |?105            |B00009@biat.com.tn|\n",
      "+-------+-----------+---------------+----------------+------------------+----------+----------+----------+------+---+-------+-----------+---------------+----------------+------------------+\n",
      "\n"
     ]
    }
   ],
   "source": [
    "hiveEdd.join(ods1,hiveEdd.ID_A ==  ods1.ID_A,\"inner\") \\\n",
    "     .show(truncate=False)"
   ]
  },
  {
   "cell_type": "code",
   "execution_count": 216,
   "metadata": {},
   "outputs": [
    {
     "name": "stdout",
     "output_type": "stream",
     "text": [
      "+-------+-----------+---------------+----------------+------------------+-----------+---------------+----------------+------------------+----------+----------+----------+------+---+\n",
      "|   ID_A|USER_NAME_A|DEPARTMENT_CODE|INIT_APPLICATION|           EMAIL_A|USER_NAME_A|DEPARTMENT_CODE|INIT_APPLICATION|           EMAIL_A| DATDEBVLD| DATFINVLD|   DAT_CHG|Dersit|CDR|\n",
      "+-------+-----------+---------------+----------------+------------------+-----------+---------------+----------------+------------------+----------+----------+----------+------+---+\n",
      "|B-00002|     B00002|             35|            ?233|B00002@biat.com.tn|     B00002|             35|            ?233|B00002@biat.com.tn|2021-08-18|9999-12-31|2021-08-18|     1|  2|\n",
      "|B-00008|     B00008|            125|            ?233|B00008@biat.com.tn|     B00008|            125|            ?233|B00008@biat.com.tn|2021-08-19|9999-12-31|2021-08-19|     1|  8|\n",
      "|B-00001|    B000211|            222|            ?255|B00001@biat.com.tn|     B00001|            555|            ?278|B00001@biat.com.tn|2021-08-18|2021-08-17|2021-08-18|     0|  1|\n",
      "|B-00001|    B000211|            222|            ?255|B00001@biat.com.tn|    B000211|            222|            ?255|B00001@biat.com.tn|2021-08-19|9999-12-31|2021-08-19|     1|  1|\n",
      "|B-00009|     B00009|            105|            ?105|B00009@biat.com.tn|     B00009|            105|            ?105|B00009@biat.com.tn|2021-08-19|9999-12-31|2021-08-19|     1|  9|\n",
      "+-------+-----------+---------------+----------------+------------------+-----------+---------------+----------------+------------------+----------+----------+----------+------+---+\n",
      "\n"
     ]
    }
   ],
   "source": [
    "ods1.join(hiveEdd,\"ID_A\").show()"
   ]
  },
  {
   "cell_type": "code",
   "execution_count": 217,
   "metadata": {},
   "outputs": [
    {
     "name": "stdout",
     "output_type": "stream",
     "text": [
      "+-------+-----------+---------------+----------------+------------------+----------+----------+----------+------+---+-----------+---------------+----------------+------------------+\n",
      "|   ID_A|USER_NAME_A|DEPARTMENT_CODE|INIT_APPLICATION|           EMAIL_A| DATDEBVLD| DATFINVLD|   DAT_CHG|Dersit|CDR|USER_NAME_A|DEPARTMENT_CODE|INIT_APPLICATION|           EMAIL_A|\n",
      "+-------+-----------+---------------+----------------+------------------+----------+----------+----------+------+---+-----------+---------------+----------------+------------------+\n",
      "|B-00002|     B00002|             35|            ?233|B00002@biat.com.tn|2021-08-18|9999-12-31|2021-08-18|     1|  2|     B00002|             35|            ?233|B00002@biat.com.tn|\n",
      "|B-00008|     B00008|            125|            ?233|B00008@biat.com.tn|2021-08-19|9999-12-31|2021-08-19|     1|  8|     B00008|            125|            ?233|B00008@biat.com.tn|\n",
      "|B-00001|     B00001|            555|            ?278|B00001@biat.com.tn|2021-08-18|2021-08-17|2021-08-18|     0|  1|    B000211|            222|            ?255|B00001@biat.com.tn|\n",
      "|B-00001|    B000211|            222|            ?255|B00001@biat.com.tn|2021-08-19|9999-12-31|2021-08-19|     1|  1|    B000211|            222|            ?255|B00001@biat.com.tn|\n",
      "|B-00009|     B00009|            105|            ?105|B00009@biat.com.tn|2021-08-19|9999-12-31|2021-08-19|     1|  9|     B00009|            105|            ?105|B00009@biat.com.tn|\n",
      "+-------+-----------+---------------+----------------+------------------+----------+----------+----------+------+---+-----------+---------------+----------------+------------------+\n",
      "\n"
     ]
    }
   ],
   "source": [
    "newInsert = hiveEdd.alias(\"hiveEdd\").join(ods1.alias(\"ods1\"),\"ID_A\")\n",
    "newInsert.show()"
   ]
  },
  {
   "cell_type": "code",
   "execution_count": 33,
   "metadata": {},
   "outputs": [
    {
     "name": "stdout",
     "output_type": "stream",
     "text": [
      "+-------+-----------+---------------+----------------+------------------+----------+----------+----------+------+----+-----------+---------------+----------------+-------+\n",
      "|   ID_A|USER_NAME_A|DEPARTMENT_CODE|INIT_APPLICATION|           EMAIL_A| DATDEBVLD| DATFINVLD|   DAT_CHG|Dersit|ID_A|USER_NAME_A|DEPARTMENT_CODE|INIT_APPLICATION|EMAIL_A|\n",
      "+-------+-----------+---------------+----------------+------------------+----------+----------+----------+------+----+-----------+---------------+----------------+-------+\n",
      "|B-00004|     B00004|             41|            ?265|B00004@biat.com.tn|2021-08-12|9999-12-31|2021-08-12|     1|null|       null|           null|            null|   null|\n",
      "|B-00005|     B00005|            605|            ?266|B00005@biat.com.tn|2021-08-12|9999-12-31|2021-08-12|     1|null|       null|           null|            null|   null|\n",
      "|B-00006|     B00006|            125|            ?233|B00006@biat.com.tn|2021-08-12|9999-12-31|2021-08-12|     1|null|       null|           null|            null|   null|\n",
      "|B-00003|     B00003|            299|            ?202|B00003@biat.com.tn|2021-08-12|9999-12-31|2021-08-12|     1|null|       null|           null|            null|   null|\n",
      "|B-00007|     B00007|            103|            ?202|B00007@biat.com.tn|2021-08-12|9999-12-31|2021-08-12|     1|null|       null|           null|            null|   null|\n",
      "+-------+-----------+---------------+----------------+------------------+----------+----------+----------+------+----+-----------+---------------+----------------+-------+\n",
      "\n"
     ]
    }
   ],
   "source": [
    "hiveEdd.join(ods1,hiveEdd['ID_A']==ods1['ID_A'],'left').where(ods1['ID_A'].isNull()).show()"
   ]
  },
  {
   "cell_type": "code",
   "execution_count": 220,
   "metadata": {},
   "outputs": [],
   "source": [
    "eddupdate=hiveEdd.join(ods1,hiveEdd['ID_A']==ods1['ID_A'],'left').where(ods1['ID_A'].isNull()).select(hiveEdd.ID_A,hiveEdd.USER_NAME_A,hiveEdd.DEPARTMENT_CODE,hiveEdd.INIT_APPLICATION,hiveEdd.EMAIL_A,hiveEdd.DATDEBVLD,hiveEdd.DATFINVLD,hiveEdd.DAT_CHG,hiveEdd.Dersit,hiveEdd.CDR)"
   ]
  },
  {
   "cell_type": "code",
   "execution_count": 221,
   "metadata": {},
   "outputs": [
    {
     "name": "stdout",
     "output_type": "stream",
     "text": [
      "+-------+-----------+---------------+----------------+------------------+----------+----------+----------+------+---+\n",
      "|   ID_A|USER_NAME_A|DEPARTMENT_CODE|INIT_APPLICATION|           EMAIL_A| DATDEBVLD| DATFINVLD|   DAT_CHG|Dersit|CDR|\n",
      "+-------+-----------+---------------+----------------+------------------+----------+----------+----------+------+---+\n",
      "|B-00004|     B00004|             41|            ?265|B00004@biat.com.tn|2021-08-18|9999-12-31|2021-08-18|     1|  4|\n",
      "|B-00005|     B00005|            605|            ?266|B00005@biat.com.tn|2021-08-18|9999-12-31|2021-08-18|     1|  5|\n",
      "|B-00006|     B00006|            125|            ?233|B00006@biat.com.tn|2021-08-18|9999-12-31|2021-08-18|     1|  6|\n",
      "|B-00003|     B00003|            299|            ?202|B00003@biat.com.tn|2021-08-18|9999-12-31|2021-08-18|     1|  3|\n",
      "|B-00007|     B00007|            103|            ?202|B00007@biat.com.tn|2021-08-18|9999-12-31|2021-08-18|     1|  7|\n",
      "+-------+-----------+---------------+----------------+------------------+----------+----------+----------+------+---+\n",
      "\n"
     ]
    }
   ],
   "source": [
    "eddupdate.show()"
   ]
  },
  {
   "cell_type": "code",
   "execution_count": 222,
   "metadata": {},
   "outputs": [],
   "source": [
    "from pyspark.sql.functions import *\n",
    "import time\n",
    "import datetime"
   ]
  },
  {
   "cell_type": "code",
   "execution_count": 223,
   "metadata": {},
   "outputs": [
    {
     "name": "stdout",
     "output_type": "stream",
     "text": [
      "+-------+-----------+---------------+----------------+------------------+----------+----------+----------+------+---+\n",
      "|   ID_A|USER_NAME_A|DEPARTMENT_CODE|INIT_APPLICATION|           EMAIL_A| DATDEBVLD| DATFINVLD|   DAT_CHG|Dersit|CDR|\n",
      "+-------+-----------+---------------+----------------+------------------+----------+----------+----------+------+---+\n",
      "|B-00004|     B00004|             41|            ?265|B00004@biat.com.tn|2021-08-18|2021-08-19|2021-08-18|    -1|  4|\n",
      "|B-00005|     B00005|            605|            ?266|B00005@biat.com.tn|2021-08-18|2021-08-19|2021-08-18|    -1|  5|\n",
      "|B-00006|     B00006|            125|            ?233|B00006@biat.com.tn|2021-08-18|2021-08-19|2021-08-18|    -1|  6|\n",
      "|B-00003|     B00003|            299|            ?202|B00003@biat.com.tn|2021-08-18|2021-08-19|2021-08-18|    -1|  3|\n",
      "|B-00007|     B00007|            103|            ?202|B00007@biat.com.tn|2021-08-18|2021-08-19|2021-08-18|    -1|  7|\n",
      "+-------+-----------+---------------+----------------+------------------+----------+----------+----------+------+---+\n",
      "\n"
     ]
    }
   ],
   "source": [
    "eddupdate = eddupdate.withColumn('Dersit', regexp_replace('Dersit','1','-1')).withColumn(\"DATFINVLD\",to_date(current_timestamp()))\n",
    "eddupdate.show()"
   ]
  },
  {
   "cell_type": "code",
   "execution_count": 224,
   "metadata": {},
   "outputs": [],
   "source": [
    "data = eddupdate.join(hiveEdd,eddupdate['ID_A']==hiveEdd['ID_A'],'right').where(eddupdate['ID_A'].isNull())"
   ]
  },
  {
   "cell_type": "code",
   "execution_count": 225,
   "metadata": {},
   "outputs": [
    {
     "name": "stdout",
     "output_type": "stream",
     "text": [
      "+----+-----------+---------------+----------------+-------+---------+---------+-------+------+----+-------+-----------+---------------+----------------+------------------+----------+----------+----------+------+---+\n",
      "|ID_A|USER_NAME_A|DEPARTMENT_CODE|INIT_APPLICATION|EMAIL_A|DATDEBVLD|DATFINVLD|DAT_CHG|Dersit| CDR|   ID_A|USER_NAME_A|DEPARTMENT_CODE|INIT_APPLICATION|           EMAIL_A| DATDEBVLD| DATFINVLD|   DAT_CHG|Dersit|CDR|\n",
      "+----+-----------+---------------+----------------+-------+---------+---------+-------+------+----+-------+-----------+---------------+----------------+------------------+----------+----------+----------+------+---+\n",
      "|null|       null|           null|            null|   null|     null|     null|   null|  null|null|B-00002|     B00002|             35|            ?233|B00002@biat.com.tn|2021-08-18|9999-12-31|2021-08-18|     1|  2|\n",
      "|null|       null|           null|            null|   null|     null|     null|   null|  null|null|B-00008|     B00008|            125|            ?233|B00008@biat.com.tn|2021-08-19|9999-12-31|2021-08-19|     1|  8|\n",
      "|null|       null|           null|            null|   null|     null|     null|   null|  null|null|B-00001|     B00001|            555|            ?278|B00001@biat.com.tn|2021-08-18|2021-08-17|2021-08-18|     0|  1|\n",
      "|null|       null|           null|            null|   null|     null|     null|   null|  null|null|B-00001|    B000211|            222|            ?255|B00001@biat.com.tn|2021-08-19|9999-12-31|2021-08-19|     1|  1|\n",
      "|null|       null|           null|            null|   null|     null|     null|   null|  null|null|B-00009|     B00009|            105|            ?105|B00009@biat.com.tn|2021-08-19|9999-12-31|2021-08-19|     1|  9|\n",
      "+----+-----------+---------------+----------------+-------+---------+---------+-------+------+----+-------+-----------+---------------+----------------+------------------+----------+----------+----------+------+---+\n",
      "\n"
     ]
    }
   ],
   "source": [
    "data.show()"
   ]
  },
  {
   "cell_type": "code",
   "execution_count": 251,
   "metadata": {},
   "outputs": [],
   "source": [
    " dataupdate = hiveEdd.join(eddupdate,hiveEdd['ID_A']==eddupdate['ID_A'],'left').select(hiveEdd.ID_A,hiveEdd.USER_NAME_A,hiveEdd.DEPARTMENT_CODE,hiveEdd.INIT_APPLICATION,hiveEdd.EMAIL_A,hiveEdd.DATDEBVLD,hiveEdd.DATFINVLD,hiveEdd.DAT_CHG,hiveEdd.Dersit,hiveEdd.CDR).where(hiveEdd['ID_A'].isNotNull())"
   ]
  },
  {
   "cell_type": "code",
   "execution_count": 270,
   "metadata": {},
   "outputs": [
    {
     "name": "stdout",
     "output_type": "stream",
     "text": [
      "+-------+-----------+---------------+----------------+------------------+----------+----------+----------+------+---+\n",
      "|   ID_A|USER_NAME_A|DEPARTMENT_CODE|INIT_APPLICATION|           EMAIL_A| DATDEBVLD| DATFINVLD|   DAT_CHG|Dersit|CDR|\n",
      "+-------+-----------+---------------+----------------+------------------+----------+----------+----------+------+---+\n",
      "|B-00002|     B00002|             35|            ?233|B00002@biat.com.tn|2021-08-18|9999-12-31|2021-08-18|     1|  2|\n",
      "|B-00008|     B00008|            125|            ?233|B00008@biat.com.tn|2021-08-19|9999-12-31|2021-08-19|     1|  8|\n",
      "|B-00004|     B00004|             41|            ?265|B00004@biat.com.tn|2021-08-18|9999-12-31|2021-08-18|     1|  4|\n",
      "|B-00005|     B00005|            605|            ?266|B00005@biat.com.tn|2021-08-18|9999-12-31|2021-08-18|     1|  5|\n",
      "|B-00006|     B00006|            125|            ?233|B00006@biat.com.tn|2021-08-18|9999-12-31|2021-08-18|     1|  6|\n",
      "|B-00003|     B00003|            299|            ?202|B00003@biat.com.tn|2021-08-18|9999-12-31|2021-08-18|     1|  3|\n",
      "|B-00001|     B00001|            555|            ?278|B00001@biat.com.tn|2021-08-18|2021-08-17|2021-08-18|     0|  1|\n",
      "|B-00001|    B000211|            222|            ?255|B00001@biat.com.tn|2021-08-19|9999-12-31|2021-08-19|     1|  1|\n",
      "|B-00007|     B00007|            103|            ?202|B00007@biat.com.tn|2021-08-18|9999-12-31|2021-08-18|     1|  7|\n",
      "|B-00009|     B00009|            105|            ?105|B00009@biat.com.tn|2021-08-19|9999-12-31|2021-08-19|     1|  9|\n",
      "+-------+-----------+---------------+----------------+------------------+----------+----------+----------+------+---+\n",
      "\n",
      "+-------+-----------+---------------+----------------+------------------+----------+----------+----------+------+---+\n",
      "|   ID_A|USER_NAME_A|DEPARTMENT_CODE|INIT_APPLICATION|           EMAIL_A| DATDEBVLD| DATFINVLD|   DAT_CHG|Dersit|CDR|\n",
      "+-------+-----------+---------------+----------------+------------------+----------+----------+----------+------+---+\n",
      "|B-00004|     B00004|             41|            ?265|B00004@biat.com.tn|2021-08-18|2021-08-19|2021-08-18|    -1|  4|\n",
      "|B-00005|     B00005|            605|            ?266|B00005@biat.com.tn|2021-08-18|2021-08-19|2021-08-18|    -1|  5|\n",
      "|B-00006|     B00006|            125|            ?233|B00006@biat.com.tn|2021-08-18|2021-08-19|2021-08-18|    -1|  6|\n",
      "|B-00003|     B00003|            299|            ?202|B00003@biat.com.tn|2021-08-18|2021-08-19|2021-08-18|    -1|  3|\n",
      "|B-00007|     B00007|            103|            ?202|B00007@biat.com.tn|2021-08-18|2021-08-19|2021-08-18|    -1|  7|\n",
      "+-------+-----------+---------------+----------------+------------------+----------+----------+----------+------+---+\n",
      "\n",
      "+-------+-----------+---------------+----------------+------------------+----------+----------+----------+------+---+-------+-----------+---------------+----------------+------------------+----------+----------+----------+------+----+\n",
      "|   ID_A|USER_NAME_A|DEPARTMENT_CODE|INIT_APPLICATION|           EMAIL_A| DATDEBVLD| DATFINVLD|   DAT_CHG|Dersit|CDR|   ID_A|USER_NAME_A|DEPARTMENT_CODE|INIT_APPLICATION|           EMAIL_A| DATDEBVLD| DATFINVLD|   DAT_CHG|Dersit| CDR|\n",
      "+-------+-----------+---------------+----------------+------------------+----------+----------+----------+------+---+-------+-----------+---------------+----------------+------------------+----------+----------+----------+------+----+\n",
      "|B-00002|     B00002|             35|            ?233|B00002@biat.com.tn|2021-08-18|9999-12-31|2021-08-18|     1|  2|   null|       null|           null|            null|              null|      null|      null|      null|  null|null|\n",
      "|B-00008|     B00008|            125|            ?233|B00008@biat.com.tn|2021-08-19|9999-12-31|2021-08-19|     1|  8|   null|       null|           null|            null|              null|      null|      null|      null|  null|null|\n",
      "|B-00004|     B00004|             41|            ?265|B00004@biat.com.tn|2021-08-18|9999-12-31|2021-08-18|     1|  4|B-00004|     B00004|             41|            ?265|B00004@biat.com.tn|2021-08-18|2021-08-19|2021-08-18|    -1|   4|\n",
      "|B-00005|     B00005|            605|            ?266|B00005@biat.com.tn|2021-08-18|9999-12-31|2021-08-18|     1|  5|B-00005|     B00005|            605|            ?266|B00005@biat.com.tn|2021-08-18|2021-08-19|2021-08-18|    -1|   5|\n",
      "|B-00006|     B00006|            125|            ?233|B00006@biat.com.tn|2021-08-18|9999-12-31|2021-08-18|     1|  6|B-00006|     B00006|            125|            ?233|B00006@biat.com.tn|2021-08-18|2021-08-19|2021-08-18|    -1|   6|\n",
      "|B-00003|     B00003|            299|            ?202|B00003@biat.com.tn|2021-08-18|9999-12-31|2021-08-18|     1|  3|B-00003|     B00003|            299|            ?202|B00003@biat.com.tn|2021-08-18|2021-08-19|2021-08-18|    -1|   3|\n",
      "|B-00001|     B00001|            555|            ?278|B00001@biat.com.tn|2021-08-18|2021-08-17|2021-08-18|     0|  1|   null|       null|           null|            null|              null|      null|      null|      null|  null|null|\n",
      "|B-00001|    B000211|            222|            ?255|B00001@biat.com.tn|2021-08-19|9999-12-31|2021-08-19|     1|  1|   null|       null|           null|            null|              null|      null|      null|      null|  null|null|\n",
      "|B-00007|     B00007|            103|            ?202|B00007@biat.com.tn|2021-08-18|9999-12-31|2021-08-18|     1|  7|B-00007|     B00007|            103|            ?202|B00007@biat.com.tn|2021-08-18|2021-08-19|2021-08-18|    -1|   7|\n",
      "|B-00009|     B00009|            105|            ?105|B00009@biat.com.tn|2021-08-19|9999-12-31|2021-08-19|     1|  9|   null|       null|           null|            null|              null|      null|      null|      null|  null|null|\n",
      "+-------+-----------+---------------+----------------+------------------+----------+----------+----------+------+---+-------+-----------+---------------+----------------+------------------+----------+----------+----------+------+----+\n",
      "\n",
      "+-------+-----------+---------------+----------------+\n",
      "|   ID_A|USER_NAME_A|DEPARTMENT_CODE|INIT_APPLICATION|\n",
      "+-------+-----------+---------------+----------------+\n",
      "|B-00002|     B00002|             35|            ?233|\n",
      "|B-00008|     B00008|            125|            ?233|\n",
      "|B-00004|     B00004|             41|            ?265|\n",
      "|B-00005|     B00005|            605|            ?266|\n",
      "|B-00006|     B00006|            125|            ?233|\n",
      "|B-00003|     B00003|            299|            ?202|\n",
      "|B-00001|     B00001|            555|            ?278|\n",
      "|B-00001|    B000211|            222|            ?255|\n",
      "|B-00007|     B00007|            103|            ?202|\n",
      "|B-00009|     B00009|            105|            ?105|\n",
      "+-------+-----------+---------------+----------------+\n",
      "\n"
     ]
    }
   ],
   "source": [
    "dataupdate.show()\n",
    "eddupdate.show()\n",
    "dataupdate.join(eddupdate, dataupdate['ID_A']==eddupdate['ID_A'],'left').where(eddupdate['ID_A'].isNotNull()).show()\n",
    "dataupdate.join(eddupdate, on='ID_A', how='left').select(eddupdate.ID_A,eddupdate.USER_NAME_A,eddupdate.DEPARTMENT_CODE,eddupdate.INIT_APPLICATION,eddupdate.EMAIL_A,eddupdate.DATDEBVLD,eddupdate.DATFINVLD,eddupdate.DAT_CHG,eddupdate.Dersit,eddupdate.CDR).where(eddupdate['ID_A'].isNotNull()).show()"
   ]
  },
  {
   "cell_type": "code",
   "execution_count": 228,
   "metadata": {},
   "outputs": [
    {
     "ename": "AnalysisException",
     "evalue": "\"Union can only be performed on tables with the same number of columns, but the first table has 9 columns and the second table has 10 columns;;\\n'Union\\n:- Filter isnotnull(ID_A#10219)\\n:  +- Project [ID_A#10219, USER_NAME_A#10220, DEPARTMENT_CODE#10221, INIT_APPLICATION#10222, EMAIL_A#10223, DATDEBVLD#10224, DATFINVLD#10225, DAT_CHG#10226, Dersit#10227L]\\n:     +- Join LeftOuter, (ID_A#10219 = ID_A#10847)\\n:        :- LogicalRDD [ID_A#10219, USER_NAME_A#10220, DEPARTMENT_CODE#10221, INIT_APPLICATION#10222, EMAIL_A#10223, DATDEBVLD#10224, DATFINVLD#10225, DAT_CHG#10226, Dersit#10227L, CDR#10228L], false\\n:        +- Project [ID_A#10847, USER_NAME_A#10848, DEPARTMENT_CODE#10849, INIT_APPLICATION#10850, EMAIL_A#10851, DATDEBVLD#10852, to_date(current_timestamp(), None) AS DATFINVLD#10654, DAT_CHG#10854, Dersit#10643, CDR#10856L]\\n:           +- Project [ID_A#10847, USER_NAME_A#10848, DEPARTMENT_CODE#10849, INIT_APPLICATION#10850, EMAIL_A#10851, DATDEBVLD#10852, DATFINVLD#10853, DAT_CHG#10854, regexp_replace(cast(Dersit#10855L as string), 1, -1) AS Dersit#10643, CDR#10856L]\\n:              +- Project [ID_A#10847, USER_NAME_A#10848, DEPARTMENT_CODE#10849, INIT_APPLICATION#10850, EMAIL_A#10851, DATDEBVLD#10852, DATFINVLD#10853, DAT_CHG#10854, Dersit#10855L, CDR#10856L]\\n:                 +- Filter isnull(ID_A#10157)\\n:                    +- Join LeftOuter, (ID_A#10847 = ID_A#10157)\\n:                       :- LogicalRDD [ID_A#10847, USER_NAME_A#10848, DEPARTMENT_CODE#10849, INIT_APPLICATION#10850, EMAIL_A#10851, DATDEBVLD#10852, DATFINVLD#10853, DAT_CHG#10854, Dersit#10855L, CDR#10856L], false\\n:                       +- Project [ID_A#10157, USER_NAME_A#10158, DEPARTMENT_CODE#10159, INIT_APPLICATION#10160, EMAIL_A#10161]\\n:                          +- Filter (DAT_CSO#10164 = null)\\n:                             +- Project [ID_A#10157, USER_NAME_A#10158, DEPARTMENT_CODE#10159, INIT_APPLICATION#10160, EMAIL_A#10161, DAT_CSO#10164]\\n:                                +- LogicalRDD [ID_A#10157, USER_NAME_A#10158, DEPARTMENT_CODE#10159, INIT_APPLICATION#10160, EMAIL_A#10161, DAT_SIT#10162, DAT_CHG#10163, DAT_CSO#10164], false\\n+- Project [ID_A#10219, USER_NAME_A#10220, DEPARTMENT_CODE#10221, INIT_APPLICATION#10222, EMAIL_A#10223, DATDEBVLD#10224, to_date(current_timestamp(), None) AS DATFINVLD#10654, DAT_CHG#10226, Dersit#10643, CDR#10228L]\\n   +- Project [ID_A#10219, USER_NAME_A#10220, DEPARTMENT_CODE#10221, INIT_APPLICATION#10222, EMAIL_A#10223, DATDEBVLD#10224, DATFINVLD#10225, DAT_CHG#10226, regexp_replace(cast(Dersit#10227L as string), 1, -1) AS Dersit#10643, CDR#10228L]\\n      +- Project [ID_A#10219, USER_NAME_A#10220, DEPARTMENT_CODE#10221, INIT_APPLICATION#10222, EMAIL_A#10223, DATDEBVLD#10224, DATFINVLD#10225, DAT_CHG#10226, Dersit#10227L, CDR#10228L]\\n         +- Filter isnull(ID_A#10157)\\n            +- Join LeftOuter, (ID_A#10219 = ID_A#10157)\\n               :- LogicalRDD [ID_A#10219, USER_NAME_A#10220, DEPARTMENT_CODE#10221, INIT_APPLICATION#10222, EMAIL_A#10223, DATDEBVLD#10224, DATFINVLD#10225, DAT_CHG#10226, Dersit#10227L, CDR#10228L], false\\n               +- Project [ID_A#10157, USER_NAME_A#10158, DEPARTMENT_CODE#10159, INIT_APPLICATION#10160, EMAIL_A#10161]\\n                  +- Filter (DAT_CSO#10164 = null)\\n                     +- Project [ID_A#10157, USER_NAME_A#10158, DEPARTMENT_CODE#10159, INIT_APPLICATION#10160, EMAIL_A#10161, DAT_CSO#10164]\\n                        +- LogicalRDD [ID_A#10157, USER_NAME_A#10158, DEPARTMENT_CODE#10159, INIT_APPLICATION#10160, EMAIL_A#10161, DAT_SIT#10162, DAT_CHG#10163, DAT_CSO#10164], false\\n\"",
     "output_type": "error",
     "traceback": [
      "\u001b[0;31m---------------------------------------------------------------------------\u001b[0m",
      "\u001b[0;31mPy4JJavaError\u001b[0m                             Traceback (most recent call last)",
      "\u001b[0;32m~/anaconda3/lib/python3.7/site-packages/pyspark/sql/utils.py\u001b[0m in \u001b[0;36mdeco\u001b[0;34m(*a, **kw)\u001b[0m\n\u001b[1;32m     62\u001b[0m         \u001b[0;32mtry\u001b[0m\u001b[0;34m:\u001b[0m\u001b[0;34m\u001b[0m\u001b[0;34m\u001b[0m\u001b[0m\n\u001b[0;32m---> 63\u001b[0;31m             \u001b[0;32mreturn\u001b[0m \u001b[0mf\u001b[0m\u001b[0;34m(\u001b[0m\u001b[0;34m*\u001b[0m\u001b[0ma\u001b[0m\u001b[0;34m,\u001b[0m \u001b[0;34m**\u001b[0m\u001b[0mkw\u001b[0m\u001b[0;34m)\u001b[0m\u001b[0;34m\u001b[0m\u001b[0;34m\u001b[0m\u001b[0m\n\u001b[0m\u001b[1;32m     64\u001b[0m         \u001b[0;32mexcept\u001b[0m \u001b[0mpy4j\u001b[0m\u001b[0;34m.\u001b[0m\u001b[0mprotocol\u001b[0m\u001b[0;34m.\u001b[0m\u001b[0mPy4JJavaError\u001b[0m \u001b[0;32mas\u001b[0m \u001b[0me\u001b[0m\u001b[0;34m:\u001b[0m\u001b[0;34m\u001b[0m\u001b[0;34m\u001b[0m\u001b[0m\n",
      "\u001b[0;32m~/anaconda3/lib/python3.7/site-packages/py4j/protocol.py\u001b[0m in \u001b[0;36mget_return_value\u001b[0;34m(answer, gateway_client, target_id, name)\u001b[0m\n\u001b[1;32m    327\u001b[0m                     \u001b[0;34m\"An error occurred while calling {0}{1}{2}.\\n\"\u001b[0m\u001b[0;34m.\u001b[0m\u001b[0;34m\u001b[0m\u001b[0;34m\u001b[0m\u001b[0m\n\u001b[0;32m--> 328\u001b[0;31m                     format(target_id, \".\", name), value)\n\u001b[0m\u001b[1;32m    329\u001b[0m             \u001b[0;32melse\u001b[0m\u001b[0;34m:\u001b[0m\u001b[0;34m\u001b[0m\u001b[0;34m\u001b[0m\u001b[0m\n",
      "\u001b[0;31mPy4JJavaError\u001b[0m: An error occurred while calling o2084.union.\n: org.apache.spark.sql.AnalysisException: Union can only be performed on tables with the same number of columns, but the first table has 9 columns and the second table has 10 columns;;\n'Union\n:- Filter isnotnull(ID_A#10219)\n:  +- Project [ID_A#10219, USER_NAME_A#10220, DEPARTMENT_CODE#10221, INIT_APPLICATION#10222, EMAIL_A#10223, DATDEBVLD#10224, DATFINVLD#10225, DAT_CHG#10226, Dersit#10227L]\n:     +- Join LeftOuter, (ID_A#10219 = ID_A#10847)\n:        :- LogicalRDD [ID_A#10219, USER_NAME_A#10220, DEPARTMENT_CODE#10221, INIT_APPLICATION#10222, EMAIL_A#10223, DATDEBVLD#10224, DATFINVLD#10225, DAT_CHG#10226, Dersit#10227L, CDR#10228L], false\n:        +- Project [ID_A#10847, USER_NAME_A#10848, DEPARTMENT_CODE#10849, INIT_APPLICATION#10850, EMAIL_A#10851, DATDEBVLD#10852, to_date(current_timestamp(), None) AS DATFINVLD#10654, DAT_CHG#10854, Dersit#10643, CDR#10856L]\n:           +- Project [ID_A#10847, USER_NAME_A#10848, DEPARTMENT_CODE#10849, INIT_APPLICATION#10850, EMAIL_A#10851, DATDEBVLD#10852, DATFINVLD#10853, DAT_CHG#10854, regexp_replace(cast(Dersit#10855L as string), 1, -1) AS Dersit#10643, CDR#10856L]\n:              +- Project [ID_A#10847, USER_NAME_A#10848, DEPARTMENT_CODE#10849, INIT_APPLICATION#10850, EMAIL_A#10851, DATDEBVLD#10852, DATFINVLD#10853, DAT_CHG#10854, Dersit#10855L, CDR#10856L]\n:                 +- Filter isnull(ID_A#10157)\n:                    +- Join LeftOuter, (ID_A#10847 = ID_A#10157)\n:                       :- LogicalRDD [ID_A#10847, USER_NAME_A#10848, DEPARTMENT_CODE#10849, INIT_APPLICATION#10850, EMAIL_A#10851, DATDEBVLD#10852, DATFINVLD#10853, DAT_CHG#10854, Dersit#10855L, CDR#10856L], false\n:                       +- Project [ID_A#10157, USER_NAME_A#10158, DEPARTMENT_CODE#10159, INIT_APPLICATION#10160, EMAIL_A#10161]\n:                          +- Filter (DAT_CSO#10164 = null)\n:                             +- Project [ID_A#10157, USER_NAME_A#10158, DEPARTMENT_CODE#10159, INIT_APPLICATION#10160, EMAIL_A#10161, DAT_CSO#10164]\n:                                +- LogicalRDD [ID_A#10157, USER_NAME_A#10158, DEPARTMENT_CODE#10159, INIT_APPLICATION#10160, EMAIL_A#10161, DAT_SIT#10162, DAT_CHG#10163, DAT_CSO#10164], false\n+- Project [ID_A#10219, USER_NAME_A#10220, DEPARTMENT_CODE#10221, INIT_APPLICATION#10222, EMAIL_A#10223, DATDEBVLD#10224, to_date(current_timestamp(), None) AS DATFINVLD#10654, DAT_CHG#10226, Dersit#10643, CDR#10228L]\n   +- Project [ID_A#10219, USER_NAME_A#10220, DEPARTMENT_CODE#10221, INIT_APPLICATION#10222, EMAIL_A#10223, DATDEBVLD#10224, DATFINVLD#10225, DAT_CHG#10226, regexp_replace(cast(Dersit#10227L as string), 1, -1) AS Dersit#10643, CDR#10228L]\n      +- Project [ID_A#10219, USER_NAME_A#10220, DEPARTMENT_CODE#10221, INIT_APPLICATION#10222, EMAIL_A#10223, DATDEBVLD#10224, DATFINVLD#10225, DAT_CHG#10226, Dersit#10227L, CDR#10228L]\n         +- Filter isnull(ID_A#10157)\n            +- Join LeftOuter, (ID_A#10219 = ID_A#10157)\n               :- LogicalRDD [ID_A#10219, USER_NAME_A#10220, DEPARTMENT_CODE#10221, INIT_APPLICATION#10222, EMAIL_A#10223, DATDEBVLD#10224, DATFINVLD#10225, DAT_CHG#10226, Dersit#10227L, CDR#10228L], false\n               +- Project [ID_A#10157, USER_NAME_A#10158, DEPARTMENT_CODE#10159, INIT_APPLICATION#10160, EMAIL_A#10161]\n                  +- Filter (DAT_CSO#10164 = null)\n                     +- Project [ID_A#10157, USER_NAME_A#10158, DEPARTMENT_CODE#10159, INIT_APPLICATION#10160, EMAIL_A#10161, DAT_CSO#10164]\n                        +- LogicalRDD [ID_A#10157, USER_NAME_A#10158, DEPARTMENT_CODE#10159, INIT_APPLICATION#10160, EMAIL_A#10161, DAT_SIT#10162, DAT_CHG#10163, DAT_CSO#10164], false\n\n\tat org.apache.spark.sql.catalyst.analysis.CheckAnalysis$class.failAnalysis(CheckAnalysis.scala:43)\n\tat org.apache.spark.sql.catalyst.analysis.Analyzer.failAnalysis(Analyzer.scala:95)\n\tat org.apache.spark.sql.catalyst.analysis.CheckAnalysis$$anonfun$checkAnalysis$1$$anonfun$apply$12.apply(CheckAnalysis.scala:283)\n\tat org.apache.spark.sql.catalyst.analysis.CheckAnalysis$$anonfun$checkAnalysis$1$$anonfun$apply$12.apply(CheckAnalysis.scala:280)\n\tat scala.collection.immutable.List.foreach(List.scala:392)\n\tat org.apache.spark.sql.catalyst.analysis.CheckAnalysis$$anonfun$checkAnalysis$1.apply(CheckAnalysis.scala:280)\n\tat org.apache.spark.sql.catalyst.analysis.CheckAnalysis$$anonfun$checkAnalysis$1.apply(CheckAnalysis.scala:86)\n\tat org.apache.spark.sql.catalyst.trees.TreeNode.foreachUp(TreeNode.scala:126)\n\tat org.apache.spark.sql.catalyst.analysis.CheckAnalysis$class.checkAnalysis(CheckAnalysis.scala:86)\n\tat org.apache.spark.sql.catalyst.analysis.Analyzer.checkAnalysis(Analyzer.scala:95)\n\tat org.apache.spark.sql.catalyst.analysis.Analyzer$$anonfun$executeAndCheck$1.apply(Analyzer.scala:108)\n\tat org.apache.spark.sql.catalyst.analysis.Analyzer$$anonfun$executeAndCheck$1.apply(Analyzer.scala:105)\n\tat org.apache.spark.sql.catalyst.plans.logical.AnalysisHelper$.markInAnalyzer(AnalysisHelper.scala:201)\n\tat org.apache.spark.sql.catalyst.analysis.Analyzer.executeAndCheck(Analyzer.scala:105)\n\tat org.apache.spark.sql.execution.QueryExecution.analyzed$lzycompute(QueryExecution.scala:58)\n\tat org.apache.spark.sql.execution.QueryExecution.analyzed(QueryExecution.scala:56)\n\tat org.apache.spark.sql.execution.QueryExecution.assertAnalyzed(QueryExecution.scala:48)\n\tat org.apache.spark.sql.Dataset$.ofRows(Dataset.scala:78)\n\tat org.apache.spark.sql.Dataset.withSetOperator(Dataset.scala:3424)\n\tat org.apache.spark.sql.Dataset.union(Dataset.scala:1862)\n\tat sun.reflect.NativeMethodAccessorImpl.invoke0(Native Method)\n\tat sun.reflect.NativeMethodAccessorImpl.invoke(NativeMethodAccessorImpl.java:62)\n\tat sun.reflect.DelegatingMethodAccessorImpl.invoke(DelegatingMethodAccessorImpl.java:43)\n\tat java.lang.reflect.Method.invoke(Method.java:498)\n\tat py4j.reflection.MethodInvoker.invoke(MethodInvoker.java:244)\n\tat py4j.reflection.ReflectionEngine.invoke(ReflectionEngine.java:357)\n\tat py4j.Gateway.invoke(Gateway.java:282)\n\tat py4j.commands.AbstractCommand.invokeMethod(AbstractCommand.java:132)\n\tat py4j.commands.CallCommand.execute(CallCommand.java:79)\n\tat py4j.GatewayConnection.run(GatewayConnection.java:238)\n\tat java.lang.Thread.run(Thread.java:748)\n",
      "\nDuring handling of the above exception, another exception occurred:\n",
      "\u001b[0;31mAnalysisException\u001b[0m                         Traceback (most recent call last)",
      "\u001b[0;32m<ipython-input-228-2307a99847a1>\u001b[0m in \u001b[0;36m<module>\u001b[0;34m\u001b[0m\n\u001b[0;32m----> 1\u001b[0;31m \u001b[0mfinaledd\u001b[0m  \u001b[0;34m=\u001b[0m \u001b[0mdataupdate\u001b[0m\u001b[0;34m.\u001b[0m\u001b[0munion\u001b[0m\u001b[0;34m(\u001b[0m\u001b[0meddupdate\u001b[0m\u001b[0;34m)\u001b[0m\u001b[0;34m\u001b[0m\u001b[0;34m\u001b[0m\u001b[0m\n\u001b[0m",
      "\u001b[0;32m~/anaconda3/lib/python3.7/site-packages/pyspark/sql/dataframe.py\u001b[0m in \u001b[0;36munion\u001b[0;34m(self, other)\u001b[0m\n\u001b[1;32m   1460\u001b[0m         \u001b[0mAlso\u001b[0m \u001b[0;32mas\u001b[0m \u001b[0mstandard\u001b[0m \u001b[0;32min\u001b[0m \u001b[0mSQL\u001b[0m\u001b[0;34m,\u001b[0m \u001b[0mthis\u001b[0m \u001b[0mfunction\u001b[0m \u001b[0mresolves\u001b[0m \u001b[0mcolumns\u001b[0m \u001b[0mby\u001b[0m \u001b[0mposition\u001b[0m \u001b[0;34m(\u001b[0m\u001b[0;32mnot\u001b[0m \u001b[0mby\u001b[0m \u001b[0mname\u001b[0m\u001b[0;34m)\u001b[0m\u001b[0;34m.\u001b[0m\u001b[0;34m\u001b[0m\u001b[0;34m\u001b[0m\u001b[0m\n\u001b[1;32m   1461\u001b[0m         \"\"\"\n\u001b[0;32m-> 1462\u001b[0;31m         \u001b[0;32mreturn\u001b[0m \u001b[0mDataFrame\u001b[0m\u001b[0;34m(\u001b[0m\u001b[0mself\u001b[0m\u001b[0;34m.\u001b[0m\u001b[0m_jdf\u001b[0m\u001b[0;34m.\u001b[0m\u001b[0munion\u001b[0m\u001b[0;34m(\u001b[0m\u001b[0mother\u001b[0m\u001b[0;34m.\u001b[0m\u001b[0m_jdf\u001b[0m\u001b[0;34m)\u001b[0m\u001b[0;34m,\u001b[0m \u001b[0mself\u001b[0m\u001b[0;34m.\u001b[0m\u001b[0msql_ctx\u001b[0m\u001b[0;34m)\u001b[0m\u001b[0;34m\u001b[0m\u001b[0;34m\u001b[0m\u001b[0m\n\u001b[0m\u001b[1;32m   1463\u001b[0m \u001b[0;34m\u001b[0m\u001b[0m\n\u001b[1;32m   1464\u001b[0m     \u001b[0;34m@\u001b[0m\u001b[0msince\u001b[0m\u001b[0;34m(\u001b[0m\u001b[0;36m1.3\u001b[0m\u001b[0;34m)\u001b[0m\u001b[0;34m\u001b[0m\u001b[0;34m\u001b[0m\u001b[0m\n",
      "\u001b[0;32m~/anaconda3/lib/python3.7/site-packages/py4j/java_gateway.py\u001b[0m in \u001b[0;36m__call__\u001b[0;34m(self, *args)\u001b[0m\n\u001b[1;32m   1255\u001b[0m         \u001b[0manswer\u001b[0m \u001b[0;34m=\u001b[0m \u001b[0mself\u001b[0m\u001b[0;34m.\u001b[0m\u001b[0mgateway_client\u001b[0m\u001b[0;34m.\u001b[0m\u001b[0msend_command\u001b[0m\u001b[0;34m(\u001b[0m\u001b[0mcommand\u001b[0m\u001b[0;34m)\u001b[0m\u001b[0;34m\u001b[0m\u001b[0;34m\u001b[0m\u001b[0m\n\u001b[1;32m   1256\u001b[0m         return_value = get_return_value(\n\u001b[0;32m-> 1257\u001b[0;31m             answer, self.gateway_client, self.target_id, self.name)\n\u001b[0m\u001b[1;32m   1258\u001b[0m \u001b[0;34m\u001b[0m\u001b[0m\n\u001b[1;32m   1259\u001b[0m         \u001b[0;32mfor\u001b[0m \u001b[0mtemp_arg\u001b[0m \u001b[0;32min\u001b[0m \u001b[0mtemp_args\u001b[0m\u001b[0;34m:\u001b[0m\u001b[0;34m\u001b[0m\u001b[0;34m\u001b[0m\u001b[0m\n",
      "\u001b[0;32m~/anaconda3/lib/python3.7/site-packages/pyspark/sql/utils.py\u001b[0m in \u001b[0;36mdeco\u001b[0;34m(*a, **kw)\u001b[0m\n\u001b[1;32m     67\u001b[0m                                              e.java_exception.getStackTrace()))\n\u001b[1;32m     68\u001b[0m             \u001b[0;32mif\u001b[0m \u001b[0ms\u001b[0m\u001b[0;34m.\u001b[0m\u001b[0mstartswith\u001b[0m\u001b[0;34m(\u001b[0m\u001b[0;34m'org.apache.spark.sql.AnalysisException: '\u001b[0m\u001b[0;34m)\u001b[0m\u001b[0;34m:\u001b[0m\u001b[0;34m\u001b[0m\u001b[0;34m\u001b[0m\u001b[0m\n\u001b[0;32m---> 69\u001b[0;31m                 \u001b[0;32mraise\u001b[0m \u001b[0mAnalysisException\u001b[0m\u001b[0;34m(\u001b[0m\u001b[0ms\u001b[0m\u001b[0;34m.\u001b[0m\u001b[0msplit\u001b[0m\u001b[0;34m(\u001b[0m\u001b[0;34m': '\u001b[0m\u001b[0;34m,\u001b[0m \u001b[0;36m1\u001b[0m\u001b[0;34m)\u001b[0m\u001b[0;34m[\u001b[0m\u001b[0;36m1\u001b[0m\u001b[0;34m]\u001b[0m\u001b[0;34m,\u001b[0m \u001b[0mstackTrace\u001b[0m\u001b[0;34m)\u001b[0m\u001b[0;34m\u001b[0m\u001b[0;34m\u001b[0m\u001b[0m\n\u001b[0m\u001b[1;32m     70\u001b[0m             \u001b[0;32mif\u001b[0m \u001b[0ms\u001b[0m\u001b[0;34m.\u001b[0m\u001b[0mstartswith\u001b[0m\u001b[0;34m(\u001b[0m\u001b[0;34m'org.apache.spark.sql.catalyst.analysis'\u001b[0m\u001b[0;34m)\u001b[0m\u001b[0;34m:\u001b[0m\u001b[0;34m\u001b[0m\u001b[0;34m\u001b[0m\u001b[0m\n\u001b[1;32m     71\u001b[0m                 \u001b[0;32mraise\u001b[0m \u001b[0mAnalysisException\u001b[0m\u001b[0;34m(\u001b[0m\u001b[0ms\u001b[0m\u001b[0;34m.\u001b[0m\u001b[0msplit\u001b[0m\u001b[0;34m(\u001b[0m\u001b[0;34m': '\u001b[0m\u001b[0;34m,\u001b[0m \u001b[0;36m1\u001b[0m\u001b[0;34m)\u001b[0m\u001b[0;34m[\u001b[0m\u001b[0;36m1\u001b[0m\u001b[0;34m]\u001b[0m\u001b[0;34m,\u001b[0m \u001b[0mstackTrace\u001b[0m\u001b[0;34m)\u001b[0m\u001b[0;34m\u001b[0m\u001b[0;34m\u001b[0m\u001b[0m\n",
      "\u001b[0;31mAnalysisException\u001b[0m: \"Union can only be performed on tables with the same number of columns, but the first table has 9 columns and the second table has 10 columns;;\\n'Union\\n:- Filter isnotnull(ID_A#10219)\\n:  +- Project [ID_A#10219, USER_NAME_A#10220, DEPARTMENT_CODE#10221, INIT_APPLICATION#10222, EMAIL_A#10223, DATDEBVLD#10224, DATFINVLD#10225, DAT_CHG#10226, Dersit#10227L]\\n:     +- Join LeftOuter, (ID_A#10219 = ID_A#10847)\\n:        :- LogicalRDD [ID_A#10219, USER_NAME_A#10220, DEPARTMENT_CODE#10221, INIT_APPLICATION#10222, EMAIL_A#10223, DATDEBVLD#10224, DATFINVLD#10225, DAT_CHG#10226, Dersit#10227L, CDR#10228L], false\\n:        +- Project [ID_A#10847, USER_NAME_A#10848, DEPARTMENT_CODE#10849, INIT_APPLICATION#10850, EMAIL_A#10851, DATDEBVLD#10852, to_date(current_timestamp(), None) AS DATFINVLD#10654, DAT_CHG#10854, Dersit#10643, CDR#10856L]\\n:           +- Project [ID_A#10847, USER_NAME_A#10848, DEPARTMENT_CODE#10849, INIT_APPLICATION#10850, EMAIL_A#10851, DATDEBVLD#10852, DATFINVLD#10853, DAT_CHG#10854, regexp_replace(cast(Dersit#10855L as string), 1, -1) AS Dersit#10643, CDR#10856L]\\n:              +- Project [ID_A#10847, USER_NAME_A#10848, DEPARTMENT_CODE#10849, INIT_APPLICATION#10850, EMAIL_A#10851, DATDEBVLD#10852, DATFINVLD#10853, DAT_CHG#10854, Dersit#10855L, CDR#10856L]\\n:                 +- Filter isnull(ID_A#10157)\\n:                    +- Join LeftOuter, (ID_A#10847 = ID_A#10157)\\n:                       :- LogicalRDD [ID_A#10847, USER_NAME_A#10848, DEPARTMENT_CODE#10849, INIT_APPLICATION#10850, EMAIL_A#10851, DATDEBVLD#10852, DATFINVLD#10853, DAT_CHG#10854, Dersit#10855L, CDR#10856L], false\\n:                       +- Project [ID_A#10157, USER_NAME_A#10158, DEPARTMENT_CODE#10159, INIT_APPLICATION#10160, EMAIL_A#10161]\\n:                          +- Filter (DAT_CSO#10164 = null)\\n:                             +- Project [ID_A#10157, USER_NAME_A#10158, DEPARTMENT_CODE#10159, INIT_APPLICATION#10160, EMAIL_A#10161, DAT_CSO#10164]\\n:                                +- LogicalRDD [ID_A#10157, USER_NAME_A#10158, DEPARTMENT_CODE#10159, INIT_APPLICATION#10160, EMAIL_A#10161, DAT_SIT#10162, DAT_CHG#10163, DAT_CSO#10164], false\\n+- Project [ID_A#10219, USER_NAME_A#10220, DEPARTMENT_CODE#10221, INIT_APPLICATION#10222, EMAIL_A#10223, DATDEBVLD#10224, to_date(current_timestamp(), None) AS DATFINVLD#10654, DAT_CHG#10226, Dersit#10643, CDR#10228L]\\n   +- Project [ID_A#10219, USER_NAME_A#10220, DEPARTMENT_CODE#10221, INIT_APPLICATION#10222, EMAIL_A#10223, DATDEBVLD#10224, DATFINVLD#10225, DAT_CHG#10226, regexp_replace(cast(Dersit#10227L as string), 1, -1) AS Dersit#10643, CDR#10228L]\\n      +- Project [ID_A#10219, USER_NAME_A#10220, DEPARTMENT_CODE#10221, INIT_APPLICATION#10222, EMAIL_A#10223, DATDEBVLD#10224, DATFINVLD#10225, DAT_CHG#10226, Dersit#10227L, CDR#10228L]\\n         +- Filter isnull(ID_A#10157)\\n            +- Join LeftOuter, (ID_A#10219 = ID_A#10157)\\n               :- LogicalRDD [ID_A#10219, USER_NAME_A#10220, DEPARTMENT_CODE#10221, INIT_APPLICATION#10222, EMAIL_A#10223, DATDEBVLD#10224, DATFINVLD#10225, DAT_CHG#10226, Dersit#10227L, CDR#10228L], false\\n               +- Project [ID_A#10157, USER_NAME_A#10158, DEPARTMENT_CODE#10159, INIT_APPLICATION#10160, EMAIL_A#10161]\\n                  +- Filter (DAT_CSO#10164 = null)\\n                     +- Project [ID_A#10157, USER_NAME_A#10158, DEPARTMENT_CODE#10159, INIT_APPLICATION#10160, EMAIL_A#10161, DAT_CSO#10164]\\n                        +- LogicalRDD [ID_A#10157, USER_NAME_A#10158, DEPARTMENT_CODE#10159, INIT_APPLICATION#10160, EMAIL_A#10161, DAT_SIT#10162, DAT_CHG#10163, DAT_CSO#10164], false\\n\""
     ]
    }
   ],
   "source": [
    "finaledd  = dataupdate.union(eddupdate)"
   ]
  },
  {
   "cell_type": "code",
   "execution_count": 166,
   "metadata": {},
   "outputs": [
    {
     "name": "stdout",
     "output_type": "stream",
     "text": [
      "+-------+-----------+---------------+----------------+------------------+----------+----------+----------+------+\n",
      "|   ID_A|USER_NAME_A|DEPARTMENT_CODE|INIT_APPLICATION|           EMAIL_A| DATDEBVLD| DATFINVLD|   DAT_CHG|Dersit|\n",
      "+-------+-----------+---------------+----------------+------------------+----------+----------+----------+------+\n",
      "|B-00002|     B00002|             35|            ?233|B00002@biat.com.tn|2021-08-12|9999-12-31|2021-08-12|     1|\n",
      "|B-00008|     B00008|            125|            ?233|B00008@biat.com.tn|2021-08-12|9999-12-31|2021-08-12|     1|\n",
      "|B-00004|     B00004|             41|            ?265|B00004@biat.com.tn|2021-08-12|9999-12-31|2021-08-12|     1|\n",
      "|B-00005|     B00005|            605|            ?266|B00005@biat.com.tn|2021-08-12|9999-12-31|2021-08-12|     1|\n",
      "|B-00006|     B00006|            125|            ?233|B00006@biat.com.tn|2021-08-12|9999-12-31|2021-08-12|     1|\n",
      "|B-00003|     B00003|            299|            ?202|B00003@biat.com.tn|2021-08-12|9999-12-31|2021-08-12|     1|\n",
      "|B-00001|     B00001|            555|            ?278|B00001@biat.com.tn|2021-08-12|9999-12-31|2021-08-12|     0|\n",
      "|B-00001|    B000211|            222|            ?255|B00001@biat.com.tn|2021-08-12|9999-12-31|2021-08-12|     1|\n",
      "|B-00007|     B00007|            103|            ?202|B00007@biat.com.tn|2021-08-12|9999-12-31|2021-08-12|     1|\n",
      "|B-00009|     B00009|            105|            ?105|B00009@biat.com.tn|2021-08-12|9999-12-31|2021-08-12|     1|\n",
      "|B-00004|     B00004|             41|            ?265|B00004@biat.com.tn|2021-08-12|2021-08-18|2021-08-12|    -1|\n",
      "|B-00005|     B00005|            605|            ?266|B00005@biat.com.tn|2021-08-12|2021-08-18|2021-08-12|    -1|\n",
      "|B-00006|     B00006|            125|            ?233|B00006@biat.com.tn|2021-08-12|2021-08-18|2021-08-12|    -1|\n",
      "|B-00003|     B00003|            299|            ?202|B00003@biat.com.tn|2021-08-12|2021-08-18|2021-08-12|    -1|\n",
      "|B-00007|     B00007|            103|            ?202|B00007@biat.com.tn|2021-08-12|2021-08-18|2021-08-12|    -1|\n",
      "+-------+-----------+---------------+----------------+------------------+----------+----------+----------+------+\n",
      "\n"
     ]
    }
   ],
   "source": [
    "finaledd.show()"
   ]
  },
  {
   "cell_type": "code",
   "execution_count": 172,
   "metadata": {},
   "outputs": [
    {
     "ename": "AnalysisException",
     "evalue": "'path hdfs://master.com:8020/user/value/edd/hdfs-DeletEDD.csv already exists.;'",
     "output_type": "error",
     "traceback": [
      "\u001b[0;31m---------------------------------------------------------------------------\u001b[0m",
      "\u001b[0;31mPy4JJavaError\u001b[0m                             Traceback (most recent call last)",
      "\u001b[0;32m~/anaconda3/lib/python3.7/site-packages/pyspark/sql/utils.py\u001b[0m in \u001b[0;36mdeco\u001b[0;34m(*a, **kw)\u001b[0m\n\u001b[1;32m     62\u001b[0m         \u001b[0;32mtry\u001b[0m\u001b[0;34m:\u001b[0m\u001b[0;34m\u001b[0m\u001b[0;34m\u001b[0m\u001b[0m\n\u001b[0;32m---> 63\u001b[0;31m             \u001b[0;32mreturn\u001b[0m \u001b[0mf\u001b[0m\u001b[0;34m(\u001b[0m\u001b[0;34m*\u001b[0m\u001b[0ma\u001b[0m\u001b[0;34m,\u001b[0m \u001b[0;34m**\u001b[0m\u001b[0mkw\u001b[0m\u001b[0;34m)\u001b[0m\u001b[0;34m\u001b[0m\u001b[0;34m\u001b[0m\u001b[0m\n\u001b[0m\u001b[1;32m     64\u001b[0m         \u001b[0;32mexcept\u001b[0m \u001b[0mpy4j\u001b[0m\u001b[0;34m.\u001b[0m\u001b[0mprotocol\u001b[0m\u001b[0;34m.\u001b[0m\u001b[0mPy4JJavaError\u001b[0m \u001b[0;32mas\u001b[0m \u001b[0me\u001b[0m\u001b[0;34m:\u001b[0m\u001b[0;34m\u001b[0m\u001b[0;34m\u001b[0m\u001b[0m\n",
      "\u001b[0;32m~/anaconda3/lib/python3.7/site-packages/py4j/protocol.py\u001b[0m in \u001b[0;36mget_return_value\u001b[0;34m(answer, gateway_client, target_id, name)\u001b[0m\n\u001b[1;32m    327\u001b[0m                     \u001b[0;34m\"An error occurred while calling {0}{1}{2}.\\n\"\u001b[0m\u001b[0;34m.\u001b[0m\u001b[0;34m\u001b[0m\u001b[0;34m\u001b[0m\u001b[0m\n\u001b[0;32m--> 328\u001b[0;31m                     format(target_id, \".\", name), value)\n\u001b[0m\u001b[1;32m    329\u001b[0m             \u001b[0;32melse\u001b[0m\u001b[0;34m:\u001b[0m\u001b[0;34m\u001b[0m\u001b[0;34m\u001b[0m\u001b[0m\n",
      "\u001b[0;31mPy4JJavaError\u001b[0m: An error occurred while calling o1764.csv.\n: org.apache.spark.sql.AnalysisException: path hdfs://master.com:8020/user/value/edd/hdfs-DeletEDD.csv already exists.;\n\tat org.apache.spark.sql.execution.datasources.InsertIntoHadoopFsRelationCommand.run(InsertIntoHadoopFsRelationCommand.scala:114)\n\tat org.apache.spark.sql.execution.command.DataWritingCommandExec.sideEffectResult$lzycompute(commands.scala:104)\n\tat org.apache.spark.sql.execution.command.DataWritingCommandExec.sideEffectResult(commands.scala:102)\n\tat org.apache.spark.sql.execution.command.DataWritingCommandExec.doExecute(commands.scala:122)\n\tat org.apache.spark.sql.execution.SparkPlan$$anonfun$execute$1.apply(SparkPlan.scala:131)\n\tat org.apache.spark.sql.execution.SparkPlan$$anonfun$execute$1.apply(SparkPlan.scala:127)\n\tat org.apache.spark.sql.execution.SparkPlan$$anonfun$executeQuery$1.apply(SparkPlan.scala:155)\n\tat org.apache.spark.rdd.RDDOperationScope$.withScope(RDDOperationScope.scala:151)\n\tat org.apache.spark.sql.execution.SparkPlan.executeQuery(SparkPlan.scala:152)\n\tat org.apache.spark.sql.execution.SparkPlan.execute(SparkPlan.scala:127)\n\tat org.apache.spark.sql.execution.QueryExecution.toRdd$lzycompute(QueryExecution.scala:83)\n\tat org.apache.spark.sql.execution.QueryExecution.toRdd(QueryExecution.scala:81)\n\tat org.apache.spark.sql.DataFrameWriter$$anonfun$runCommand$1.apply(DataFrameWriter.scala:677)\n\tat org.apache.spark.sql.DataFrameWriter$$anonfun$runCommand$1.apply(DataFrameWriter.scala:677)\n\tat org.apache.spark.sql.execution.SQLExecution$$anonfun$withNewExecutionId$1.apply(SQLExecution.scala:80)\n\tat org.apache.spark.sql.execution.SQLExecution$.withSQLConfPropagated(SQLExecution.scala:127)\n\tat org.apache.spark.sql.execution.SQLExecution$.withNewExecutionId(SQLExecution.scala:75)\n\tat org.apache.spark.sql.DataFrameWriter.runCommand(DataFrameWriter.scala:677)\n\tat org.apache.spark.sql.DataFrameWriter.saveToV1Source(DataFrameWriter.scala:286)\n\tat org.apache.spark.sql.DataFrameWriter.save(DataFrameWriter.scala:272)\n\tat org.apache.spark.sql.DataFrameWriter.save(DataFrameWriter.scala:230)\n\tat org.apache.spark.sql.DataFrameWriter.csv(DataFrameWriter.scala:665)\n\tat sun.reflect.NativeMethodAccessorImpl.invoke0(Native Method)\n\tat sun.reflect.NativeMethodAccessorImpl.invoke(NativeMethodAccessorImpl.java:62)\n\tat sun.reflect.DelegatingMethodAccessorImpl.invoke(DelegatingMethodAccessorImpl.java:43)\n\tat java.lang.reflect.Method.invoke(Method.java:498)\n\tat py4j.reflection.MethodInvoker.invoke(MethodInvoker.java:244)\n\tat py4j.reflection.ReflectionEngine.invoke(ReflectionEngine.java:357)\n\tat py4j.Gateway.invoke(Gateway.java:282)\n\tat py4j.commands.AbstractCommand.invokeMethod(AbstractCommand.java:132)\n\tat py4j.commands.CallCommand.execute(CallCommand.java:79)\n\tat py4j.GatewayConnection.run(GatewayConnection.java:238)\n\tat java.lang.Thread.run(Thread.java:748)\n",
      "\nDuring handling of the above exception, another exception occurred:\n",
      "\u001b[0;31mAnalysisException\u001b[0m                         Traceback (most recent call last)",
      "\u001b[0;32m<ipython-input-172-4b53a41a2fb3>\u001b[0m in \u001b[0;36m<module>\u001b[0;34m\u001b[0m\n\u001b[0;32m----> 1\u001b[0;31m \u001b[0mfinaledd\u001b[0m\u001b[0;34m.\u001b[0m\u001b[0mcoalesce\u001b[0m\u001b[0;34m(\u001b[0m\u001b[0;36m1\u001b[0m\u001b[0;34m)\u001b[0m\u001b[0;34m.\u001b[0m\u001b[0mwrite\u001b[0m\u001b[0;34m.\u001b[0m\u001b[0mcsv\u001b[0m\u001b[0;34m(\u001b[0m\u001b[0;34m\"hdfs://master.com:8020/user/value/edd/hdfs-DeletEDD.csv\"\u001b[0m\u001b[0;34m)\u001b[0m\u001b[0;34m\u001b[0m\u001b[0;34m\u001b[0m\u001b[0m\n\u001b[0m",
      "\u001b[0;32m~/anaconda3/lib/python3.7/site-packages/pyspark/sql/readwriter.py\u001b[0m in \u001b[0;36mcsv\u001b[0;34m(self, path, mode, compression, sep, quote, escape, header, nullValue, escapeQuotes, quoteAll, dateFormat, timestampFormat, ignoreLeadingWhiteSpace, ignoreTrailingWhiteSpace, charToEscapeQuoteEscaping, encoding, emptyValue)\u001b[0m\n\u001b[1;32m    930\u001b[0m                        \u001b[0mcharToEscapeQuoteEscaping\u001b[0m\u001b[0;34m=\u001b[0m\u001b[0mcharToEscapeQuoteEscaping\u001b[0m\u001b[0;34m,\u001b[0m\u001b[0;34m\u001b[0m\u001b[0;34m\u001b[0m\u001b[0m\n\u001b[1;32m    931\u001b[0m                        encoding=encoding, emptyValue=emptyValue)\n\u001b[0;32m--> 932\u001b[0;31m         \u001b[0mself\u001b[0m\u001b[0;34m.\u001b[0m\u001b[0m_jwrite\u001b[0m\u001b[0;34m.\u001b[0m\u001b[0mcsv\u001b[0m\u001b[0;34m(\u001b[0m\u001b[0mpath\u001b[0m\u001b[0;34m)\u001b[0m\u001b[0;34m\u001b[0m\u001b[0;34m\u001b[0m\u001b[0m\n\u001b[0m\u001b[1;32m    933\u001b[0m \u001b[0;34m\u001b[0m\u001b[0m\n\u001b[1;32m    934\u001b[0m     \u001b[0;34m@\u001b[0m\u001b[0msince\u001b[0m\u001b[0;34m(\u001b[0m\u001b[0;36m1.5\u001b[0m\u001b[0;34m)\u001b[0m\u001b[0;34m\u001b[0m\u001b[0;34m\u001b[0m\u001b[0m\n",
      "\u001b[0;32m~/anaconda3/lib/python3.7/site-packages/py4j/java_gateway.py\u001b[0m in \u001b[0;36m__call__\u001b[0;34m(self, *args)\u001b[0m\n\u001b[1;32m   1255\u001b[0m         \u001b[0manswer\u001b[0m \u001b[0;34m=\u001b[0m \u001b[0mself\u001b[0m\u001b[0;34m.\u001b[0m\u001b[0mgateway_client\u001b[0m\u001b[0;34m.\u001b[0m\u001b[0msend_command\u001b[0m\u001b[0;34m(\u001b[0m\u001b[0mcommand\u001b[0m\u001b[0;34m)\u001b[0m\u001b[0;34m\u001b[0m\u001b[0;34m\u001b[0m\u001b[0m\n\u001b[1;32m   1256\u001b[0m         return_value = get_return_value(\n\u001b[0;32m-> 1257\u001b[0;31m             answer, self.gateway_client, self.target_id, self.name)\n\u001b[0m\u001b[1;32m   1258\u001b[0m \u001b[0;34m\u001b[0m\u001b[0m\n\u001b[1;32m   1259\u001b[0m         \u001b[0;32mfor\u001b[0m \u001b[0mtemp_arg\u001b[0m \u001b[0;32min\u001b[0m \u001b[0mtemp_args\u001b[0m\u001b[0;34m:\u001b[0m\u001b[0;34m\u001b[0m\u001b[0;34m\u001b[0m\u001b[0m\n",
      "\u001b[0;32m~/anaconda3/lib/python3.7/site-packages/pyspark/sql/utils.py\u001b[0m in \u001b[0;36mdeco\u001b[0;34m(*a, **kw)\u001b[0m\n\u001b[1;32m     67\u001b[0m                                              e.java_exception.getStackTrace()))\n\u001b[1;32m     68\u001b[0m             \u001b[0;32mif\u001b[0m \u001b[0ms\u001b[0m\u001b[0;34m.\u001b[0m\u001b[0mstartswith\u001b[0m\u001b[0;34m(\u001b[0m\u001b[0;34m'org.apache.spark.sql.AnalysisException: '\u001b[0m\u001b[0;34m)\u001b[0m\u001b[0;34m:\u001b[0m\u001b[0;34m\u001b[0m\u001b[0;34m\u001b[0m\u001b[0m\n\u001b[0;32m---> 69\u001b[0;31m                 \u001b[0;32mraise\u001b[0m \u001b[0mAnalysisException\u001b[0m\u001b[0;34m(\u001b[0m\u001b[0ms\u001b[0m\u001b[0;34m.\u001b[0m\u001b[0msplit\u001b[0m\u001b[0;34m(\u001b[0m\u001b[0;34m': '\u001b[0m\u001b[0;34m,\u001b[0m \u001b[0;36m1\u001b[0m\u001b[0;34m)\u001b[0m\u001b[0;34m[\u001b[0m\u001b[0;36m1\u001b[0m\u001b[0;34m]\u001b[0m\u001b[0;34m,\u001b[0m \u001b[0mstackTrace\u001b[0m\u001b[0;34m)\u001b[0m\u001b[0;34m\u001b[0m\u001b[0;34m\u001b[0m\u001b[0m\n\u001b[0m\u001b[1;32m     70\u001b[0m             \u001b[0;32mif\u001b[0m \u001b[0ms\u001b[0m\u001b[0;34m.\u001b[0m\u001b[0mstartswith\u001b[0m\u001b[0;34m(\u001b[0m\u001b[0;34m'org.apache.spark.sql.catalyst.analysis'\u001b[0m\u001b[0;34m)\u001b[0m\u001b[0;34m:\u001b[0m\u001b[0;34m\u001b[0m\u001b[0;34m\u001b[0m\u001b[0m\n\u001b[1;32m     71\u001b[0m                 \u001b[0;32mraise\u001b[0m \u001b[0mAnalysisException\u001b[0m\u001b[0;34m(\u001b[0m\u001b[0ms\u001b[0m\u001b[0;34m.\u001b[0m\u001b[0msplit\u001b[0m\u001b[0;34m(\u001b[0m\u001b[0;34m': '\u001b[0m\u001b[0;34m,\u001b[0m \u001b[0;36m1\u001b[0m\u001b[0;34m)\u001b[0m\u001b[0;34m[\u001b[0m\u001b[0;36m1\u001b[0m\u001b[0;34m]\u001b[0m\u001b[0;34m,\u001b[0m \u001b[0mstackTrace\u001b[0m\u001b[0;34m)\u001b[0m\u001b[0;34m\u001b[0m\u001b[0;34m\u001b[0m\u001b[0m\n",
      "\u001b[0;31mAnalysisException\u001b[0m: 'path hdfs://master.com:8020/user/value/edd/hdfs-DeletEDD.csv already exists.;'"
     ]
    }
   ],
   "source": [
    "finaledd.coalesce(1).write.csv(\"hdfs://master.com:8020/user/value/edd/hdfs-DeletEDD.csv\")"
   ]
  },
  {
   "cell_type": "code",
   "execution_count": 173,
   "metadata": {},
   "outputs": [],
   "source": [
    "edd_hdfs = spark.read.option(\"header\",\"true\").option(\"delimiter\",\",\").option(\"inferSchema\",\"true\").csv(\"hdfs://master.com:8020/user/value/edd/hdfs-DeletEDD.csv\")"
   ]
  },
  {
   "cell_type": "code",
   "execution_count": 174,
   "metadata": {},
   "outputs": [
    {
     "name": "stdout",
     "output_type": "stream",
     "text": [
      "+-------+-------+---+----+------------------+-------------------+-------------------+-------------------+---+\n",
      "|B-00002| B00002| 35|?233|B00002@biat.com.tn|        2021-08-125|         9999-12-31|        2021-08-127|  1|\n",
      "+-------+-------+---+----+------------------+-------------------+-------------------+-------------------+---+\n",
      "|B-00008| B00008|125|?233|B00008@biat.com.tn|2021-08-12 00:00:00|9999-12-31 00:00:00|2021-08-12 00:00:00|  1|\n",
      "|B-00004| B00004| 41|?265|B00004@biat.com.tn|2021-08-12 00:00:00|9999-12-31 00:00:00|2021-08-12 00:00:00|  1|\n",
      "|B-00005| B00005|605|?266|B00005@biat.com.tn|2021-08-12 00:00:00|9999-12-31 00:00:00|2021-08-12 00:00:00|  1|\n",
      "|B-00006| B00006|125|?233|B00006@biat.com.tn|2021-08-12 00:00:00|9999-12-31 00:00:00|2021-08-12 00:00:00|  1|\n",
      "|B-00003| B00003|299|?202|B00003@biat.com.tn|2021-08-12 00:00:00|9999-12-31 00:00:00|2021-08-12 00:00:00|  1|\n",
      "|B-00001| B00001|555|?278|B00001@biat.com.tn|2021-08-12 00:00:00|9999-12-31 00:00:00|2021-08-12 00:00:00|  0|\n",
      "|B-00001|B000211|222|?255|B00001@biat.com.tn|2021-08-12 00:00:00|9999-12-31 00:00:00|2021-08-12 00:00:00|  1|\n",
      "|B-00007| B00007|103|?202|B00007@biat.com.tn|2021-08-12 00:00:00|9999-12-31 00:00:00|2021-08-12 00:00:00|  1|\n",
      "|B-00009| B00009|105|?105|B00009@biat.com.tn|2021-08-12 00:00:00|9999-12-31 00:00:00|2021-08-12 00:00:00|  1|\n",
      "|B-00004| B00004| 41|?265|B00004@biat.com.tn|2021-08-12 00:00:00|2021-08-18 00:00:00|2021-08-12 00:00:00| -1|\n",
      "|B-00005| B00005|605|?266|B00005@biat.com.tn|2021-08-12 00:00:00|2021-08-18 00:00:00|2021-08-12 00:00:00| -1|\n",
      "|B-00006| B00006|125|?233|B00006@biat.com.tn|2021-08-12 00:00:00|2021-08-18 00:00:00|2021-08-12 00:00:00| -1|\n",
      "|B-00003| B00003|299|?202|B00003@biat.com.tn|2021-08-12 00:00:00|2021-08-18 00:00:00|2021-08-12 00:00:00| -1|\n",
      "|B-00007| B00007|103|?202|B00007@biat.com.tn|2021-08-12 00:00:00|2021-08-18 00:00:00|2021-08-12 00:00:00| -1|\n",
      "+-------+-------+---+----+------------------+-------------------+-------------------+-------------------+---+\n",
      "\n"
     ]
    }
   ],
   "source": [
    "edd_hdfs.show()"
   ]
  },
  {
   "cell_type": "code",
   "execution_count": 179,
   "metadata": {},
   "outputs": [],
   "source": [
    "cnx.execute(\"load data INPATH 'hdfs://master.com:8020/user/value/edd/hdfs-DeletEDD.csv' overwrite into table edduser\")\n"
   ]
  },
  {
   "cell_type": "code",
   "execution_count": 180,
   "metadata": {},
   "outputs": [],
   "source": [
    "cnx.execute(\"select * from edduser\")"
   ]
  },
  {
   "cell_type": "code",
   "execution_count": 181,
   "metadata": {},
   "outputs": [],
   "source": [
    "eddfinal = cnx.fetchall()"
   ]
  },
  {
   "cell_type": "code",
   "execution_count": 182,
   "metadata": {},
   "outputs": [
    {
     "name": "stdout",
     "output_type": "stream",
     "text": [
      "[('B-00002', 'B00002', '35', '?233', 'B00002@biat.com.tn', '2021-08-12', '9999-12-31', '2021-08-12', 1), ('B-00008', 'B00008', '125', '?233', 'B00008@biat.com.tn', '2021-08-12', '9999-12-31', '2021-08-12', 1), ('B-00004', 'B00004', '41', '?265', 'B00004@biat.com.tn', '2021-08-12', '9999-12-31', '2021-08-12', 1), ('B-00005', 'B00005', '605', '?266', 'B00005@biat.com.tn', '2021-08-12', '9999-12-31', '2021-08-12', 1), ('B-00006', 'B00006', '125', '?233', 'B00006@biat.com.tn', '2021-08-12', '9999-12-31', '2021-08-12', 1), ('B-00003', 'B00003', '299', '?202', 'B00003@biat.com.tn', '2021-08-12', '9999-12-31', '2021-08-12', 1), ('B-00001', 'B00001', '555', '?278', 'B00001@biat.com.tn', '2021-08-12', '9999-12-31', '2021-08-12', 0), ('B-00001', 'B000211', '222', '?255', 'B00001@biat.com.tn', '2021-08-12', '9999-12-31', '2021-08-12', 1), ('B-00007', 'B00007', '103', '?202', 'B00007@biat.com.tn', '2021-08-12', '9999-12-31', '2021-08-12', 1), ('B-00009', 'B00009', '105', '?105', 'B00009@biat.com.tn', '2021-08-12', '9999-12-31', '2021-08-12', 1), ('B-00004', 'B00004', '41', '?265', 'B00004@biat.com.tn', '2021-08-12', '2021-08-18', '2021-08-12', -1), ('B-00005', 'B00005', '605', '?266', 'B00005@biat.com.tn', '2021-08-12', '2021-08-18', '2021-08-12', -1), ('B-00006', 'B00006', '125', '?233', 'B00006@biat.com.tn', '2021-08-12', '2021-08-18', '2021-08-12', -1), ('B-00003', 'B00003', '299', '?202', 'B00003@biat.com.tn', '2021-08-12', '2021-08-18', '2021-08-12', -1), ('B-00007', 'B00007', '103', '?202', 'B00007@biat.com.tn', '2021-08-12', '2021-08-18', '2021-08-12', -1)]\n"
     ]
    }
   ],
   "source": [
    "print(eddfinal)"
   ]
  },
  {
   "cell_type": "code",
   "execution_count": 183,
   "metadata": {},
   "outputs": [],
   "source": [
    "hiveEdd = spark.createDataFrame(eddfinal,['ID_A','USER_NAME_A','DEPARTMENT_CODE','INIT_APPLICATION','EMAIL_A','DATDEBVLD','DATFINVLD','DAT_CHG','Dersit'])"
   ]
  },
  {
   "cell_type": "code",
   "execution_count": 184,
   "metadata": {},
   "outputs": [
    {
     "name": "stdout",
     "output_type": "stream",
     "text": [
      "+-------+-----------+---------------+----------------+------------------+----------+----------+----------+------+\n",
      "|   ID_A|USER_NAME_A|DEPARTMENT_CODE|INIT_APPLICATION|           EMAIL_A| DATDEBVLD| DATFINVLD|   DAT_CHG|Dersit|\n",
      "+-------+-----------+---------------+----------------+------------------+----------+----------+----------+------+\n",
      "|B-00002|     B00002|             35|            ?233|B00002@biat.com.tn|2021-08-12|9999-12-31|2021-08-12|     1|\n",
      "|B-00008|     B00008|            125|            ?233|B00008@biat.com.tn|2021-08-12|9999-12-31|2021-08-12|     1|\n",
      "|B-00004|     B00004|             41|            ?265|B00004@biat.com.tn|2021-08-12|9999-12-31|2021-08-12|     1|\n",
      "|B-00005|     B00005|            605|            ?266|B00005@biat.com.tn|2021-08-12|9999-12-31|2021-08-12|     1|\n",
      "|B-00006|     B00006|            125|            ?233|B00006@biat.com.tn|2021-08-12|9999-12-31|2021-08-12|     1|\n",
      "|B-00003|     B00003|            299|            ?202|B00003@biat.com.tn|2021-08-12|9999-12-31|2021-08-12|     1|\n",
      "|B-00001|     B00001|            555|            ?278|B00001@biat.com.tn|2021-08-12|9999-12-31|2021-08-12|     0|\n",
      "|B-00001|    B000211|            222|            ?255|B00001@biat.com.tn|2021-08-12|9999-12-31|2021-08-12|     1|\n",
      "|B-00007|     B00007|            103|            ?202|B00007@biat.com.tn|2021-08-12|9999-12-31|2021-08-12|     1|\n",
      "|B-00009|     B00009|            105|            ?105|B00009@biat.com.tn|2021-08-12|9999-12-31|2021-08-12|     1|\n",
      "|B-00004|     B00004|             41|            ?265|B00004@biat.com.tn|2021-08-12|2021-08-18|2021-08-12|    -1|\n",
      "|B-00005|     B00005|            605|            ?266|B00005@biat.com.tn|2021-08-12|2021-08-18|2021-08-12|    -1|\n",
      "|B-00006|     B00006|            125|            ?233|B00006@biat.com.tn|2021-08-12|2021-08-18|2021-08-12|    -1|\n",
      "|B-00003|     B00003|            299|            ?202|B00003@biat.com.tn|2021-08-12|2021-08-18|2021-08-12|    -1|\n",
      "|B-00007|     B00007|            103|            ?202|B00007@biat.com.tn|2021-08-12|2021-08-18|2021-08-12|    -1|\n",
      "+-------+-----------+---------------+----------------+------------------+----------+----------+----------+------+\n",
      "\n"
     ]
    }
   ],
   "source": [
    "hiveEdd.show()"
   ]
  },
  {
   "cell_type": "code",
   "execution_count": 198,
   "metadata": {},
   "outputs": [
    {
     "name": "stdout",
     "output_type": "stream",
     "text": [
      "+-------+-----------+---------------+----------------+------------------+----------+----------+----------+------+---+\n",
      "|   ID_A|USER_NAME_A|DEPARTMENT_CODE|INIT_APPLICATION|           EMAIL_A| DATDEBVLD| DATFINVLD|   DAT_CHG|Dersit|CDR|\n",
      "+-------+-----------+---------------+----------------+------------------+----------+----------+----------+------+---+\n",
      "|B-00002|     B00002|             35|            ?233|B00002@biat.com.tn|2021-08-12|9999-12-31|2021-08-12|     1|  1|\n",
      "|B-00008|     B00008|            125|            ?233|B00008@biat.com.tn|2021-08-12|9999-12-31|2021-08-12|     1|  2|\n",
      "|B-00004|     B00004|             41|            ?265|B00004@biat.com.tn|2021-08-12|9999-12-31|2021-08-12|     1|  3|\n",
      "|B-00005|     B00005|            605|            ?266|B00005@biat.com.tn|2021-08-12|9999-12-31|2021-08-12|     1|  4|\n",
      "|B-00006|     B00006|            125|            ?233|B00006@biat.com.tn|2021-08-12|9999-12-31|2021-08-12|     1|  5|\n",
      "|B-00003|     B00003|            299|            ?202|B00003@biat.com.tn|2021-08-12|9999-12-31|2021-08-12|     1|  6|\n",
      "|B-00001|     B00001|            555|            ?278|B00001@biat.com.tn|2021-08-12|9999-12-31|2021-08-12|     0|  7|\n",
      "|B-00001|    B000211|            222|            ?255|B00001@biat.com.tn|2021-08-12|9999-12-31|2021-08-12|     1|  8|\n",
      "|B-00007|     B00007|            103|            ?202|B00007@biat.com.tn|2021-08-12|9999-12-31|2021-08-12|     1|  9|\n",
      "|B-00009|     B00009|            105|            ?105|B00009@biat.com.tn|2021-08-12|9999-12-31|2021-08-12|     1| 10|\n",
      "|B-00004|     B00004|             41|            ?265|B00004@biat.com.tn|2021-08-12|2021-08-18|2021-08-12|    -1| 11|\n",
      "|B-00005|     B00005|            605|            ?266|B00005@biat.com.tn|2021-08-12|2021-08-18|2021-08-12|    -1| 12|\n",
      "|B-00006|     B00006|            125|            ?233|B00006@biat.com.tn|2021-08-12|2021-08-18|2021-08-12|    -1| 13|\n",
      "|B-00003|     B00003|            299|            ?202|B00003@biat.com.tn|2021-08-12|2021-08-18|2021-08-12|    -1| 14|\n",
      "|B-00007|     B00007|            103|            ?202|B00007@biat.com.tn|2021-08-12|2021-08-18|2021-08-12|    -1| 15|\n",
      "+-------+-----------+---------------+----------------+------------------+----------+----------+----------+------+---+\n",
      "\n"
     ]
    }
   ],
   "source": [
    "from pyspark.sql.functions import monotonically_increasing_id\n",
    "from pyspark.sql.window import Window\n",
    "cdrdata = hiveEdd.withColumn(\"CDR\",monotonically_increasing_id())\n",
    "w = Window().orderBy('CDR')\n",
    "cdrdata.withColumn(\"CDR\",(0 + row_number().over(w))).show()"
   ]
  },
  {
   "cell_type": "code",
   "execution_count": 190,
   "metadata": {},
   "outputs": [
    {
     "name": "stdout",
     "output_type": "stream",
     "text": [
      "+-------+-----------+---------------+----------------+------------------+----------+----------+----------+------+-----------+\n",
      "|   ID_A|USER_NAME_A|DEPARTMENT_CODE|INIT_APPLICATION|           EMAIL_A| DATDEBVLD| DATFINVLD|   DAT_CHG|Dersit|        CDR|\n",
      "+-------+-----------+---------------+----------------+------------------+----------+----------+----------+------+-----------+\n",
      "|B-00002|     B00002|             35|            ?233|B00002@biat.com.tn|2021-08-12|9999-12-31|2021-08-12|     1|          0|\n",
      "|B-00008|     B00008|            125|            ?233|B00008@biat.com.tn|2021-08-12|9999-12-31|2021-08-12|     1|          1|\n",
      "|B-00004|     B00004|             41|            ?265|B00004@biat.com.tn|2021-08-12|9999-12-31|2021-08-12|     1|          2|\n",
      "|B-00005|     B00005|            605|            ?266|B00005@biat.com.tn|2021-08-12|9999-12-31|2021-08-12|     1| 8589934592|\n",
      "|B-00006|     B00006|            125|            ?233|B00006@biat.com.tn|2021-08-12|9999-12-31|2021-08-12|     1| 8589934593|\n",
      "|B-00003|     B00003|            299|            ?202|B00003@biat.com.tn|2021-08-12|9999-12-31|2021-08-12|     1| 8589934594|\n",
      "|B-00001|     B00001|            555|            ?278|B00001@biat.com.tn|2021-08-12|9999-12-31|2021-08-12|     0|17179869184|\n",
      "|B-00001|    B000211|            222|            ?255|B00001@biat.com.tn|2021-08-12|9999-12-31|2021-08-12|     1|17179869185|\n",
      "|B-00007|     B00007|            103|            ?202|B00007@biat.com.tn|2021-08-12|9999-12-31|2021-08-12|     1|17179869186|\n",
      "|B-00009|     B00009|            105|            ?105|B00009@biat.com.tn|2021-08-12|9999-12-31|2021-08-12|     1|25769803776|\n",
      "|B-00004|     B00004|             41|            ?265|B00004@biat.com.tn|2021-08-12|2021-08-18|2021-08-12|    -1|25769803777|\n",
      "|B-00005|     B00005|            605|            ?266|B00005@biat.com.tn|2021-08-12|2021-08-18|2021-08-12|    -1|25769803778|\n",
      "|B-00006|     B00006|            125|            ?233|B00006@biat.com.tn|2021-08-12|2021-08-18|2021-08-12|    -1|25769803779|\n",
      "|B-00003|     B00003|            299|            ?202|B00003@biat.com.tn|2021-08-12|2021-08-18|2021-08-12|    -1|25769803780|\n",
      "|B-00007|     B00007|            103|            ?202|B00007@biat.com.tn|2021-08-12|2021-08-18|2021-08-12|    -1|25769803781|\n",
      "+-------+-----------+---------------+----------------+------------------+----------+----------+----------+------+-----------+\n",
      "\n"
     ]
    }
   ],
   "source": [
    "cdrdata.show()"
   ]
  },
  {
   "cell_type": "code",
   "execution_count": null,
   "metadata": {},
   "outputs": [],
   "source": []
  }
 ],
 "metadata": {
  "kernelspec": {
   "display_name": "Python 3",
   "language": "python",
   "name": "python3"
  },
  "language_info": {
   "codemirror_mode": {
    "name": "ipython",
    "version": 3
   },
   "file_extension": ".py",
   "mimetype": "text/x-python",
   "name": "python",
   "nbconvert_exporter": "python",
   "pygments_lexer": "ipython3",
   "version": "3.7.3"
  }
 },
 "nbformat": 4,
 "nbformat_minor": 4
}
