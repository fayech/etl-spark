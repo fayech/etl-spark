{
 "cells": [
  {
   "cell_type": "code",
   "execution_count": 1,
   "metadata": {},
   "outputs": [],
   "source": [
    "import pyspark\n",
    "from pyspark.sql import SparkSession"
   ]
  },
  {
   "cell_type": "code",
   "execution_count": 2,
   "metadata": {},
   "outputs": [],
   "source": [
    "spark = SparkSession.builder.getOrCreate()"
   ]
  },
  {
   "cell_type": "code",
   "execution_count": 3,
   "metadata": {},
   "outputs": [],
   "source": [
    "from pyspark import SparkContext\n",
    "from pyspark.sql import SQLContext\n",
    "from pyspark.sql.types import *"
   ]
  },
  {
   "cell_type": "code",
   "execution_count": 5,
   "metadata": {},
   "outputs": [],
   "source": [
    "df_hdfs = spark.read.option(\"header\",\"true\").option(\"delimiter\",\",\").option(\"inferSchema\",\"true\").csv(\"hdfs://master.com:8020/user/value/user1.txt\")"
   ]
  },
  {
   "cell_type": "code",
   "execution_count": 6,
   "metadata": {},
   "outputs": [
    {
     "name": "stdout",
     "output_type": "stream",
     "text": [
      "+-------+-----------+---------------+----------------+------------------+\n",
      "|   ID_A|USER_NAME_A|DEPARTMENT_CODE|INIT_APPLICATION|           EMAIL_A|\n",
      "+-------+-----------+---------------+----------------+------------------+\n",
      "|B-00001|    B000211|            222|            ?255|B00001@biat.com.tn|\n",
      "|B-00002|     B00002|             35|            ?233|B00002@biat.com.tn|\n",
      "|B-00008|     B00008|            125|            ?233|B00008@biat.com.tn|\n",
      "|B-00009|     B00009|            105|            ?105|B00009@biat.com.tn|\n",
      "+-------+-----------+---------------+----------------+------------------+\n",
      "\n"
     ]
    }
   ],
   "source": [
    "df_hdfs.show()"
   ]
  },
  {
   "cell_type": "code",
   "execution_count": 10,
   "metadata": {},
   "outputs": [],
   "source": [
    "import time\n",
    "import datetime\n",
    "from pyspark.sql.functions import lit,unix_timestamp\n",
    "import pyspark.sql.functions as f\n",
    "from pyspark.sql.functions import *"
   ]
  },
  {
   "cell_type": "code",
   "execution_count": 11,
   "metadata": {},
   "outputs": [],
   "source": [
    "newdf = df_hdfs.withColumn('DAT_SIT',to_date(current_timestamp())).withColumn('DATCHG',to_date(current_timestamp()))\n"
   ]
  },
  {
   "cell_type": "code",
   "execution_count": 12,
   "metadata": {},
   "outputs": [
    {
     "name": "stdout",
     "output_type": "stream",
     "text": [
      "+-------+-----------+---------------+----------------+------------------+----------+----------+\n",
      "|   ID_A|USER_NAME_A|DEPARTMENT_CODE|INIT_APPLICATION|           EMAIL_A| DATDEBVLD|    DATCHG|\n",
      "+-------+-----------+---------------+----------------+------------------+----------+----------+\n",
      "|B-00001|    B000211|            222|            ?255|B00001@biat.com.tn|2021-08-04|2021-08-04|\n",
      "|B-00002|     B00002|             35|            ?233|B00002@biat.com.tn|2021-08-04|2021-08-04|\n",
      "|B-00008|     B00008|            125|            ?233|B00008@biat.com.tn|2021-08-04|2021-08-04|\n",
      "|B-00009|     B00009|            105|            ?105|B00009@biat.com.tn|2021-08-04|2021-08-04|\n",
      "+-------+-----------+---------------+----------------+------------------+----------+----------+\n",
      "\n"
     ]
    }
   ],
   "source": [
    "newdf.show()"
   ]
  },
  {
   "cell_type": "code",
   "execution_count": 27,
   "metadata": {},
   "outputs": [],
   "source": [
    "findata=newdf.withColumn(\"DAT_CSO\",lit(999))"
   ]
  },
  {
   "cell_type": "code",
   "execution_count": 28,
   "metadata": {},
   "outputs": [
    {
     "name": "stdout",
     "output_type": "stream",
     "text": [
      "+-------+-----------+---------------+----------------+------------------+----------+----------+---------+\n",
      "|   ID_A|USER_NAME_A|DEPARTMENT_CODE|INIT_APPLICATION|           EMAIL_A| DATDEBVLD|    DATCHG|DATFINVLD|\n",
      "+-------+-----------+---------------+----------------+------------------+----------+----------+---------+\n",
      "|B-00001|    B000211|            222|            ?255|B00001@biat.com.tn|2021-08-04|2021-08-04|      999|\n",
      "|B-00002|     B00002|             35|            ?233|B00002@biat.com.tn|2021-08-04|2021-08-04|      999|\n",
      "|B-00008|     B00008|            125|            ?233|B00008@biat.com.tn|2021-08-04|2021-08-04|      999|\n",
      "|B-00009|     B00009|            105|            ?105|B00009@biat.com.tn|2021-08-04|2021-08-04|      999|\n",
      "+-------+-----------+---------------+----------------+------------------+----------+----------+---------+\n",
      "\n"
     ]
    }
   ],
   "source": [
    "findata.show()"
   ]
  },
  {
   "cell_type": "code",
   "execution_count": 13,
   "metadata": {},
   "outputs": [],
   "source": [
    "from pyhive  import  hive\n",
    "from pyhive import  presto"
   ]
  },
  {
   "cell_type": "code",
   "execution_count": 14,
   "metadata": {},
   "outputs": [],
   "source": [
    "conn = hive.Connection(host=\"localhost\",port=10000,username=\"value\",database=\"default\")"
   ]
  },
  {
   "cell_type": "code",
   "execution_count": 21,
   "metadata": {},
   "outputs": [],
   "source": [
    "cnx = conn.cursor()"
   ]
  },
  {
   "cell_type": "code",
   "execution_count": 22,
   "metadata": {},
   "outputs": [],
   "source": [
    "cnx.execute(\"select * from O_T24_USER\")"
   ]
  },
  {
   "cell_type": "code",
   "execution_count": 23,
   "metadata": {},
   "outputs": [],
   "source": [
    "hiveods = cnx.fetchall()"
   ]
  },
  {
   "cell_type": "code",
   "execution_count": 24,
   "metadata": {},
   "outputs": [
    {
     "name": "stdout",
     "output_type": "stream",
     "text": [
      "[('B-00001', 'B00001', '555', '?278', 'B00001@biat.com.tn', datetime.datetime(2021, 8, 4, 0, 0), datetime.datetime(2021, 8, 4, 0, 0), '2021-08-04'), ('B-00002', 'B00002', '35', '?233', 'B00002@biat.com.tn', datetime.datetime(2021, 8, 4, 0, 0), datetime.datetime(2021, 8, 4, 0, 0), '2021-08-04'), ('B-00003', 'B00003', '299', '?202', 'B00003@biat.com.tn', datetime.datetime(2021, 8, 4, 0, 0), datetime.datetime(2021, 8, 4, 0, 0), '2021-08-04'), ('B-00004', 'B00004', '41', '?265', 'B00004@biat.com.tn', datetime.datetime(2021, 8, 4, 0, 0), datetime.datetime(2021, 8, 4, 0, 0), '2021-08-04'), ('B-00005', 'B00005', '605', '?266', 'B00005@biat.com.tn', datetime.datetime(2021, 8, 4, 0, 0), datetime.datetime(2021, 8, 4, 0, 0), '2021-08-04'), ('B-00006', 'B00006', '125', '?233', 'B00006@biat.com.tn', datetime.datetime(2021, 8, 4, 0, 0), datetime.datetime(2021, 8, 4, 0, 0), '2021-08-04'), ('B-00007', 'B00007', '103', '?202', 'B00007@biat.com.tn', datetime.datetime(2021, 8, 4, 0, 0), datetime.datetime(2021, 8, 4, 0, 0), '2021-08-04')]\n"
     ]
    }
   ],
   "source": [
    "print(hiveods)"
   ]
  },
  {
   "cell_type": "code",
   "execution_count": 25,
   "metadata": {},
   "outputs": [],
   "source": [
    "df1= spark.createDataFrame(newschema,['ID_A','USER_NAME_A','DEPARTMENT_CODE','INIT_APPLICATION','EMAIL_A','DAT_SIT','DATCHG','DAT_CSO'])"
   ]
  },
  {
   "cell_type": "code",
   "execution_count": 26,
   "metadata": {},
   "outputs": [
    {
     "name": "stdout",
     "output_type": "stream",
     "text": [
      "+-------+-----------+---------------+----------------+------------------+-------------------+-------------------+----------+\n",
      "|   ID_A|USER_NAME_A|DEPARTMENT_CODE|INIT_APPLICATION|           EMAIL_A|          DATDEBVLD|             DATCHG| DATFINVLD|\n",
      "+-------+-----------+---------------+----------------+------------------+-------------------+-------------------+----------+\n",
      "|B-00001|     B00001|            555|            ?278|B00001@biat.com.tn|2021-08-04 00:00:00|2021-08-04 00:00:00|2021-08-04|\n",
      "|B-00002|     B00002|             35|            ?233|B00002@biat.com.tn|2021-08-04 00:00:00|2021-08-04 00:00:00|2021-08-04|\n",
      "|B-00003|     B00003|            299|            ?202|B00003@biat.com.tn|2021-08-04 00:00:00|2021-08-04 00:00:00|2021-08-04|\n",
      "|B-00004|     B00004|             41|            ?265|B00004@biat.com.tn|2021-08-04 00:00:00|2021-08-04 00:00:00|2021-08-04|\n",
      "|B-00005|     B00005|            605|            ?266|B00005@biat.com.tn|2021-08-04 00:00:00|2021-08-04 00:00:00|2021-08-04|\n",
      "|B-00006|     B00006|            125|            ?233|B00006@biat.com.tn|2021-08-04 00:00:00|2021-08-04 00:00:00|2021-08-04|\n",
      "|B-00007|     B00007|            103|            ?202|B00007@biat.com.tn|2021-08-04 00:00:00|2021-08-04 00:00:00|2021-08-04|\n",
      "+-------+-----------+---------------+----------------+------------------+-------------------+-------------------+----------+\n",
      "\n"
     ]
    }
   ],
   "source": [
    "df1.show()"
   ]
  },
  {
   "cell_type": "code",
   "execution_count": 37,
   "metadata": {},
   "outputs": [],
   "source": [
    "from functools import reduce\n",
    "from pyspark.sql import DataFrame \n",
    "def unionAll(*dfs):\n",
    "    return reduce(DataFrame.unionAll,dfs)"
   ]
  },
  {
   "cell_type": "code",
   "execution_count": 38,
   "metadata": {},
   "outputs": [],
   "source": [
    "hivenew = unionAll(df1,findata)"
   ]
  },
  {
   "cell_type": "code",
   "execution_count": 40,
   "metadata": {},
   "outputs": [
    {
     "name": "stdout",
     "output_type": "stream",
     "text": [
      "+-------+-----------+---------------+----------------+------------------+-------------------+-------------------+----------+\n",
      "|   ID_A|USER_NAME_A|DEPARTMENT_CODE|INIT_APPLICATION|           EMAIL_A|          DATDEBVLD|             DATCHG| DATFINVLD|\n",
      "+-------+-----------+---------------+----------------+------------------+-------------------+-------------------+----------+\n",
      "|B-00001|     B00001|            555|            ?278|B00001@biat.com.tn|2021-08-04 00:00:00|2021-08-04 00:00:00|2021-08-04|\n",
      "|B-00002|     B00002|             35|            ?233|B00002@biat.com.tn|2021-08-04 00:00:00|2021-08-04 00:00:00|2021-08-04|\n",
      "|B-00003|     B00003|            299|            ?202|B00003@biat.com.tn|2021-08-04 00:00:00|2021-08-04 00:00:00|2021-08-04|\n",
      "|B-00004|     B00004|             41|            ?265|B00004@biat.com.tn|2021-08-04 00:00:00|2021-08-04 00:00:00|2021-08-04|\n",
      "|B-00005|     B00005|            605|            ?266|B00005@biat.com.tn|2021-08-04 00:00:00|2021-08-04 00:00:00|2021-08-04|\n",
      "|B-00006|     B00006|            125|            ?233|B00006@biat.com.tn|2021-08-04 00:00:00|2021-08-04 00:00:00|2021-08-04|\n",
      "|B-00007|     B00007|            103|            ?202|B00007@biat.com.tn|2021-08-04 00:00:00|2021-08-04 00:00:00|2021-08-04|\n",
      "|B-00001|    B000211|            222|            ?255|B00001@biat.com.tn|2021-08-04 00:00:00|2021-08-04 00:00:00|       999|\n",
      "|B-00002|     B00002|             35|            ?233|B00002@biat.com.tn|2021-08-04 00:00:00|2021-08-04 00:00:00|       999|\n",
      "|B-00008|     B00008|            125|            ?233|B00008@biat.com.tn|2021-08-04 00:00:00|2021-08-04 00:00:00|       999|\n",
      "|B-00009|     B00009|            105|            ?105|B00009@biat.com.tn|2021-08-04 00:00:00|2021-08-04 00:00:00|       999|\n",
      "+-------+-----------+---------------+----------------+------------------+-------------------+-------------------+----------+\n",
      "\n"
     ]
    }
   ],
   "source": [
    "hivenew.show()"
   ]
  },
  {
   "cell_type": "code",
   "execution_count": 41,
   "metadata": {},
   "outputs": [],
   "source": [
    "hivenew.coalesce(1).write.csv(\"hdfs://master.com:8020/user/value/odsN-user.csv\")"
   ]
  },
  {
   "cell_type": "code",
   "execution_count": 42,
   "metadata": {},
   "outputs": [],
   "source": [
    "cnx.execute(\"load data  INPATH 'hdfs://master.com:8020/user/value/odsN-user.csv' overwrite into table O_T24_USER\")\n"
   ]
  },
  {
   "cell_type": "code",
   "execution_count": 43,
   "metadata": {},
   "outputs": [],
   "source": [
    "cnx.execute(\"select * from O_T24_USER\")"
   ]
  },
  {
   "cell_type": "code",
   "execution_count": 44,
   "metadata": {},
   "outputs": [],
   "source": [
    "newschema = cnx.fetchall()"
   ]
  },
  {
   "cell_type": "code",
   "execution_count": 45,
   "metadata": {},
   "outputs": [
    {
     "name": "stdout",
     "output_type": "stream",
     "text": [
      "[('B-00001', 'B000211', '222', '?255', 'B00001@biat.com.tn', datetime.datetime(2021, 8, 4, 0, 0), datetime.datetime(2021, 8, 4, 0, 0), '999'), ('B-00002', 'B00002', '35', '?233', 'B00002@biat.com.tn', datetime.datetime(2021, 8, 4, 0, 0), datetime.datetime(2021, 8, 4, 0, 0), '999'), ('B-00008', 'B00008', '125', '?233', 'B00008@biat.com.tn', datetime.datetime(2021, 8, 4, 0, 0), datetime.datetime(2021, 8, 4, 0, 0), '999'), ('B-00009', 'B00009', '105', '?105', 'B00009@biat.com.tn', datetime.datetime(2021, 8, 4, 0, 0), datetime.datetime(2021, 8, 4, 0, 0), '999'), ('B-00001', 'B00001', '555', '?278', 'B00001@biat.com.tn', datetime.datetime(2021, 8, 4, 0, 0), datetime.datetime(2021, 8, 4, 0, 0), '2021-08-04'), ('B-00002', 'B00002', '35', '?233', 'B00002@biat.com.tn', datetime.datetime(2021, 8, 4, 0, 0), datetime.datetime(2021, 8, 4, 0, 0), '2021-08-04'), ('B-00003', 'B00003', '299', '?202', 'B00003@biat.com.tn', datetime.datetime(2021, 8, 4, 0, 0), datetime.datetime(2021, 8, 4, 0, 0), '2021-08-04'), ('B-00004', 'B00004', '41', '?265', 'B00004@biat.com.tn', datetime.datetime(2021, 8, 4, 0, 0), datetime.datetime(2021, 8, 4, 0, 0), '2021-08-04'), ('B-00005', 'B00005', '605', '?266', 'B00005@biat.com.tn', datetime.datetime(2021, 8, 4, 0, 0), datetime.datetime(2021, 8, 4, 0, 0), '2021-08-04'), ('B-00006', 'B00006', '125', '?233', 'B00006@biat.com.tn', datetime.datetime(2021, 8, 4, 0, 0), datetime.datetime(2021, 8, 4, 0, 0), '2021-08-04'), ('B-00007', 'B00007', '103', '?202', 'B00007@biat.com.tn', datetime.datetime(2021, 8, 4, 0, 0), datetime.datetime(2021, 8, 4, 0, 0), '2021-08-04')]\n"
     ]
    }
   ],
   "source": [
    "print(newschema)"
   ]
  },
  {
   "cell_type": "code",
   "execution_count": 46,
   "metadata": {},
   "outputs": [],
   "source": [
    "df1= spark.createDataFrame(newschema,['ID_A','USER_NAME_A','DEPARTMENT_CODE','INIT_APPLICATION','EMAIL_A','DAT_SIT','DAT_CHG','DAT_CSO'])"
   ]
  },
  {
   "cell_type": "code",
   "execution_count": 47,
   "metadata": {},
   "outputs": [
    {
     "name": "stdout",
     "output_type": "stream",
     "text": [
      "+-------+-----------+---------------+----------------+------------------+-------------------+-------------------+----------+\n",
      "|   ID_A|USER_NAME_A|DEPARTMENT_CODE|INIT_APPLICATION|           EMAIL_A|          DATDEBVLD|             DATCHG| DATFINVLD|\n",
      "+-------+-----------+---------------+----------------+------------------+-------------------+-------------------+----------+\n",
      "|B-00001|    B000211|            222|            ?255|B00001@biat.com.tn|2021-08-04 00:00:00|2021-08-04 00:00:00|       999|\n",
      "|B-00002|     B00002|             35|            ?233|B00002@biat.com.tn|2021-08-04 00:00:00|2021-08-04 00:00:00|       999|\n",
      "|B-00008|     B00008|            125|            ?233|B00008@biat.com.tn|2021-08-04 00:00:00|2021-08-04 00:00:00|       999|\n",
      "|B-00009|     B00009|            105|            ?105|B00009@biat.com.tn|2021-08-04 00:00:00|2021-08-04 00:00:00|       999|\n",
      "|B-00001|     B00001|            555|            ?278|B00001@biat.com.tn|2021-08-04 00:00:00|2021-08-04 00:00:00|2021-08-04|\n",
      "|B-00002|     B00002|             35|            ?233|B00002@biat.com.tn|2021-08-04 00:00:00|2021-08-04 00:00:00|2021-08-04|\n",
      "|B-00003|     B00003|            299|            ?202|B00003@biat.com.tn|2021-08-04 00:00:00|2021-08-04 00:00:00|2021-08-04|\n",
      "|B-00004|     B00004|             41|            ?265|B00004@biat.com.tn|2021-08-04 00:00:00|2021-08-04 00:00:00|2021-08-04|\n",
      "|B-00005|     B00005|            605|            ?266|B00005@biat.com.tn|2021-08-04 00:00:00|2021-08-04 00:00:00|2021-08-04|\n",
      "|B-00006|     B00006|            125|            ?233|B00006@biat.com.tn|2021-08-04 00:00:00|2021-08-04 00:00:00|2021-08-04|\n",
      "|B-00007|     B00007|            103|            ?202|B00007@biat.com.tn|2021-08-04 00:00:00|2021-08-04 00:00:00|2021-08-04|\n",
      "+-------+-----------+---------------+----------------+------------------+-------------------+-------------------+----------+\n",
      "\n"
     ]
    }
   ],
   "source": [
    "df1.show()"
   ]
  },
  {
   "cell_type": "code",
   "execution_count": null,
   "metadata": {},
   "outputs": [],
   "source": []
  }
 ],
 "metadata": {
  "kernelspec": {
   "display_name": "Python 3",
   "language": "python",
   "name": "python3"
  },
  "language_info": {
   "codemirror_mode": {
    "name": "ipython",
    "version": 3
   },
   "file_extension": ".py",
   "mimetype": "text/x-python",
   "name": "python",
   "nbconvert_exporter": "python",
   "pygments_lexer": "ipython3",
   "version": "3.7.3"
  }
 },
 "nbformat": 4,
 "nbformat_minor": 4
}
