{
 "cells": [
  {
   "cell_type": "code",
   "execution_count": 93,
   "metadata": {},
   "outputs": [],
   "source": [
    "import pyspark\n",
    "from pyspark.sql import SparkSession"
   ]
  },
  {
   "cell_type": "code",
   "execution_count": 94,
   "metadata": {},
   "outputs": [],
   "source": [
    "spark = SparkSession.builder.getOrCreate()"
   ]
  },
  {
   "cell_type": "code",
   "execution_count": 95,
   "metadata": {},
   "outputs": [],
   "source": [
    "from pyspark import SparkContext\n",
    "from pyspark.sql import SQLContext\n",
    "from pyspark.sql.types import *"
   ]
  },
  {
   "cell_type": "code",
   "execution_count": 96,
   "metadata": {},
   "outputs": [],
   "source": [
    "schema = StructType([StructField('ID_A',StringType(),False),\n",
    "                    StructField('USER_NAME_A',StringType(),False),\n",
    "                    StructField('DEPARTMENT_CODE',IntegerType(),False),\n",
    "                    StructField('INIT_APPLICATION',IntegerType(),False),\n",
    "                    StructField('EMAIL_A',StringType(),False)])"
   ]
  },
  {
   "cell_type": "code",
   "execution_count": 97,
   "metadata": {},
   "outputs": [],
   "source": [
    "df_hdfs = spark.read.option(\"header\",\"true\").option(\"delimiter\",\",\").option(\"inferSchema\",\"true\").csv(\"hdfs://master.com:8020/user/value/user.txt\")"
   ]
  },
  {
   "cell_type": "code",
   "execution_count": 98,
   "metadata": {},
   "outputs": [
    {
     "name": "stdout",
     "output_type": "stream",
     "text": [
      "+-------+-----------+---------------+----------------+------------------+\n",
      "|   ID_A|USER_NAME_A|DEPARTMENT_CODE|INIT_APPLICATION|           EMAIL_A|\n",
      "+-------+-----------+---------------+----------------+------------------+\n",
      "|B-00001|     B00001|            555|            ?278|B00001@biat.com.tn|\n",
      "|B-00002|     B00002|             35|            ?233|B00002@biat.com.tn|\n",
      "|B-00003|     B00003|            299|            ?202|B00003@biat.com.tn|\n",
      "|B-00004|     B00004|             41|            ?265|B00004@biat.com.tn|\n",
      "|B-00005|     B00005|            605|            ?266|B00005@biat.com.tn|\n",
      "|B-00006|     B00006|            125|            ?233|B00006@biat.com.tn|\n",
      "|B-00007|     B00007|            103|            ?202|B00007@biat.com.tn|\n",
      "+-------+-----------+---------------+----------------+------------------+\n",
      "\n"
     ]
    }
   ],
   "source": [
    "df_hdfs.show()"
   ]
  },
  {
   "cell_type": "code",
   "execution_count": 99,
   "metadata": {},
   "outputs": [
    {
     "name": "stdout",
     "output_type": "stream",
     "text": [
      "root\n",
      " |-- ID_A: string (nullable = true)\n",
      " |-- USER_NAME_A: string (nullable = true)\n",
      " |-- DEPARTMENT_CODE: integer (nullable = true)\n",
      " |-- INIT_APPLICATION: string (nullable = true)\n",
      " |-- EMAIL_A: string (nullable = true)\n",
      "\n"
     ]
    }
   ],
   "source": [
    "df_hdfs.printSchema()"
   ]
  },
  {
   "cell_type": "code",
   "execution_count": 100,
   "metadata": {},
   "outputs": [
    {
     "data": {
      "text/plain": [
       "7"
      ]
     },
     "execution_count": 100,
     "metadata": {},
     "output_type": "execute_result"
    }
   ],
   "source": [
    "df_hdfs.count()"
   ]
  },
  {
   "cell_type": "code",
   "execution_count": 101,
   "metadata": {},
   "outputs": [],
   "source": [
    "import time\n",
    "import datetime\n",
    "from pyspark.sql.functions import *"
   ]
  },
  {
   "cell_type": "code",
   "execution_count": 102,
   "metadata": {},
   "outputs": [
    {
     "data": {
      "text/plain": [
       "<module 'datetime' from '/home/value/anaconda3/lib/python3.7/datetime.py'>"
      ]
     },
     "execution_count": 102,
     "metadata": {},
     "output_type": "execute_result"
    }
   ],
   "source": [
    "datetime"
   ]
  },
  {
   "cell_type": "code",
   "execution_count": 103,
   "metadata": {},
   "outputs": [],
   "source": [
    "newdf = df_hdfs.withColumn('DAT_SIT',to_date(current_timestamp())).withColumn('DATCHG',to_date(current_timestamp()))"
   ]
  },
  {
   "cell_type": "code",
   "execution_count": 104,
   "metadata": {},
   "outputs": [
    {
     "name": "stdout",
     "output_type": "stream",
     "text": [
      "+-------+-----------+---------------+----------------+------------------+----------+----------+\n",
      "|   ID_A|USER_NAME_A|DEPARTMENT_CODE|INIT_APPLICATION|           EMAIL_A|   DAT_SIT|    DATCHG|\n",
      "+-------+-----------+---------------+----------------+------------------+----------+----------+\n",
      "|B-00001|     B00001|            555|            ?278|B00001@biat.com.tn|2021-08-12|2021-08-12|\n",
      "|B-00002|     B00002|             35|            ?233|B00002@biat.com.tn|2021-08-12|2021-08-12|\n",
      "|B-00003|     B00003|            299|            ?202|B00003@biat.com.tn|2021-08-12|2021-08-12|\n",
      "|B-00004|     B00004|             41|            ?265|B00004@biat.com.tn|2021-08-12|2021-08-12|\n",
      "|B-00005|     B00005|            605|            ?266|B00005@biat.com.tn|2021-08-12|2021-08-12|\n",
      "|B-00006|     B00006|            125|            ?233|B00006@biat.com.tn|2021-08-12|2021-08-12|\n",
      "|B-00007|     B00007|            103|            ?202|B00007@biat.com.tn|2021-08-12|2021-08-12|\n",
      "+-------+-----------+---------------+----------------+------------------+----------+----------+\n",
      "\n"
     ]
    }
   ],
   "source": [
    "newdf.show()"
   ]
  },
  {
   "cell_type": "code",
   "execution_count": 105,
   "metadata": {},
   "outputs": [],
   "source": [
    "findata=newdf.withColumn(\"DAT_CSO\",lit(\"null\"))"
   ]
  },
  {
   "cell_type": "code",
   "execution_count": 106,
   "metadata": {},
   "outputs": [
    {
     "name": "stdout",
     "output_type": "stream",
     "text": [
      "+-------+-----------+---------------+----------------+------------------+----------+----------+-------+\n",
      "|   ID_A|USER_NAME_A|DEPARTMENT_CODE|INIT_APPLICATION|           EMAIL_A|   DAT_SIT|    DATCHG|DAT_CSO|\n",
      "+-------+-----------+---------------+----------------+------------------+----------+----------+-------+\n",
      "|B-00001|     B00001|            555|            ?278|B00001@biat.com.tn|2021-08-12|2021-08-12|    999|\n",
      "|B-00002|     B00002|             35|            ?233|B00002@biat.com.tn|2021-08-12|2021-08-12|    999|\n",
      "|B-00003|     B00003|            299|            ?202|B00003@biat.com.tn|2021-08-12|2021-08-12|    999|\n",
      "|B-00004|     B00004|             41|            ?265|B00004@biat.com.tn|2021-08-12|2021-08-12|    999|\n",
      "|B-00005|     B00005|            605|            ?266|B00005@biat.com.tn|2021-08-12|2021-08-12|    999|\n",
      "|B-00006|     B00006|            125|            ?233|B00006@biat.com.tn|2021-08-12|2021-08-12|    999|\n",
      "|B-00007|     B00007|            103|            ?202|B00007@biat.com.tn|2021-08-12|2021-08-12|    999|\n",
      "+-------+-----------+---------------+----------------+------------------+----------+----------+-------+\n",
      "\n"
     ]
    }
   ],
   "source": [
    "findata.show()"
   ]
  },
  {
   "cell_type": "code",
   "execution_count": 107,
   "metadata": {},
   "outputs": [],
   "source": [
    "import pyspark.sql.functions as f"
   ]
  },
  {
   "cell_type": "code",
   "execution_count": 108,
   "metadata": {},
   "outputs": [],
   "source": [
    "duplicate =findata.join(findata.groupBy(findata.columns).agg((f.count(\"*\")>1).cast(\"int\").alias(\"Duplicate\")),findata.columns,how=\"inner\")"
   ]
  },
  {
   "cell_type": "code",
   "execution_count": 109,
   "metadata": {},
   "outputs": [
    {
     "name": "stdout",
     "output_type": "stream",
     "text": [
      "+-------+-----------+---------------+----------------+------------------+----------+----------+-------+---------+\n",
      "|   ID_A|USER_NAME_A|DEPARTMENT_CODE|INIT_APPLICATION|           EMAIL_A|   DAT_SIT|    DATCHG|DAT_CSO|Duplicate|\n",
      "+-------+-----------+---------------+----------------+------------------+----------+----------+-------+---------+\n",
      "|B-00004|     B00004|             41|            ?265|B00004@biat.com.tn|2021-08-12|2021-08-12|    999|        0|\n",
      "|B-00006|     B00006|            125|            ?233|B00006@biat.com.tn|2021-08-12|2021-08-12|    999|        0|\n",
      "|B-00003|     B00003|            299|            ?202|B00003@biat.com.tn|2021-08-12|2021-08-12|    999|        0|\n",
      "|B-00001|     B00001|            555|            ?278|B00001@biat.com.tn|2021-08-12|2021-08-12|    999|        0|\n",
      "|B-00002|     B00002|             35|            ?233|B00002@biat.com.tn|2021-08-12|2021-08-12|    999|        0|\n",
      "|B-00005|     B00005|            605|            ?266|B00005@biat.com.tn|2021-08-12|2021-08-12|    999|        0|\n",
      "|B-00007|     B00007|            103|            ?202|B00007@biat.com.tn|2021-08-12|2021-08-12|    999|        0|\n",
      "+-------+-----------+---------------+----------------+------------------+----------+----------+-------+---------+\n",
      "\n"
     ]
    }
   ],
   "source": [
    "duplicate.show()"
   ]
  },
  {
   "cell_type": "code",
   "execution_count": 110,
   "metadata": {},
   "outputs": [],
   "source": [
    "findata.coalesce(1).write.csv(\"hdfs://master.com:8020/user/value/hdfs-user.csv\")"
   ]
  },
  {
   "cell_type": "code",
   "execution_count": 111,
   "metadata": {},
   "outputs": [],
   "source": [
    "df_load = spark.read.option(\"header\",\"true\").csv('hdfs://master.com:8020/user/value/hdfs-user.csv')"
   ]
  },
  {
   "cell_type": "code",
   "execution_count": 112,
   "metadata": {},
   "outputs": [
    {
     "name": "stdout",
     "output_type": "stream",
     "text": [
      "+-------+------+---+----+------------------+-----------+-----------+---+\n",
      "|B-00001|B00001|555|?278|B00001@biat.com.tn|2021-08-125|2021-08-126|999|\n",
      "+-------+------+---+----+------------------+-----------+-----------+---+\n",
      "|B-00002|B00002| 35|?233|B00002@biat.com.tn| 2021-08-12| 2021-08-12|999|\n",
      "|B-00003|B00003|299|?202|B00003@biat.com.tn| 2021-08-12| 2021-08-12|999|\n",
      "|B-00004|B00004| 41|?265|B00004@biat.com.tn| 2021-08-12| 2021-08-12|999|\n",
      "|B-00005|B00005|605|?266|B00005@biat.com.tn| 2021-08-12| 2021-08-12|999|\n",
      "|B-00006|B00006|125|?233|B00006@biat.com.tn| 2021-08-12| 2021-08-12|999|\n",
      "|B-00007|B00007|103|?202|B00007@biat.com.tn| 2021-08-12| 2021-08-12|999|\n",
      "+-------+------+---+----+------------------+-----------+-----------+---+\n",
      "\n"
     ]
    }
   ],
   "source": [
    "df_load.show()"
   ]
  },
  {
   "cell_type": "code",
   "execution_count": 113,
   "metadata": {},
   "outputs": [],
   "source": [
    "from pyhive  import  hive\n",
    "from pyhive import  presto"
   ]
  },
  {
   "cell_type": "code",
   "execution_count": 114,
   "metadata": {},
   "outputs": [],
   "source": [
    "conn = hive.Connection(host=\"localhost\",port=10000,username=\"value\",database=\"default\")"
   ]
  },
  {
   "cell_type": "code",
   "execution_count": 115,
   "metadata": {},
   "outputs": [],
   "source": [
    "cnx = conn.cursor()"
   ]
  },
  {
   "cell_type": "code",
   "execution_count": 117,
   "metadata": {},
   "outputs": [],
   "source": [
    "cnx.execute(\"CREATE TABLE  O_T24_USER ( ID_A string, USER_NAME_A string, DEPARTMENT_CODE string, INIT_APPLICATION string, EMAIL_A string,DAT_SIT date,DAT_CHG date, DAT_CSO string)ROW FORMAT DELIMITED FIELDS TERMINATED BY ','\")"
   ]
  },
  {
   "cell_type": "code",
   "execution_count": 118,
   "metadata": {},
   "outputs": [],
   "source": [
    "cnx.execute(\"load data  INPATH 'hdfs://master.com:8020/user/value/hdfs-user.csv' overwrite into table O_T24_USER\")\n"
   ]
  },
  {
   "cell_type": "code",
   "execution_count": 119,
   "metadata": {},
   "outputs": [],
   "source": [
    "cnx.execute(\"select * from O_T24_USER\")"
   ]
  },
  {
   "cell_type": "code",
   "execution_count": 120,
   "metadata": {},
   "outputs": [],
   "source": [
    "newschema = cnx.fetchall()"
   ]
  },
  {
   "cell_type": "code",
   "execution_count": 121,
   "metadata": {},
   "outputs": [
    {
     "name": "stdout",
     "output_type": "stream",
     "text": [
      "[('B-00001', 'B00001', '555', '?278', 'B00001@biat.com.tn', '2021-08-12', '2021-08-12', '999'), ('B-00002', 'B00002', '35', '?233', 'B00002@biat.com.tn', '2021-08-12', '2021-08-12', '999'), ('B-00003', 'B00003', '299', '?202', 'B00003@biat.com.tn', '2021-08-12', '2021-08-12', '999'), ('B-00004', 'B00004', '41', '?265', 'B00004@biat.com.tn', '2021-08-12', '2021-08-12', '999'), ('B-00005', 'B00005', '605', '?266', 'B00005@biat.com.tn', '2021-08-12', '2021-08-12', '999'), ('B-00006', 'B00006', '125', '?233', 'B00006@biat.com.tn', '2021-08-12', '2021-08-12', '999'), ('B-00007', 'B00007', '103', '?202', 'B00007@biat.com.tn', '2021-08-12', '2021-08-12', '999')]\n"
     ]
    }
   ],
   "source": [
    "print(newschema)"
   ]
  },
  {
   "cell_type": "code",
   "execution_count": 122,
   "metadata": {},
   "outputs": [],
   "source": [
    "df1 = spark.createDataFrame(newschema,['ID_A','USER_NAME_A','DEPARTMENT_CODE','INIT_APPLICATION','EMAIL_A','DAT_SIT','DAT_CHG','DAT_CSO'])"
   ]
  },
  {
   "cell_type": "code",
   "execution_count": 123,
   "metadata": {},
   "outputs": [
    {
     "name": "stdout",
     "output_type": "stream",
     "text": [
      "+-------+-----------+---------------+----------------+------------------+----------+----------+-------+\n",
      "|   ID_A|USER_NAME_A|DEPARTMENT_CODE|INIT_APPLICATION|           EMAIL_A|   DAT_SIT|   DAT_CHG|DAT_CSO|\n",
      "+-------+-----------+---------------+----------------+------------------+----------+----------+-------+\n",
      "|B-00001|     B00001|            555|            ?278|B00001@biat.com.tn|2021-08-12|2021-08-12|    999|\n",
      "|B-00002|     B00002|             35|            ?233|B00002@biat.com.tn|2021-08-12|2021-08-12|    999|\n",
      "|B-00003|     B00003|            299|            ?202|B00003@biat.com.tn|2021-08-12|2021-08-12|    999|\n",
      "|B-00004|     B00004|             41|            ?265|B00004@biat.com.tn|2021-08-12|2021-08-12|    999|\n",
      "|B-00005|     B00005|            605|            ?266|B00005@biat.com.tn|2021-08-12|2021-08-12|    999|\n",
      "|B-00006|     B00006|            125|            ?233|B00006@biat.com.tn|2021-08-12|2021-08-12|    999|\n",
      "|B-00007|     B00007|            103|            ?202|B00007@biat.com.tn|2021-08-12|2021-08-12|    999|\n",
      "+-------+-----------+---------------+----------------+------------------+----------+----------+-------+\n",
      "\n"
     ]
    }
   ],
   "source": [
    "df1.show()"
   ]
  },
  {
   "cell_type": "code",
   "execution_count": null,
   "metadata": {},
   "outputs": [],
   "source": []
  }
 ],
 "metadata": {
  "kernelspec": {
   "display_name": "Python 3",
   "language": "python",
   "name": "python3"
  },
  "language_info": {
   "codemirror_mode": {
    "name": "ipython",
    "version": 3
   },
   "file_extension": ".py",
   "mimetype": "text/x-python",
   "name": "python",
   "nbconvert_exporter": "python",
   "pygments_lexer": "ipython3",
   "version": "3.7.3"
  }
 },
 "nbformat": 4,
 "nbformat_minor": 4
}
