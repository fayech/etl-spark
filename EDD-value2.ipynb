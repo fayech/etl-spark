{
 "cells": [
  {
   "cell_type": "code",
   "execution_count": 56,
   "metadata": {},
   "outputs": [],
   "source": [
    "from pyhive  import  hive\n",
    "from pyhive import  presto"
   ]
  },
  {
   "cell_type": "code",
   "execution_count": 57,
   "metadata": {},
   "outputs": [],
   "source": [
    "conn = hive.Connection(host=\"localhost\",port=10000,username=\"value\",database=\"default\")"
   ]
  },
  {
   "cell_type": "code",
   "execution_count": 58,
   "metadata": {},
   "outputs": [],
   "source": [
    "cnx = conn.cursor()"
   ]
  },
  {
   "cell_type": "code",
   "execution_count": 59,
   "metadata": {},
   "outputs": [],
   "source": [
    "cnx.execute(\"select * from O_T24_USER\")"
   ]
  },
  {
   "cell_type": "code",
   "execution_count": 60,
   "metadata": {},
   "outputs": [],
   "source": [
    "newods = cnx.fetchall()"
   ]
  },
  {
   "cell_type": "code",
   "execution_count": 61,
   "metadata": {},
   "outputs": [
    {
     "name": "stdout",
     "output_type": "stream",
     "text": [
      "[('B-00001', 'B00001', '555', '?278', 'B00001@biat.com.tn', '2021-08-18', '2021-08-18', 'null'), ('B-00002', 'B00002', '35', '?233', 'B00002@biat.com.tn', '2021-08-18', '2021-08-18', 'null'), ('B-00003', 'B00003', '299', '?202', 'B00003@biat.com.tn', '2021-08-18', '2021-08-18', 'null'), ('B-00004', 'B00004', '41', '?265', 'B00004@biat.com.tn', '2021-08-18', '2021-08-18', 'null'), ('B-00005', 'B00005', '605', '?266', 'B00005@biat.com.tn', '2021-08-18', '2021-08-18', 'null'), ('B-00006', 'B00006', '125', '?233', 'B00006@biat.com.tn', '2021-08-18', '2021-08-18', 'null'), ('B-00007', 'B00007', '103', '?202', 'B00007@biat.com.tn', '2021-08-18', '2021-08-18', 'null')]\n"
     ]
    }
   ],
   "source": [
    "print(newods)"
   ]
  },
  {
   "cell_type": "code",
   "execution_count": 62,
   "metadata": {},
   "outputs": [],
   "source": [
    "import pyspark\n",
    "from pyspark.sql import SparkSession"
   ]
  },
  {
   "cell_type": "code",
   "execution_count": 63,
   "metadata": {},
   "outputs": [],
   "source": [
    "spark = SparkSession.builder.getOrCreate()"
   ]
  },
  {
   "cell_type": "code",
   "execution_count": 64,
   "metadata": {},
   "outputs": [],
   "source": [
    "from pyspark import SparkContext\n",
    "from pyspark.sql import SQLContext\n",
    "from pyspark.sql.types import *"
   ]
  },
  {
   "cell_type": "code",
   "execution_count": 65,
   "metadata": {},
   "outputs": [],
   "source": [
    "df1= spark.createDataFrame(newods,['ID_A','USER_NAME_A','DEPARTMENT_CODE','INIT_APPLICATION','EMAIL_A','DAT_SIT','DAT_CHG','DAT_CSO'])"
   ]
  },
  {
   "cell_type": "code",
   "execution_count": 66,
   "metadata": {},
   "outputs": [
    {
     "name": "stdout",
     "output_type": "stream",
     "text": [
      "+-------+-----------+---------------+----------------+------------------+----------+----------+-------+\n",
      "|   ID_A|USER_NAME_A|DEPARTMENT_CODE|INIT_APPLICATION|           EMAIL_A|   DAT_SIT|   DAT_CHG|DAT_CSO|\n",
      "+-------+-----------+---------------+----------------+------------------+----------+----------+-------+\n",
      "|B-00001|     B00001|            555|            ?278|B00001@biat.com.tn|2021-08-18|2021-08-18|   null|\n",
      "|B-00002|     B00002|             35|            ?233|B00002@biat.com.tn|2021-08-18|2021-08-18|   null|\n",
      "|B-00003|     B00003|            299|            ?202|B00003@biat.com.tn|2021-08-18|2021-08-18|   null|\n",
      "|B-00004|     B00004|             41|            ?265|B00004@biat.com.tn|2021-08-18|2021-08-18|   null|\n",
      "|B-00005|     B00005|            605|            ?266|B00005@biat.com.tn|2021-08-18|2021-08-18|   null|\n",
      "|B-00006|     B00006|            125|            ?233|B00006@biat.com.tn|2021-08-18|2021-08-18|   null|\n",
      "|B-00007|     B00007|            103|            ?202|B00007@biat.com.tn|2021-08-18|2021-08-18|   null|\n",
      "+-------+-----------+---------------+----------------+------------------+----------+----------+-------+\n",
      "\n"
     ]
    }
   ],
   "source": [
    "df1.show()"
   ]
  },
  {
   "cell_type": "code",
   "execution_count": 67,
   "metadata": {},
   "outputs": [
    {
     "name": "stdout",
     "output_type": "stream",
     "text": [
      "root\n",
      " |-- ID_A: string (nullable = true)\n",
      " |-- USER_NAME_A: string (nullable = true)\n",
      " |-- DEPARTMENT_CODE: string (nullable = true)\n",
      " |-- INIT_APPLICATION: string (nullable = true)\n",
      " |-- EMAIL_A: string (nullable = true)\n",
      " |-- DAT_SIT: string (nullable = true)\n",
      " |-- DAT_CHG: string (nullable = true)\n",
      " |-- DAT_CSO: string (nullable = true)\n",
      "\n"
     ]
    }
   ],
   "source": [
    "df1.printSchema()"
   ]
  },
  {
   "cell_type": "code",
   "execution_count": 68,
   "metadata": {},
   "outputs": [],
   "source": [
    "from pyspark.sql.functions import *"
   ]
  },
  {
   "cell_type": "code",
   "execution_count": 69,
   "metadata": {},
   "outputs": [],
   "source": [
    "import time\n",
    "import datetime\n"
   ]
  },
  {
   "cell_type": "code",
   "execution_count": 70,
   "metadata": {},
   "outputs": [],
   "source": [
    "ods = df1.withColumn('DAT_CSO', regexp_replace('DAT_CSO','null','0'))\n"
   ]
  },
  {
   "cell_type": "code",
   "execution_count": 71,
   "metadata": {},
   "outputs": [
    {
     "name": "stdout",
     "output_type": "stream",
     "text": [
      "+-------+-----------+---------------+----------------+------------------+----------+----------+-------+\n",
      "|   ID_A|USER_NAME_A|DEPARTMENT_CODE|INIT_APPLICATION|           EMAIL_A|   DAT_SIT|   DAT_CHG|DAT_CSO|\n",
      "+-------+-----------+---------------+----------------+------------------+----------+----------+-------+\n",
      "|B-00001|     B00001|            555|            ?278|B00001@biat.com.tn|2021-08-18|2021-08-18|      0|\n",
      "|B-00002|     B00002|             35|            ?233|B00002@biat.com.tn|2021-08-18|2021-08-18|      0|\n",
      "|B-00003|     B00003|            299|            ?202|B00003@biat.com.tn|2021-08-18|2021-08-18|      0|\n",
      "|B-00004|     B00004|             41|            ?265|B00004@biat.com.tn|2021-08-18|2021-08-18|      0|\n",
      "|B-00005|     B00005|            605|            ?266|B00005@biat.com.tn|2021-08-18|2021-08-18|      0|\n",
      "|B-00006|     B00006|            125|            ?233|B00006@biat.com.tn|2021-08-18|2021-08-18|      0|\n",
      "|B-00007|     B00007|            103|            ?202|B00007@biat.com.tn|2021-08-18|2021-08-18|      0|\n",
      "+-------+-----------+---------------+----------------+------------------+----------+----------+-------+\n",
      "\n"
     ]
    }
   ],
   "source": [
    "ods.show()"
   ]
  },
  {
   "cell_type": "code",
   "execution_count": 72,
   "metadata": {},
   "outputs": [],
   "source": [
    "newdf = ods.withColumn(\"DAT_CSO\",to_date(current_timestamp()))"
   ]
  },
  {
   "cell_type": "code",
   "execution_count": 73,
   "metadata": {},
   "outputs": [
    {
     "name": "stdout",
     "output_type": "stream",
     "text": [
      "+-------+-----------+---------------+----------------+------------------+----------+----------+----------+\n",
      "|   ID_A|USER_NAME_A|DEPARTMENT_CODE|INIT_APPLICATION|           EMAIL_A|   DAT_SIT|   DAT_CHG|   DAT_CSO|\n",
      "+-------+-----------+---------------+----------------+------------------+----------+----------+----------+\n",
      "|B-00001|     B00001|            555|            ?278|B00001@biat.com.tn|2021-08-18|2021-08-18|2021-08-18|\n",
      "|B-00002|     B00002|             35|            ?233|B00002@biat.com.tn|2021-08-18|2021-08-18|2021-08-18|\n",
      "|B-00003|     B00003|            299|            ?202|B00003@biat.com.tn|2021-08-18|2021-08-18|2021-08-18|\n",
      "|B-00004|     B00004|             41|            ?265|B00004@biat.com.tn|2021-08-18|2021-08-18|2021-08-18|\n",
      "|B-00005|     B00005|            605|            ?266|B00005@biat.com.tn|2021-08-18|2021-08-18|2021-08-18|\n",
      "|B-00006|     B00006|            125|            ?233|B00006@biat.com.tn|2021-08-18|2021-08-18|2021-08-18|\n",
      "|B-00007|     B00007|            103|            ?202|B00007@biat.com.tn|2021-08-18|2021-08-18|2021-08-18|\n",
      "+-------+-----------+---------------+----------------+------------------+----------+----------+----------+\n",
      "\n"
     ]
    }
   ],
   "source": [
    "newdf.show()"
   ]
  },
  {
   "cell_type": "code",
   "execution_count": 74,
   "metadata": {},
   "outputs": [],
   "source": [
    "import pyspark.sql.functions as f"
   ]
  },
  {
   "cell_type": "code",
   "execution_count": 75,
   "metadata": {},
   "outputs": [],
   "source": [
    "newdf.coalesce(1).write.csv(\"hdfs://master.com:8020/user/value/ods-user.csv\")"
   ]
  },
  {
   "cell_type": "code",
   "execution_count": 76,
   "metadata": {},
   "outputs": [],
   "source": [
    "cnx.execute(\"load data  INPATH 'hdfs://master.com:8020/user/value/ods-user.csv' overwrite into table O_T24_USER\")\n"
   ]
  },
  {
   "cell_type": "code",
   "execution_count": 77,
   "metadata": {},
   "outputs": [],
   "source": [
    "cnx.execute(\"select * from O_T24_USER\")"
   ]
  },
  {
   "cell_type": "code",
   "execution_count": 78,
   "metadata": {},
   "outputs": [],
   "source": [
    "\n",
    "newschema = cnx.fetchall()"
   ]
  },
  {
   "cell_type": "code",
   "execution_count": 79,
   "metadata": {},
   "outputs": [
    {
     "name": "stdout",
     "output_type": "stream",
     "text": [
      "[('B-00001', 'B00001', '555', '?278', 'B00001@biat.com.tn', '2021-08-18', '2021-08-18', '2021-08-18'), ('B-00002', 'B00002', '35', '?233', 'B00002@biat.com.tn', '2021-08-18', '2021-08-18', '2021-08-18'), ('B-00003', 'B00003', '299', '?202', 'B00003@biat.com.tn', '2021-08-18', '2021-08-18', '2021-08-18'), ('B-00004', 'B00004', '41', '?265', 'B00004@biat.com.tn', '2021-08-18', '2021-08-18', '2021-08-18'), ('B-00005', 'B00005', '605', '?266', 'B00005@biat.com.tn', '2021-08-18', '2021-08-18', '2021-08-18'), ('B-00006', 'B00006', '125', '?233', 'B00006@biat.com.tn', '2021-08-18', '2021-08-18', '2021-08-18'), ('B-00007', 'B00007', '103', '?202', 'B00007@biat.com.tn', '2021-08-18', '2021-08-18', '2021-08-18')]\n"
     ]
    }
   ],
   "source": [
    "print(newschema)"
   ]
  },
  {
   "cell_type": "code",
   "execution_count": 80,
   "metadata": {},
   "outputs": [],
   "source": [
    "df1= spark.createDataFrame(newschema,['ID_A','USER_NAME_A','DEPARTMENT_CODE','INIT_APPLICATION','EMAIL_A','DAT_SIT','DAT_CHG','DAT_CSO'])"
   ]
  },
  {
   "cell_type": "code",
   "execution_count": 81,
   "metadata": {},
   "outputs": [
    {
     "name": "stdout",
     "output_type": "stream",
     "text": [
      "+-------+-----------+---------------+----------------+------------------+----------+----------+----------+\n",
      "|   ID_A|USER_NAME_A|DEPARTMENT_CODE|INIT_APPLICATION|           EMAIL_A|   DAT_SIT|   DAT_CHG|   DAT_CSO|\n",
      "+-------+-----------+---------------+----------------+------------------+----------+----------+----------+\n",
      "|B-00001|     B00001|            555|            ?278|B00001@biat.com.tn|2021-08-18|2021-08-18|2021-08-18|\n",
      "|B-00002|     B00002|             35|            ?233|B00002@biat.com.tn|2021-08-18|2021-08-18|2021-08-18|\n",
      "|B-00003|     B00003|            299|            ?202|B00003@biat.com.tn|2021-08-18|2021-08-18|2021-08-18|\n",
      "|B-00004|     B00004|             41|            ?265|B00004@biat.com.tn|2021-08-18|2021-08-18|2021-08-18|\n",
      "|B-00005|     B00005|            605|            ?266|B00005@biat.com.tn|2021-08-18|2021-08-18|2021-08-18|\n",
      "|B-00006|     B00006|            125|            ?233|B00006@biat.com.tn|2021-08-18|2021-08-18|2021-08-18|\n",
      "|B-00007|     B00007|            103|            ?202|B00007@biat.com.tn|2021-08-18|2021-08-18|2021-08-18|\n",
      "+-------+-----------+---------------+----------------+------------------+----------+----------+----------+\n",
      "\n"
     ]
    }
   ],
   "source": [
    "df1.show()"
   ]
  },
  {
   "cell_type": "code",
   "execution_count": 82,
   "metadata": {},
   "outputs": [],
   "source": [
    "edd1=df1.select(\"ID_A\",\"USER_NAME_A\",\"DEPARTMENT_CODE\",\"INIT_APPLICATION\",\"EMAIL_A\",\"DAT_SIT\",\"DAT_CHG\",\"DAT_CSO\")"
   ]
  },
  {
   "cell_type": "code",
   "execution_count": 83,
   "metadata": {},
   "outputs": [
    {
     "name": "stdout",
     "output_type": "stream",
     "text": [
      "+-------+-----------+---------------+----------------+------------------+----------+----------+----------+\n",
      "|   ID_A|USER_NAME_A|DEPARTMENT_CODE|INIT_APPLICATION|           EMAIL_A|   DAT_SIT|   DAT_CHG|   DAT_CSO|\n",
      "+-------+-----------+---------------+----------------+------------------+----------+----------+----------+\n",
      "|B-00001|     B00001|            555|            ?278|B00001@biat.com.tn|2021-08-18|2021-08-18|2021-08-18|\n",
      "|B-00002|     B00002|             35|            ?233|B00002@biat.com.tn|2021-08-18|2021-08-18|2021-08-18|\n",
      "|B-00003|     B00003|            299|            ?202|B00003@biat.com.tn|2021-08-18|2021-08-18|2021-08-18|\n",
      "|B-00004|     B00004|             41|            ?265|B00004@biat.com.tn|2021-08-18|2021-08-18|2021-08-18|\n",
      "|B-00005|     B00005|            605|            ?266|B00005@biat.com.tn|2021-08-18|2021-08-18|2021-08-18|\n",
      "|B-00006|     B00006|            125|            ?233|B00006@biat.com.tn|2021-08-18|2021-08-18|2021-08-18|\n",
      "|B-00007|     B00007|            103|            ?202|B00007@biat.com.tn|2021-08-18|2021-08-18|2021-08-18|\n",
      "+-------+-----------+---------------+----------------+------------------+----------+----------+----------+\n",
      "\n"
     ]
    }
   ],
   "source": [
    "edd1.show()"
   ]
  },
  {
   "cell_type": "code",
   "execution_count": 84,
   "metadata": {},
   "outputs": [],
   "source": [
    "eddschema=edd1.withColumnRenamed(\"DAT_SIT\",\"DATDEBVLD\")"
   ]
  },
  {
   "cell_type": "code",
   "execution_count": 85,
   "metadata": {},
   "outputs": [
    {
     "name": "stdout",
     "output_type": "stream",
     "text": [
      "+-------+-----------+---------------+----------------+------------------+----------+----------+----------+\n",
      "|   ID_A|USER_NAME_A|DEPARTMENT_CODE|INIT_APPLICATION|           EMAIL_A| DATDEBVLD|   DAT_CHG|   DAT_CSO|\n",
      "+-------+-----------+---------------+----------------+------------------+----------+----------+----------+\n",
      "|B-00001|     B00001|            555|            ?278|B00001@biat.com.tn|2021-08-18|2021-08-18|2021-08-18|\n",
      "|B-00002|     B00002|             35|            ?233|B00002@biat.com.tn|2021-08-18|2021-08-18|2021-08-18|\n",
      "|B-00003|     B00003|            299|            ?202|B00003@biat.com.tn|2021-08-18|2021-08-18|2021-08-18|\n",
      "|B-00004|     B00004|             41|            ?265|B00004@biat.com.tn|2021-08-18|2021-08-18|2021-08-18|\n",
      "|B-00005|     B00005|            605|            ?266|B00005@biat.com.tn|2021-08-18|2021-08-18|2021-08-18|\n",
      "|B-00006|     B00006|            125|            ?233|B00006@biat.com.tn|2021-08-18|2021-08-18|2021-08-18|\n",
      "|B-00007|     B00007|            103|            ?202|B00007@biat.com.tn|2021-08-18|2021-08-18|2021-08-18|\n",
      "+-------+-----------+---------------+----------------+------------------+----------+----------+----------+\n",
      "\n"
     ]
    }
   ],
   "source": [
    "eddschema.show()"
   ]
  },
  {
   "cell_type": "code",
   "execution_count": 86,
   "metadata": {},
   "outputs": [
    {
     "name": "stdout",
     "output_type": "stream",
     "text": [
      "+-------+-----------+---------------+----------------+------------------+----------+\n",
      "|   ID_A|USER_NAME_A|DEPARTMENT_CODE|INIT_APPLICATION|           EMAIL_A| DATDEBVLD|\n",
      "+-------+-----------+---------------+----------------+------------------+----------+\n",
      "|B-00001|     B00001|            555|            ?278|B00001@biat.com.tn|2021-08-18|\n",
      "|B-00002|     B00002|             35|            ?233|B00002@biat.com.tn|2021-08-18|\n",
      "|B-00003|     B00003|            299|            ?202|B00003@biat.com.tn|2021-08-18|\n",
      "|B-00004|     B00004|             41|            ?265|B00004@biat.com.tn|2021-08-18|\n",
      "|B-00005|     B00005|            605|            ?266|B00005@biat.com.tn|2021-08-18|\n",
      "|B-00006|     B00006|            125|            ?233|B00006@biat.com.tn|2021-08-18|\n",
      "|B-00007|     B00007|            103|            ?202|B00007@biat.com.tn|2021-08-18|\n",
      "+-------+-----------+---------------+----------------+------------------+----------+\n",
      "\n"
     ]
    }
   ],
   "source": [
    "eddmod=eddschema.select(\"ID_A\",\"USER_NAME_A\",\"DEPARTMENT_CODE\",\"INIT_APPLICATION\",\"EMAIL_A\",\"DATDEBVLD\")\n",
    "eddmod.show()"
   ]
  },
  {
   "cell_type": "code",
   "execution_count": 87,
   "metadata": {},
   "outputs": [],
   "source": [
    "eddmod = eddmod.withColumn(\"DATFINVLD\",lit(\"9999-12-31\")).withColumn(\"DAT_CHG\",to_date(current_timestamp())).withColumn(\"Dersit\",lit(1))\n"
   ]
  },
  {
   "cell_type": "code",
   "execution_count": 88,
   "metadata": {},
   "outputs": [],
   "source": [
    "from pyspark.sql.functions import monotonically_increasing_id\n",
    "from pyspark.sql.window import Window\n",
    "cdrdata = eddmod.withColumn(\"CDR\",monotonically_increasing_id())\n",
    "w = Window().orderBy('CDR')\n",
    "eddnew =cdrdata.withColumn(\"CDR\",(0 + row_number().over(w)))"
   ]
  },
  {
   "cell_type": "code",
   "execution_count": 89,
   "metadata": {},
   "outputs": [],
   "source": [
    "eddnew.coalesce(1).write.csv(\"hdfs://master.com:8020/user/value/edd/hdfs-edduser.csv\")"
   ]
  },
  {
   "cell_type": "code",
   "execution_count": 90,
   "metadata": {},
   "outputs": [
    {
     "name": "stdout",
     "output_type": "stream",
     "text": [
      "root\n",
      " |-- ID_A: string (nullable = true)\n",
      " |-- USER_NAME_A: string (nullable = true)\n",
      " |-- DEPARTMENT_CODE: string (nullable = true)\n",
      " |-- INIT_APPLICATION: string (nullable = true)\n",
      " |-- EMAIL_A: string (nullable = true)\n",
      " |-- DATDEBVLD: string (nullable = true)\n",
      " |-- DATFINVLD: string (nullable = false)\n",
      " |-- DAT_CHG: date (nullable = false)\n",
      " |-- Dersit: integer (nullable = false)\n",
      " |-- CDR: integer (nullable = true)\n",
      "\n"
     ]
    }
   ],
   "source": [
    "eddnew.printSchema()"
   ]
  },
  {
   "cell_type": "code",
   "execution_count": 91,
   "metadata": {},
   "outputs": [
    {
     "name": "stdout",
     "output_type": "stream",
     "text": [
      "+-------+------+---+----+------------------+-----------+----------+-----------+---+---+\n",
      "|B-00001|B00001|555|?278|B00001@biat.com.tn|2021-08-185|9999-12-31|2021-08-187| 18| 19|\n",
      "+-------+------+---+----+------------------+-----------+----------+-----------+---+---+\n",
      "|B-00002|B00002| 35|?233|B00002@biat.com.tn| 2021-08-18|9999-12-31| 2021-08-18|  1|  2|\n",
      "|B-00003|B00003|299|?202|B00003@biat.com.tn| 2021-08-18|9999-12-31| 2021-08-18|  1|  3|\n",
      "|B-00004|B00004| 41|?265|B00004@biat.com.tn| 2021-08-18|9999-12-31| 2021-08-18|  1|  4|\n",
      "|B-00005|B00005|605|?266|B00005@biat.com.tn| 2021-08-18|9999-12-31| 2021-08-18|  1|  5|\n",
      "|B-00006|B00006|125|?233|B00006@biat.com.tn| 2021-08-18|9999-12-31| 2021-08-18|  1|  6|\n",
      "|B-00007|B00007|103|?202|B00007@biat.com.tn| 2021-08-18|9999-12-31| 2021-08-18|  1|  7|\n",
      "+-------+------+---+----+------------------+-----------+----------+-----------+---+---+\n",
      "\n"
     ]
    }
   ],
   "source": [
    "edd_load = spark.read.option(\"header\",\"true\").csv('hdfs://master.com:8020/user/value/edd/hdfs-edduser.csv')\n",
    "edd_load.show()"
   ]
  },
  {
   "cell_type": "code",
   "execution_count": 92,
   "metadata": {},
   "outputs": [],
   "source": [
    "cnx.execute(\"CREATE TABLE  edduser ( ID_A string, USER_NAME_A string, DEPARTMENT_CODE string, INIT_APPLICATION string, EMAIL_A string,DATDEBVLD date,DATFINVLD date,DAT_CHG date ,Dersit integer,CDR integer)ROW FORMAT DELIMITED FIELDS TERMINATED BY ','\")"
   ]
  },
  {
   "cell_type": "code",
   "execution_count": 93,
   "metadata": {},
   "outputs": [],
   "source": [
    "cnx.execute(\"load data  INPATH 'hdfs://master.com:8020/user/value/edd/hdfs-edduser.csv' overwrite into table edduser\")\n"
   ]
  },
  {
   "cell_type": "code",
   "execution_count": 94,
   "metadata": {},
   "outputs": [],
   "source": [
    "cnx.execute(\"select * from edduser\")"
   ]
  },
  {
   "cell_type": "code",
   "execution_count": 95,
   "metadata": {},
   "outputs": [],
   "source": [
    "newschema = cnx.fetchall()"
   ]
  },
  {
   "cell_type": "code",
   "execution_count": 96,
   "metadata": {},
   "outputs": [
    {
     "name": "stdout",
     "output_type": "stream",
     "text": [
      "[('B-00001', 'B00001', '555', '?278', 'B00001@biat.com.tn', '2021-08-18', '9999-12-31', '2021-08-18', 1, 1), ('B-00002', 'B00002', '35', '?233', 'B00002@biat.com.tn', '2021-08-18', '9999-12-31', '2021-08-18', 1, 2), ('B-00003', 'B00003', '299', '?202', 'B00003@biat.com.tn', '2021-08-18', '9999-12-31', '2021-08-18', 1, 3), ('B-00004', 'B00004', '41', '?265', 'B00004@biat.com.tn', '2021-08-18', '9999-12-31', '2021-08-18', 1, 4), ('B-00005', 'B00005', '605', '?266', 'B00005@biat.com.tn', '2021-08-18', '9999-12-31', '2021-08-18', 1, 5), ('B-00006', 'B00006', '125', '?233', 'B00006@biat.com.tn', '2021-08-18', '9999-12-31', '2021-08-18', 1, 6), ('B-00007', 'B00007', '103', '?202', 'B00007@biat.com.tn', '2021-08-18', '9999-12-31', '2021-08-18', 1, 7)]\n"
     ]
    }
   ],
   "source": [
    "print(newschema)"
   ]
  },
  {
   "cell_type": "code",
   "execution_count": 97,
   "metadata": {},
   "outputs": [],
   "source": [
    "edd2 = spark.createDataFrame(newschema,['ID_A','USER_NAME_A','DEPARTMENT_CODE','INIT_APPLICATION','EMAIL_A','DATDEBVLD','DATFINVLD','DAT_CHG','Dersit','CDR'])\n"
   ]
  },
  {
   "cell_type": "code",
   "execution_count": 98,
   "metadata": {},
   "outputs": [
    {
     "name": "stdout",
     "output_type": "stream",
     "text": [
      "+-------+-----------+---------------+----------------+------------------+----------+----------+----------+------+---+\n",
      "|   ID_A|USER_NAME_A|DEPARTMENT_CODE|INIT_APPLICATION|           EMAIL_A| DATDEBVLD| DATFINVLD|   DAT_CHG|Dersit|CDR|\n",
      "+-------+-----------+---------------+----------------+------------------+----------+----------+----------+------+---+\n",
      "|B-00001|     B00001|            555|            ?278|B00001@biat.com.tn|2021-08-18|9999-12-31|2021-08-18|     1|  1|\n",
      "|B-00002|     B00002|             35|            ?233|B00002@biat.com.tn|2021-08-18|9999-12-31|2021-08-18|     1|  2|\n",
      "|B-00003|     B00003|            299|            ?202|B00003@biat.com.tn|2021-08-18|9999-12-31|2021-08-18|     1|  3|\n",
      "|B-00004|     B00004|             41|            ?265|B00004@biat.com.tn|2021-08-18|9999-12-31|2021-08-18|     1|  4|\n",
      "|B-00005|     B00005|            605|            ?266|B00005@biat.com.tn|2021-08-18|9999-12-31|2021-08-18|     1|  5|\n",
      "|B-00006|     B00006|            125|            ?233|B00006@biat.com.tn|2021-08-18|9999-12-31|2021-08-18|     1|  6|\n",
      "|B-00007|     B00007|            103|            ?202|B00007@biat.com.tn|2021-08-18|9999-12-31|2021-08-18|     1|  7|\n",
      "+-------+-----------+---------------+----------------+------------------+----------+----------+----------+------+---+\n",
      "\n"
     ]
    }
   ],
   "source": [
    "edd2.show()"
   ]
  },
  {
   "cell_type": "code",
   "execution_count": null,
   "metadata": {},
   "outputs": [],
   "source": []
  }
 ],
 "metadata": {
  "kernelspec": {
   "display_name": "Python 3",
   "language": "python",
   "name": "python3"
  },
  "language_info": {
   "codemirror_mode": {
    "name": "ipython",
    "version": 3
   },
   "file_extension": ".py",
   "mimetype": "text/x-python",
   "name": "python",
   "nbconvert_exporter": "python",
   "pygments_lexer": "ipython3",
   "version": "3.7.3"
  }
 },
 "nbformat": 4,
 "nbformat_minor": 4
}
