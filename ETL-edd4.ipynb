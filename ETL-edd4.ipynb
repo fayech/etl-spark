{
 "cells": [
  {
   "cell_type": "code",
   "execution_count": 222,
   "metadata": {},
   "outputs": [],
   "source": [
    "from pyhive  import  hive\n",
    "from pyhive import  presto"
   ]
  },
  {
   "cell_type": "code",
   "execution_count": 223,
   "metadata": {},
   "outputs": [],
   "source": [
    "conn = hive.Connection(host=\"localhost\",port=10000,username=\"value\",database=\"default\")"
   ]
  },
  {
   "cell_type": "code",
   "execution_count": 224,
   "metadata": {},
   "outputs": [],
   "source": [
    "cnx = conn.cursor()"
   ]
  },
  {
   "cell_type": "code",
   "execution_count": 17,
   "metadata": {},
   "outputs": [],
   "source": [
    "cnx.execute(\"select * from O_T24_USER\")"
   ]
  },
  {
   "cell_type": "code",
   "execution_count": 18,
   "metadata": {},
   "outputs": [],
   "source": [
    "hiveods = cnx.fetchall()"
   ]
  },
  {
   "cell_type": "code",
   "execution_count": 19,
   "metadata": {},
   "outputs": [
    {
     "name": "stdout",
     "output_type": "stream",
     "text": [
      "[('B-00001', 'B000211', '222', '?255', 'B00001@biat.com.tn', '2021-08-18', '2021-08-18', 'null'), ('B-00002', 'B00002', '35', '?233', 'B00002@biat.com.tn', '2021-08-18', '2021-08-18', 'null'), ('B-00008', 'B00008', '125', '?233', 'B00008@biat.com.tn', '2021-08-18', '2021-08-18', 'null'), ('B-00009', 'B00009', '105', '?105', 'B00009@biat.com.tn', '2021-08-18', '2021-08-18', 'null'), ('B-00001', 'B00001', '555', '?278', 'B00001@biat.com.tn', '2021-08-18', '2021-08-18', '2021-08-18'), ('B-00002', 'B00002', '35', '?233', 'B00002@biat.com.tn', '2021-08-18', '2021-08-18', '2021-08-18'), ('B-00003', 'B00003', '299', '?202', 'B00003@biat.com.tn', '2021-08-18', '2021-08-18', '2021-08-18'), ('B-00004', 'B00004', '41', '?265', 'B00004@biat.com.tn', '2021-08-18', '2021-08-18', '2021-08-18'), ('B-00005', 'B00005', '605', '?266', 'B00005@biat.com.tn', '2021-08-18', '2021-08-18', '2021-08-18'), ('B-00006', 'B00006', '125', '?233', 'B00006@biat.com.tn', '2021-08-18', '2021-08-18', '2021-08-18'), ('B-00007', 'B00007', '103', '?202', 'B00007@biat.com.tn', '2021-08-18', '2021-08-18', '2021-08-18')]\n"
     ]
    }
   ],
   "source": [
    "print(hiveods)"
   ]
  },
  {
   "cell_type": "code",
   "execution_count": 20,
   "metadata": {},
   "outputs": [],
   "source": [
    "import pyspark\n",
    "from pyspark.sql import SparkSession"
   ]
  },
  {
   "cell_type": "code",
   "execution_count": 21,
   "metadata": {},
   "outputs": [],
   "source": [
    "spark = SparkSession.builder.getOrCreate()"
   ]
  },
  {
   "cell_type": "code",
   "execution_count": 22,
   "metadata": {},
   "outputs": [],
   "source": [
    "from pyspark import SparkContext\n",
    "from pyspark.sql import SQLContext\n",
    "from pyspark.sql.types import *"
   ]
  },
  {
   "cell_type": "code",
   "execution_count": 23,
   "metadata": {},
   "outputs": [],
   "source": [
    "df1= spark.createDataFrame(hiveods,['ID_A','USER_NAME_A','DEPARTMENT_CODE','INIT_APPLICATION','EMAIL_A','DAT_SIT','DAT_CHG','DAT_CSO'])\n"
   ]
  },
  {
   "cell_type": "code",
   "execution_count": 24,
   "metadata": {},
   "outputs": [
    {
     "name": "stdout",
     "output_type": "stream",
     "text": [
      "+-------+-----------+---------------+----------------+------------------+----------+----------+----------+\n",
      "|   ID_A|USER_NAME_A|DEPARTMENT_CODE|INIT_APPLICATION|           EMAIL_A|   DAT_SIT|   DAT_CHG|   DAT_CSO|\n",
      "+-------+-----------+---------------+----------------+------------------+----------+----------+----------+\n",
      "|B-00001|    B000211|            222|            ?255|B00001@biat.com.tn|2021-08-18|2021-08-18|      null|\n",
      "|B-00002|     B00002|             35|            ?233|B00002@biat.com.tn|2021-08-18|2021-08-18|      null|\n",
      "|B-00008|     B00008|            125|            ?233|B00008@biat.com.tn|2021-08-18|2021-08-18|      null|\n",
      "|B-00009|     B00009|            105|            ?105|B00009@biat.com.tn|2021-08-18|2021-08-18|      null|\n",
      "|B-00001|     B00001|            555|            ?278|B00001@biat.com.tn|2021-08-18|2021-08-18|2021-08-18|\n",
      "|B-00002|     B00002|             35|            ?233|B00002@biat.com.tn|2021-08-18|2021-08-18|2021-08-18|\n",
      "|B-00003|     B00003|            299|            ?202|B00003@biat.com.tn|2021-08-18|2021-08-18|2021-08-18|\n",
      "|B-00004|     B00004|             41|            ?265|B00004@biat.com.tn|2021-08-18|2021-08-18|2021-08-18|\n",
      "|B-00005|     B00005|            605|            ?266|B00005@biat.com.tn|2021-08-18|2021-08-18|2021-08-18|\n",
      "|B-00006|     B00006|            125|            ?233|B00006@biat.com.tn|2021-08-18|2021-08-18|2021-08-18|\n",
      "|B-00007|     B00007|            103|            ?202|B00007@biat.com.tn|2021-08-18|2021-08-18|2021-08-18|\n",
      "+-------+-----------+---------------+----------------+------------------+----------+----------+----------+\n",
      "\n"
     ]
    }
   ],
   "source": [
    "df1.show()"
   ]
  },
  {
   "cell_type": "code",
   "execution_count": 25,
   "metadata": {},
   "outputs": [],
   "source": [
    "edd1 = df1.select(\"ID_A\",\"USER_NAME_A\",\"DEPARTMENT_CODE\",\"INIT_APPLICATION\",\"EMAIL_A\").where(\"DAT_CSO == 'null'\")"
   ]
  },
  {
   "cell_type": "code",
   "execution_count": 26,
   "metadata": {},
   "outputs": [
    {
     "name": "stdout",
     "output_type": "stream",
     "text": [
      "+-------+-----------+---------------+----------------+------------------+\n",
      "|   ID_A|USER_NAME_A|DEPARTMENT_CODE|INIT_APPLICATION|           EMAIL_A|\n",
      "+-------+-----------+---------------+----------------+------------------+\n",
      "|B-00001|    B000211|            222|            ?255|B00001@biat.com.tn|\n",
      "|B-00002|     B00002|             35|            ?233|B00002@biat.com.tn|\n",
      "|B-00008|     B00008|            125|            ?233|B00008@biat.com.tn|\n",
      "|B-00009|     B00009|            105|            ?105|B00009@biat.com.tn|\n",
      "+-------+-----------+---------------+----------------+------------------+\n",
      "\n"
     ]
    }
   ],
   "source": [
    "edd1.show()"
   ]
  },
  {
   "cell_type": "code",
   "execution_count": 63,
   "metadata": {},
   "outputs": [
    {
     "name": "stdout",
     "output_type": "stream",
     "text": [
      "+----------+\n",
      "|   DAT_SIT|\n",
      "+----------+\n",
      "|2021-08-17|\n",
      "+----------+\n",
      "only showing top 1 row\n",
      "\n",
      "2021-08-17\n"
     ]
    }
   ],
   "source": [
    "import pyspark.sql.functions as F\n",
    "datadeb=df1.select(F.date_sub('DAT_SIT',1).alias('DAT_SIT')).where(\"DAT_CSO == 'null'\")\n",
    "datadeb.collect()[0]\n",
    "datadeb.show(1)\n",
    "daty = datadeb.first()['DAT_SIT']\n",
    "print(daty)"
   ]
  },
  {
   "cell_type": "code",
   "execution_count": 64,
   "metadata": {},
   "outputs": [
    {
     "data": {
      "text/plain": [
       "[('ID_A', 'string'),\n",
       " ('USER_NAME_A', 'string'),\n",
       " ('DEPARTMENT_CODE', 'string'),\n",
       " ('INIT_APPLICATION', 'string'),\n",
       " ('EMAIL_A', 'string')]"
      ]
     },
     "execution_count": 64,
     "metadata": {},
     "output_type": "execute_result"
    }
   ],
   "source": [
    "edd1.dtypes"
   ]
  },
  {
   "cell_type": "code",
   "execution_count": 186,
   "metadata": {},
   "outputs": [],
   "source": [
    "cnx.execute(\"select * from edduser\")"
   ]
  },
  {
   "cell_type": "code",
   "execution_count": 187,
   "metadata": {},
   "outputs": [],
   "source": [
    "newschema = cnx.fetchall()"
   ]
  },
  {
   "cell_type": "code",
   "execution_count": 188,
   "metadata": {},
   "outputs": [
    {
     "name": "stdout",
     "output_type": "stream",
     "text": [
      "[('B-00001', 'B00001', '555', '?278', 'B00001@biat.com.tn', '2021-08-18', '9999-12-31', '2021-08-18', 1, 1), ('B-00002', 'B00002', '35', '?233', 'B00002@biat.com.tn', '2021-08-18', '9999-12-31', '2021-08-18', 1, 2), ('B-00003', 'B00003', '299', '?202', 'B00003@biat.com.tn', '2021-08-18', '9999-12-31', '2021-08-18', 1, 3), ('B-00004', 'B00004', '41', '?265', 'B00004@biat.com.tn', '2021-08-18', '9999-12-31', '2021-08-18', 1, 4), ('B-00005', 'B00005', '605', '?266', 'B00005@biat.com.tn', '2021-08-18', '9999-12-31', '2021-08-18', 1, 5), ('B-00006', 'B00006', '125', '?233', 'B00006@biat.com.tn', '2021-08-18', '9999-12-31', '2021-08-18', 1, 6), ('B-00007', 'B00007', '103', '?202', 'B00007@biat.com.tn', '2021-08-18', '9999-12-31', '2021-08-18', 1, 7)]\n"
     ]
    }
   ],
   "source": [
    "print(newschema)"
   ]
  },
  {
   "cell_type": "code",
   "execution_count": 189,
   "metadata": {},
   "outputs": [],
   "source": [
    "edd2= spark.createDataFrame(newschema,['ID_A','USER_NAME_A','DEPARTMENT_CODE','INIT_APPLICATION','EMAIL_A','DATDEBVLD','DATFINVLD','DAT_CHG','Dersit','CDR'])\n"
   ]
  },
  {
   "cell_type": "code",
   "execution_count": 190,
   "metadata": {},
   "outputs": [
    {
     "name": "stdout",
     "output_type": "stream",
     "text": [
      "+-------+-----------+---------------+----------------+------------------+----------+----------+----------+------+---+\n",
      "|   ID_A|USER_NAME_A|DEPARTMENT_CODE|INIT_APPLICATION|           EMAIL_A| DATDEBVLD| DATFINVLD|   DAT_CHG|Dersit|CDR|\n",
      "+-------+-----------+---------------+----------------+------------------+----------+----------+----------+------+---+\n",
      "|B-00001|     B00001|            555|            ?278|B00001@biat.com.tn|2021-08-18|9999-12-31|2021-08-18|     1|  1|\n",
      "|B-00002|     B00002|             35|            ?233|B00002@biat.com.tn|2021-08-18|9999-12-31|2021-08-18|     1|  2|\n",
      "|B-00003|     B00003|            299|            ?202|B00003@biat.com.tn|2021-08-18|9999-12-31|2021-08-18|     1|  3|\n",
      "|B-00004|     B00004|             41|            ?265|B00004@biat.com.tn|2021-08-18|9999-12-31|2021-08-18|     1|  4|\n",
      "|B-00005|     B00005|            605|            ?266|B00005@biat.com.tn|2021-08-18|9999-12-31|2021-08-18|     1|  5|\n",
      "|B-00006|     B00006|            125|            ?233|B00006@biat.com.tn|2021-08-18|9999-12-31|2021-08-18|     1|  6|\n",
      "|B-00007|     B00007|            103|            ?202|B00007@biat.com.tn|2021-08-18|9999-12-31|2021-08-18|     1|  7|\n",
      "+-------+-----------+---------------+----------------+------------------+----------+----------+----------+------+---+\n",
      "\n"
     ]
    }
   ],
   "source": [
    "edd2.show()"
   ]
  },
  {
   "cell_type": "code",
   "execution_count": 191,
   "metadata": {},
   "outputs": [
    {
     "name": "stdout",
     "output_type": "stream",
     "text": [
      "root\n",
      " |-- ID_A: string (nullable = true)\n",
      " |-- USER_NAME_A: string (nullable = true)\n",
      " |-- DEPARTMENT_CODE: string (nullable = true)\n",
      " |-- INIT_APPLICATION: string (nullable = true)\n",
      " |-- EMAIL_A: string (nullable = true)\n",
      " |-- DATDEBVLD: string (nullable = true)\n",
      " |-- DATFINVLD: string (nullable = true)\n",
      " |-- DAT_CHG: string (nullable = true)\n",
      " |-- Dersit: long (nullable = true)\n",
      " |-- CDR: long (nullable = true)\n",
      "\n"
     ]
    }
   ],
   "source": [
    "edd2.printSchema()\n"
   ]
  },
  {
   "cell_type": "code",
   "execution_count": 192,
   "metadata": {},
   "outputs": [
    {
     "name": "stdout",
     "output_type": "stream",
     "text": [
      "root\n",
      " |-- ID_A: string (nullable = true)\n",
      " |-- USER_NAME_A: string (nullable = true)\n",
      " |-- DEPARTMENT_CODE: string (nullable = true)\n",
      " |-- INIT_APPLICATION: string (nullable = true)\n",
      " |-- EMAIL_A: string (nullable = true)\n",
      "\n"
     ]
    }
   ],
   "source": [
    "edd1.printSchema()"
   ]
  },
  {
   "cell_type": "code",
   "execution_count": 193,
   "metadata": {},
   "outputs": [
    {
     "name": "stdout",
     "output_type": "stream",
     "text": [
      "+-------+-----------+---------------+----------------+------------------+----------+----------+----------+------+---+\n",
      "|   ID_A|USER_NAME_A|DEPARTMENT_CODE|INIT_APPLICATION|           EMAIL_A| DATDEBVLD| DATFINVLD|   DAT_CHG|Dersit|CDR|\n",
      "+-------+-----------+---------------+----------------+------------------+----------+----------+----------+------+---+\n",
      "|B-00001|     B00001|            555|            ?278|B00001@biat.com.tn|2021-08-18|9999-12-31|2021-08-18|     1|  1|\n",
      "+-------+-----------+---------------+----------------+------------------+----------+----------+----------+------+---+\n",
      "\n",
      "+-------+-----------+---------------+----------------+------------------+----------+----------+----------+------+---+\n",
      "|   ID_A|USER_NAME_A|DEPARTMENT_CODE|INIT_APPLICATION|           EMAIL_A| DATDEBVLD| DATFINVLD|   DAT_CHG|Dersit|CDR|\n",
      "+-------+-----------+---------------+----------------+------------------+----------+----------+----------+------+---+\n",
      "|B-00001|     B00001|            555|            ?278|B00001@biat.com.tn|2021-08-18|2021-08-17|2021-08-18|     0|  1|\n",
      "+-------+-----------+---------------+----------------+------------------+----------+----------+----------+------+---+\n",
      "\n"
     ]
    }
   ],
   "source": [
    "from pyspark.sql.functions import col,array,when, array_remove,lit\n",
    "from pyspark.sql.functions import *\n",
    "\n",
    "conditions_ = [when(edd1[c]!= edd2[c], lit(c)).otherwise(\"\") for c in edd1.columns if c != 'ID_A']\n",
    "select_expr = [ \n",
    "    col(\"ID_A\"),\n",
    "    *[edd2[c] for c in edd2.columns if c != 'ID_A']\n",
    "]\n",
    "p=edd2.join(edd1,\"ID_A\").select(*select_expr)\n",
    "updatafiate = p.filter(p.ID_A == \"B-00001\")\n",
    "updatafiate.show()\n",
    "ods = updatafiate.withColumn('Dersit', regexp_replace('Dersit','1','0')).withColumn('DATFINVLD', regexp_replace('DATFINVLD','9999-12-31',str(daty)))\n",
    "ods.show()\n"
   ]
  },
  {
   "cell_type": "code",
   "execution_count": 194,
   "metadata": {},
   "outputs": [
    {
     "name": "stdout",
     "output_type": "stream",
     "text": [
      "+-------+-----------+---------------+----------------+------------------+----------+----------+----------+------+---+\n",
      "|   ID_A|USER_NAME_A|DEPARTMENT_CODE|INIT_APPLICATION|           EMAIL_A| DATDEBVLD| DATFINVLD|   DAT_CHG|Dersit|CDR|\n",
      "+-------+-----------+---------------+----------------+------------------+----------+----------+----------+------+---+\n",
      "|B-00002|     B00002|             35|            ?233|B00002@biat.com.tn|2021-08-18|9999-12-31|2021-08-18|     1|  2|\n",
      "|B-00003|     B00003|            299|            ?202|B00003@biat.com.tn|2021-08-18|9999-12-31|2021-08-18|     1|  3|\n",
      "|B-00004|     B00004|             41|            ?265|B00004@biat.com.tn|2021-08-18|9999-12-31|2021-08-18|     1|  4|\n",
      "|B-00005|     B00005|            605|            ?266|B00005@biat.com.tn|2021-08-18|9999-12-31|2021-08-18|     1|  5|\n",
      "|B-00006|     B00006|            125|            ?233|B00006@biat.com.tn|2021-08-18|9999-12-31|2021-08-18|     1|  6|\n",
      "|B-00007|     B00007|            103|            ?202|B00007@biat.com.tn|2021-08-18|9999-12-31|2021-08-18|     1|  7|\n",
      "|B-00001|     B00001|            555|            ?278|B00001@biat.com.tn|2021-08-18|2021-08-17|2021-08-18|     0|  1|\n",
      "+-------+-----------+---------------+----------------+------------------+----------+----------+----------+------+---+\n",
      "\n",
      "+-------+-----------+---------------+----------------+------------------+----------+----------+----------+------+---+\n",
      "|   ID_A|USER_NAME_A|DEPARTMENT_CODE|INIT_APPLICATION|           EMAIL_A| DATDEBVLD| DATFINVLD|   DAT_CHG|Dersit|CDR|\n",
      "+-------+-----------+---------------+----------------+------------------+----------+----------+----------+------+---+\n",
      "|B-00002|     B00002|             35|            ?233|B00002@biat.com.tn|2021-08-18|9999-12-31|2021-08-18|     1|  2|\n",
      "|B-00003|     B00003|            299|            ?202|B00003@biat.com.tn|2021-08-18|9999-12-31|2021-08-18|     1|  3|\n",
      "|B-00004|     B00004|             41|            ?265|B00004@biat.com.tn|2021-08-18|9999-12-31|2021-08-18|     1|  4|\n",
      "|B-00005|     B00005|            605|            ?266|B00005@biat.com.tn|2021-08-18|9999-12-31|2021-08-18|     1|  5|\n",
      "|B-00006|     B00006|            125|            ?233|B00006@biat.com.tn|2021-08-18|9999-12-31|2021-08-18|     1|  6|\n",
      "|B-00007|     B00007|            103|            ?202|B00007@biat.com.tn|2021-08-18|9999-12-31|2021-08-18|     1|  7|\n",
      "|B-00001|     B00001|            555|            ?278|B00001@biat.com.tn|2021-08-18|2021-08-17|2021-08-18|     0|  1|\n",
      "+-------+-----------+---------------+----------------+------------------+----------+----------+----------+------+---+\n",
      "\n"
     ]
    }
   ],
   "source": [
    "oldedd=edd2.withColumn('New_col',\n",
    "                     when(edd2.ID_A != \"B-00001\", \"True\")\n",
    "                     \n",
    "                     ).filter(\"New_col == True\").drop(\"New_col\")\n",
    "dataset = oldedd.union(ods)\n",
    "oldedd.union(ods).show()\n",
    "dataset.show()"
   ]
  },
  {
   "cell_type": "code",
   "execution_count": 195,
   "metadata": {},
   "outputs": [
    {
     "name": "stdout",
     "output_type": "stream",
     "text": [
      "+-------+-----------+---------------+----------------+------------------+\n",
      "|   ID_A|USER_NAME_A|DEPARTMENT_CODE|INIT_APPLICATION|           EMAIL_A|\n",
      "+-------+-----------+---------------+----------------+------------------+\n",
      "|B-00001|    B000211|            222|            ?255|B00001@biat.com.tn|\n",
      "|B-00008|     B00008|            125|            ?233|B00008@biat.com.tn|\n",
      "|B-00009|     B00009|            105|            ?105|B00009@biat.com.tn|\n",
      "+-------+-----------+---------------+----------------+------------------+\n",
      "\n"
     ]
    }
   ],
   "source": [
    "oldods=edd1.withColumn('New_col',\n",
    "                     when(edd1.ID_A != \"B-00002\", \"True\")\n",
    "                     \n",
    "                     ).filter(\"New_col == True\").drop(\"New_col\")\n",
    "oldods.show()"
   ]
  },
  {
   "cell_type": "code",
   "execution_count": 196,
   "metadata": {},
   "outputs": [],
   "source": [
    "newedd = oldods.withColumn(\"DATDEBVLD\",to_date(current_timestamp())).withColumn(\"DATFINVLD\",lit(\"9999-12-31\")).withColumn(\"DAT_CHG\",to_date(current_timestamp())).withColumn(\"Dersit\",lit(1))"
   ]
  },
  {
   "cell_type": "code",
   "execution_count": 197,
   "metadata": {},
   "outputs": [
    {
     "name": "stdout",
     "output_type": "stream",
     "text": [
      "+-------+-----------+---------------+----------------+------------------+----------+----------+----------+------+\n",
      "|   ID_A|USER_NAME_A|DEPARTMENT_CODE|INIT_APPLICATION|           EMAIL_A| DATDEBVLD| DATFINVLD|   DAT_CHG|Dersit|\n",
      "+-------+-----------+---------------+----------------+------------------+----------+----------+----------+------+\n",
      "|B-00001|    B000211|            222|            ?255|B00001@biat.com.tn|2021-08-18|9999-12-31|2021-08-18|     1|\n",
      "|B-00008|     B00008|            125|            ?233|B00008@biat.com.tn|2021-08-18|9999-12-31|2021-08-18|     1|\n",
      "|B-00009|     B00009|            105|            ?105|B00009@biat.com.tn|2021-08-18|9999-12-31|2021-08-18|     1|\n",
      "+-------+-----------+---------------+----------------+------------------+----------+----------+----------+------+\n",
      "\n"
     ]
    }
   ],
   "source": [
    "newedd.show()"
   ]
  },
  {
   "cell_type": "code",
   "execution_count": 198,
   "metadata": {},
   "outputs": [
    {
     "name": "stdout",
     "output_type": "stream",
     "text": [
      "+-------+-----------+---------------+----------------+------------------+----------+----------+----------+------+---+\n",
      "|   ID_A|USER_NAME_A|DEPARTMENT_CODE|INIT_APPLICATION|           EMAIL_A| DATDEBVLD| DATFINVLD|   DAT_CHG|Dersit|CDR|\n",
      "+-------+-----------+---------------+----------------+------------------+----------+----------+----------+------+---+\n",
      "|B-00002|     B00002|             35|            ?233|B00002@biat.com.tn|2021-08-18|9999-12-31|2021-08-18|     1|  2|\n",
      "|B-00003|     B00003|            299|            ?202|B00003@biat.com.tn|2021-08-18|9999-12-31|2021-08-18|     1|  3|\n",
      "|B-00004|     B00004|             41|            ?265|B00004@biat.com.tn|2021-08-18|9999-12-31|2021-08-18|     1|  4|\n",
      "|B-00005|     B00005|            605|            ?266|B00005@biat.com.tn|2021-08-18|9999-12-31|2021-08-18|     1|  5|\n",
      "|B-00006|     B00006|            125|            ?233|B00006@biat.com.tn|2021-08-18|9999-12-31|2021-08-18|     1|  6|\n",
      "|B-00007|     B00007|            103|            ?202|B00007@biat.com.tn|2021-08-18|9999-12-31|2021-08-18|     1|  7|\n",
      "|B-00001|     B00001|            555|            ?278|B00001@biat.com.tn|2021-08-18|2021-08-17|2021-08-18|     0|  1|\n",
      "+-------+-----------+---------------+----------------+------------------+----------+----------+----------+------+---+\n",
      "\n",
      "Row(max(CDR)=7)\n",
      "7\n"
     ]
    }
   ],
   "source": [
    "dataset.show()\n",
    "CDRFIN=dataset.agg({'CDR':'max'}).collect()[0]\n",
    "print(CDRFIN)\n",
    "print(CDRFIN[\"max(CDR)\"])"
   ]
  },
  {
   "cell_type": "code",
   "execution_count": 199,
   "metadata": {},
   "outputs": [],
   "source": [
    "A=dataset.join(newedd,dataset['ID_A']==newedd['ID_A'],'right').select(newedd.ID_A,newedd.USER_NAME_A,newedd.DEPARTMENT_CODE,newedd.INIT_APPLICATION,newedd.EMAIL_A,newedd.DATDEBVLD,newedd.DATFINVLD,newedd.DAT_CHG,newedd.Dersit).where(dataset['ID_A'].isNull())"
   ]
  },
  {
   "cell_type": "code",
   "execution_count": 200,
   "metadata": {},
   "outputs": [
    {
     "name": "stdout",
     "output_type": "stream",
     "text": [
      "+-------+-----------+---------------+----------------+------------------+----------+----------+----------+------+---+\n",
      "|   ID_A|USER_NAME_A|DEPARTMENT_CODE|INIT_APPLICATION|           EMAIL_A| DATDEBVLD| DATFINVLD|   DAT_CHG|Dersit|CDR|\n",
      "+-------+-----------+---------------+----------------+------------------+----------+----------+----------+------+---+\n",
      "|B-00001|     B00001|            555|            ?278|B00001@biat.com.tn|2021-08-18|9999-12-31|2021-08-18|     1|  1|\n",
      "|B-00002|     B00002|             35|            ?233|B00002@biat.com.tn|2021-08-18|9999-12-31|2021-08-18|     1|  2|\n",
      "|B-00003|     B00003|            299|            ?202|B00003@biat.com.tn|2021-08-18|9999-12-31|2021-08-18|     1|  3|\n",
      "|B-00004|     B00004|             41|            ?265|B00004@biat.com.tn|2021-08-18|9999-12-31|2021-08-18|     1|  4|\n",
      "|B-00005|     B00005|            605|            ?266|B00005@biat.com.tn|2021-08-18|9999-12-31|2021-08-18|     1|  5|\n",
      "|B-00006|     B00006|            125|            ?233|B00006@biat.com.tn|2021-08-18|9999-12-31|2021-08-18|     1|  6|\n",
      "|B-00007|     B00007|            103|            ?202|B00007@biat.com.tn|2021-08-18|9999-12-31|2021-08-18|     1|  7|\n",
      "+-------+-----------+---------------+----------------+------------------+----------+----------+----------+------+---+\n",
      "\n",
      "+-------+-----------+---------------+----------------+------------------+----------+----------+----------+------+\n",
      "|   ID_A|USER_NAME_A|DEPARTMENT_CODE|INIT_APPLICATION|           EMAIL_A| DATDEBVLD| DATFINVLD|   DAT_CHG|Dersit|\n",
      "+-------+-----------+---------------+----------------+------------------+----------+----------+----------+------+\n",
      "|B-00001|    B000211|            222|            ?255|B00001@biat.com.tn|2021-08-18|9999-12-31|2021-08-18|     1|\n",
      "|B-00008|     B00008|            125|            ?233|B00008@biat.com.tn|2021-08-18|9999-12-31|2021-08-18|     1|\n",
      "|B-00009|     B00009|            105|            ?105|B00009@biat.com.tn|2021-08-18|9999-12-31|2021-08-18|     1|\n",
      "+-------+-----------+---------------+----------------+------------------+----------+----------+----------+------+\n",
      "\n",
      "+-------+-----------+---------------+----------------+------------------+----------+----------+----------+------+\n",
      "|   ID_A|USER_NAME_A|DEPARTMENT_CODE|INIT_APPLICATION|           EMAIL_A| DATDEBVLD| DATFINVLD|   DAT_CHG|Dersit|\n",
      "+-------+-----------+---------------+----------------+------------------+----------+----------+----------+------+\n",
      "|B-00008|     B00008|            125|            ?233|B00008@biat.com.tn|2021-08-18|9999-12-31|2021-08-18|     1|\n",
      "|B-00009|     B00009|            105|            ?105|B00009@biat.com.tn|2021-08-18|9999-12-31|2021-08-18|     1|\n",
      "+-------+-----------+---------------+----------------+------------------+----------+----------+----------+------+\n",
      "\n"
     ]
    }
   ],
   "source": [
    "edd2.show()\n",
    "newedd.show()\n",
    "A.show()"
   ]
  },
  {
   "cell_type": "code",
   "execution_count": 206,
   "metadata": {},
   "outputs": [],
   "source": [
    "edd3=edd2.join(newedd,edd2['ID_A']==newedd['ID_A'],'inner').select(newedd.ID_A,newedd.USER_NAME_A,newedd.DEPARTMENT_CODE,newedd.INIT_APPLICATION,newedd.EMAIL_A,newedd.DATDEBVLD,newedd.DATFINVLD,newedd.DAT_CHG,newedd.Dersit,edd2.CDR)"
   ]
  },
  {
   "cell_type": "code",
   "execution_count": 207,
   "metadata": {},
   "outputs": [
    {
     "name": "stdout",
     "output_type": "stream",
     "text": [
      "+-------+-----------+---------------+----------------+------------------+----------+----------+----------+------+---+\n",
      "|   ID_A|USER_NAME_A|DEPARTMENT_CODE|INIT_APPLICATION|           EMAIL_A| DATDEBVLD| DATFINVLD|   DAT_CHG|Dersit|CDR|\n",
      "+-------+-----------+---------------+----------------+------------------+----------+----------+----------+------+---+\n",
      "|B-00001|    B000211|            222|            ?255|B00001@biat.com.tn|2021-08-18|9999-12-31|2021-08-18|     1|  1|\n",
      "+-------+-----------+---------------+----------------+------------------+----------+----------+----------+------+---+\n",
      "\n"
     ]
    }
   ],
   "source": [
    "edd3.show()"
   ]
  },
  {
   "cell_type": "code",
   "execution_count": 208,
   "metadata": {},
   "outputs": [
    {
     "name": "stdout",
     "output_type": "stream",
     "text": [
      "+-------+-----------+---------------+----------------+------------------+----------+----------+----------+------+---+\n",
      "|   ID_A|USER_NAME_A|DEPARTMENT_CODE|INIT_APPLICATION|           EMAIL_A| DATDEBVLD| DATFINVLD|   DAT_CHG|Dersit|CDR|\n",
      "+-------+-----------+---------------+----------------+------------------+----------+----------+----------+------+---+\n",
      "|B-00008|     B00008|            125|            ?233|B00008@biat.com.tn|2021-08-18|9999-12-31|2021-08-18|     1|  8|\n",
      "|B-00009|     B00009|            105|            ?105|B00009@biat.com.tn|2021-08-18|9999-12-31|2021-08-18|     1|  9|\n",
      "+-------+-----------+---------------+----------------+------------------+----------+----------+----------+------+---+\n",
      "\n"
     ]
    }
   ],
   "source": [
    "from pyspark.sql.functions import monotonically_increasing_id\n",
    "from pyspark.sql.window import Window\n",
    "cdrdata = A.withColumn(\"CDR\",monotonically_increasing_id())\n",
    "w = Window().orderBy('CDR')\n",
    "cdrdata.withColumn(\"CDR\",(CDRFIN[\"max(CDR)\"] + row_number().over(w))).show()\n",
    "eddAdd=cdrdata.withColumn(\"CDR\",(CDRFIN[\"max(CDR)\"] + row_number().over(w)))"
   ]
  },
  {
   "cell_type": "code",
   "execution_count": 213,
   "metadata": {},
   "outputs": [
    {
     "name": "stdout",
     "output_type": "stream",
     "text": [
      "+-------+-----------+---------------+----------------+------------------+----------+----------+----------+------+---+\n",
      "|   ID_A|USER_NAME_A|DEPARTMENT_CODE|INIT_APPLICATION|           EMAIL_A| DATDEBVLD| DATFINVLD|   DAT_CHG|Dersit|CDR|\n",
      "+-------+-----------+---------------+----------------+------------------+----------+----------+----------+------+---+\n",
      "|B-00002|     B00002|             35|            ?233|B00002@biat.com.tn|2021-08-18|9999-12-31|2021-08-18|     1|  2|\n",
      "|B-00003|     B00003|            299|            ?202|B00003@biat.com.tn|2021-08-18|9999-12-31|2021-08-18|     1|  3|\n",
      "|B-00004|     B00004|             41|            ?265|B00004@biat.com.tn|2021-08-18|9999-12-31|2021-08-18|     1|  4|\n",
      "|B-00005|     B00005|            605|            ?266|B00005@biat.com.tn|2021-08-18|9999-12-31|2021-08-18|     1|  5|\n",
      "|B-00006|     B00006|            125|            ?233|B00006@biat.com.tn|2021-08-18|9999-12-31|2021-08-18|     1|  6|\n",
      "|B-00007|     B00007|            103|            ?202|B00007@biat.com.tn|2021-08-18|9999-12-31|2021-08-18|     1|  7|\n",
      "|B-00001|     B00001|            555|            ?278|B00001@biat.com.tn|2021-08-18|2021-08-17|2021-08-18|     0|  1|\n",
      "|B-00008|     B00008|            125|            ?233|B00008@biat.com.tn|2021-08-19|9999-12-31|2021-08-19|     1|  8|\n",
      "|B-00009|     B00009|            105|            ?105|B00009@biat.com.tn|2021-08-19|9999-12-31|2021-08-19|     1|  9|\n",
      "|B-00001|    B000211|            222|            ?255|B00001@biat.com.tn|2021-08-19|9999-12-31|2021-08-19|     1|  1|\n",
      "+-------+-----------+---------------+----------------+------------------+----------+----------+----------+------+---+\n",
      "\n"
     ]
    }
   ],
   "source": [
    "dataset.union(eddAdd).union(edd3).show()\n",
    "\n",
    "\n"
   ]
  },
  {
   "cell_type": "code",
   "execution_count": 215,
   "metadata": {},
   "outputs": [],
   "source": [
    "loadhive =dataset.union(eddAdd).union(edd3)\n",
    "finhive=loadhive.orderBy(\"CDR\")"
   ]
  },
  {
   "cell_type": "code",
   "execution_count": 230,
   "metadata": {},
   "outputs": [],
   "source": [
    "finhive.coalesce(1).write.csv(\"hdfs://master.com:8020/user/value/edd/hive-edduser.csv\")"
   ]
  },
  {
   "cell_type": "code",
   "execution_count": 231,
   "metadata": {},
   "outputs": [
    {
     "name": "stdout",
     "output_type": "stream",
     "text": [
      "+-------+-------+---+----+------------------+-----------+----------+-----------+---+---+\n",
      "|B-00001| B00001|555|?278|B00001@biat.com.tn|2021-08-185|2021-08-17|2021-08-187|  0|  1|\n",
      "+-------+-------+---+----+------------------+-----------+----------+-----------+---+---+\n",
      "|B-00001|B000211|222|?255|B00001@biat.com.tn| 2021-08-19|9999-12-31| 2021-08-19|  1|  1|\n",
      "|B-00002| B00002| 35|?233|B00002@biat.com.tn| 2021-08-18|9999-12-31| 2021-08-18|  1|  2|\n",
      "|B-00003| B00003|299|?202|B00003@biat.com.tn| 2021-08-18|9999-12-31| 2021-08-18|  1|  3|\n",
      "|B-00004| B00004| 41|?265|B00004@biat.com.tn| 2021-08-18|9999-12-31| 2021-08-18|  1|  4|\n",
      "|B-00005| B00005|605|?266|B00005@biat.com.tn| 2021-08-18|9999-12-31| 2021-08-18|  1|  5|\n",
      "|B-00006| B00006|125|?233|B00006@biat.com.tn| 2021-08-18|9999-12-31| 2021-08-18|  1|  6|\n",
      "|B-00007| B00007|103|?202|B00007@biat.com.tn| 2021-08-18|9999-12-31| 2021-08-18|  1|  7|\n",
      "|B-00008| B00008|125|?233|B00008@biat.com.tn| 2021-08-19|9999-12-31| 2021-08-19|  1|  8|\n",
      "|B-00009| B00009|105|?105|B00009@biat.com.tn| 2021-08-19|9999-12-31| 2021-08-19|  1|  9|\n",
      "+-------+-------+---+----+------------------+-----------+----------+-----------+---+---+\n",
      "\n"
     ]
    }
   ],
   "source": [
    "edd_load = spark.read.option(\"header\",\"true\").csv('hdfs://master.com:8020/user/value/edd/hive-edduser.csv')\n",
    "edd_load.show()"
   ]
  },
  {
   "cell_type": "code",
   "execution_count": 232,
   "metadata": {},
   "outputs": [],
   "source": [
    "cnx.execute(\"load data  INPATH 'hdfs://master.com:8020/user/value/edd/hive-edduser.csv' overwrite into table edduser\")\n",
    "cnx.execute(\"select * from edduser\")"
   ]
  },
  {
   "cell_type": "code",
   "execution_count": 233,
   "metadata": {},
   "outputs": [
    {
     "name": "stdout",
     "output_type": "stream",
     "text": [
      "+-------+-----------+---------------+----------------+------------------+----------+----------+----------+------+---+\n",
      "|   ID_A|USER_NAME_A|DEPARTMENT_CODE|INIT_APPLICATION|           EMAIL_A| DATDEBVLD| DATFINVLD|   DAT_CHG|Dersit|CDR|\n",
      "+-------+-----------+---------------+----------------+------------------+----------+----------+----------+------+---+\n",
      "|B-00001|     B00001|            555|            ?278|B00001@biat.com.tn|2021-08-18|2021-08-17|2021-08-18|     0|  1|\n",
      "|B-00001|    B000211|            222|            ?255|B00001@biat.com.tn|2021-08-19|9999-12-31|2021-08-19|     1|  1|\n",
      "|B-00002|     B00002|             35|            ?233|B00002@biat.com.tn|2021-08-18|9999-12-31|2021-08-18|     1|  2|\n",
      "|B-00003|     B00003|            299|            ?202|B00003@biat.com.tn|2021-08-18|9999-12-31|2021-08-18|     1|  3|\n",
      "|B-00004|     B00004|             41|            ?265|B00004@biat.com.tn|2021-08-18|9999-12-31|2021-08-18|     1|  4|\n",
      "|B-00005|     B00005|            605|            ?266|B00005@biat.com.tn|2021-08-18|9999-12-31|2021-08-18|     1|  5|\n",
      "|B-00006|     B00006|            125|            ?233|B00006@biat.com.tn|2021-08-18|9999-12-31|2021-08-18|     1|  6|\n",
      "|B-00007|     B00007|            103|            ?202|B00007@biat.com.tn|2021-08-18|9999-12-31|2021-08-18|     1|  7|\n",
      "|B-00008|     B00008|            125|            ?233|B00008@biat.com.tn|2021-08-19|9999-12-31|2021-08-19|     1|  8|\n",
      "|B-00009|     B00009|            105|            ?105|B00009@biat.com.tn|2021-08-19|9999-12-31|2021-08-19|     1|  9|\n",
      "+-------+-----------+---------------+----------------+------------------+----------+----------+----------+------+---+\n",
      "\n"
     ]
    }
   ],
   "source": [
    "newschema = cnx.fetchall()\n",
    "readhive = spark.createDataFrame(newschema,['ID_A','USER_NAME_A','DEPARTMENT_CODE','INIT_APPLICATION','EMAIL_A','DATDEBVLD','DATFINVLD','DAT_CHG','Dersit','CDR'])\n",
    "readhive.show()"
   ]
  },
  {
   "cell_type": "code",
   "execution_count": 115,
   "metadata": {},
   "outputs": [
    {
     "data": {
      "text/plain": [
       "False"
      ]
     },
     "execution_count": 115,
     "metadata": {},
     "output_type": "execute_result"
    }
   ],
   "source": [
    "def are_dfs_equal(df1, df2):\n",
    "    if df1.schema != df2.schema:\n",
    "        return False\n",
    "    if df1.collect() != df2.collect():\n",
    "        return False\n",
    "    return True\n",
    "are_dfs_equal(edd2,edd1)"
   ]
  },
  {
   "cell_type": "code",
   "execution_count": 127,
   "metadata": {},
   "outputs": [
    {
     "name": "stdout",
     "output_type": "stream",
     "text": [
      "+-------+-----------+---------------+----------------+------------------+-------+-----------+---------------+----------------+------------------+----------+----------+------+\n",
      "|   ID_A|USER_NAME_A|DEPARTMENT_CODE|INIT_APPLICATION|           EMAIL_A|   ID_A|USER_NAME_A|DEPARTMENT_CODE|INIT_APPLICATION|           EMAIL_A| DATDEBVLD|    DATCHG|Dersit|\n",
      "+-------+-----------+---------------+----------------+------------------+-------+-----------+---------------+----------------+------------------+----------+----------+------+\n",
      "|B-00002|     B00002|             35|            ?233|B00002@biat.com.tn|B-00002|     B00002|             35|            ?233|B00002@biat.com.tn|2021-08-04|2021-08-04|     1|\n",
      "|B-00008|     B00008|            125|            ?233|B00008@biat.com.tn|   null|       null|           null|            null|              null|      null|      null|  null|\n",
      "|B-00001|    B000211|            222|            ?255|B00001@biat.com.tn|B-00001|     B00001|            555|            ?278|B00001@biat.com.tn|2021-08-04|2021-08-04|     1|\n",
      "|B-00009|     B00009|            105|            ?105|B00009@biat.com.tn|   null|       null|           null|            null|              null|      null|      null|  null|\n",
      "+-------+-----------+---------------+----------------+------------------+-------+-----------+---------------+----------------+------------------+----------+----------+------+\n",
      "\n"
     ]
    }
   ],
   "source": [
    "import pyspark.sql.functions as f\n",
    "\n",
    "columns = edd1.columns\n",
    "df3 = edd1.alias(\"d1\").join(edd2.alias(\"d2\"), f.col(\"d1.ID_A\") == f.col(\"d2.ID_A\"), \"left\")\n",
    "df3.show()"
   ]
  },
  {
   "cell_type": "code",
   "execution_count": 129,
   "metadata": {},
   "outputs": [
    {
     "name": "stdout",
     "output_type": "stream",
     "text": [
      "+-------+-----------+---------------+----------------+------------------+----------+----------+------+-----------+---------------+----------------+------------------+\n",
      "|   ID_A|USER_NAME_A|DEPARTMENT_CODE|INIT_APPLICATION|           EMAIL_A| DATDEBVLD|    DATCHG|Dersit|USER_NAME_A|DEPARTMENT_CODE|INIT_APPLICATION|           EMAIL_A|\n",
      "+-------+-----------+---------------+----------------+------------------+----------+----------+------+-----------+---------------+----------------+------------------+\n",
      "|B-00002|     B00002|             35|            ?233|B00002@biat.com.tn|2021-08-04|2021-08-04|     1|     B00002|             35|            ?233|B00002@biat.com.tn|\n",
      "|B-00001|     B00001|            555|            ?278|B00001@biat.com.tn|2021-08-04|2021-08-04|     1|    B000211|            222|            ?255|B00001@biat.com.tn|\n",
      "+-------+-----------+---------------+----------------+------------------+----------+----------+------+-----------+---------------+----------------+------------------+\n",
      "\n"
     ]
    }
   ],
   "source": [
    "edd2.join(edd1,\"ID_A\").show()"
   ]
  },
  {
   "cell_type": "code",
   "execution_count": 130,
   "metadata": {},
   "outputs": [
    {
     "name": "stdout",
     "output_type": "stream",
     "text": [
      "+-------+-----------+---------------+----------------+------------------+-------+-----------+---------------+----------------+------------------+----------+----------+------+\n",
      "|ID_A   |USER_NAME_A|DEPARTMENT_CODE|INIT_APPLICATION|EMAIL_A           |ID_A   |USER_NAME_A|DEPARTMENT_CODE|INIT_APPLICATION|EMAIL_A           |DATDEBVLD |DATCHG    |Dersit|\n",
      "+-------+-----------+---------------+----------------+------------------+-------+-----------+---------------+----------------+------------------+----------+----------+------+\n",
      "|B-00002|B00002     |35             |?233            |B00002@biat.com.tn|B-00002|B00002     |35             |?233            |B00002@biat.com.tn|2021-08-04|2021-08-04|1     |\n",
      "|B-00001|B000211    |222            |?255            |B00001@biat.com.tn|B-00001|B00001     |555            |?278            |B00001@biat.com.tn|2021-08-04|2021-08-04|1     |\n",
      "+-------+-----------+---------------+----------------+------------------+-------+-----------+---------------+----------------+------------------+----------+----------+------+\n",
      "\n"
     ]
    }
   ],
   "source": [
    "edd1.join(edd2,edd1.ID_A ==  edd2.ID_A,\"inner\") \\\n",
    "     .show(truncate=False)"
   ]
  },
  {
   "cell_type": "code",
   "execution_count": 131,
   "metadata": {},
   "outputs": [
    {
     "name": "stdout",
     "output_type": "stream",
     "text": [
      "+-------+-----------+---------------+----------------+------------------+----------+----------+------+-------+-----------+---------------+----------------+------------------+\n",
      "|ID_A   |USER_NAME_A|DEPARTMENT_CODE|INIT_APPLICATION|EMAIL_A           |DATDEBVLD |DATCHG    |Dersit|ID_A   |USER_NAME_A|DEPARTMENT_CODE|INIT_APPLICATION|EMAIL_A           |\n",
      "+-------+-----------+---------------+----------------+------------------+----------+----------+------+-------+-----------+---------------+----------------+------------------+\n",
      "|B-00002|B00002     |35             |?233            |B00002@biat.com.tn|2021-08-04|2021-08-04|1     |B-00002|B00002     |35             |?233            |B00002@biat.com.tn|\n",
      "|B-00001|B00001     |555            |?278            |B00001@biat.com.tn|2021-08-04|2021-08-04|1     |B-00001|B000211    |222            |?255            |B00001@biat.com.tn|\n",
      "+-------+-----------+---------------+----------------+------------------+----------+----------+------+-------+-----------+---------------+----------------+------------------+\n",
      "\n"
     ]
    }
   ],
   "source": [
    "edd2.join(edd1,edd2.ID_A ==  edd1.ID_A,\"inner\") \\\n",
    "     .show(truncate=False)"
   ]
  },
  {
   "cell_type": "code",
   "execution_count": 132,
   "metadata": {},
   "outputs": [],
   "source": [
    "newInsert = edd1.alias(\"edd1\").join(edd2.alias(\"edd2\"),\"ID_A\").where(\"edd2.USER_NAME_A = true and edd1.EMAIL_A <> edd2.EMAIL_A\")"
   ]
  }
 ],
 "metadata": {
  "kernelspec": {
   "display_name": "Python 3",
   "language": "python",
   "name": "python3"
  },
  "language_info": {
   "codemirror_mode": {
    "name": "ipython",
    "version": 3
   },
   "file_extension": ".py",
   "mimetype": "text/x-python",
   "name": "python",
   "nbconvert_exporter": "python",
   "pygments_lexer": "ipython3",
   "version": "3.7.3"
  }
 },
 "nbformat": 4,
 "nbformat_minor": 4
}
