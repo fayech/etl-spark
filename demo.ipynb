{
 "cells": [
  {
   "cell_type": "code",
   "execution_count": 68,
   "metadata": {},
   "outputs": [],
   "source": [
    "import pyspark\n",
    "from pyspark.sql import SparkSession\n",
    "spark = SparkSession.builder.getOrCreate()"
   ]
  },
  {
   "cell_type": "code",
   "execution_count": 69,
   "metadata": {},
   "outputs": [],
   "source": [
    "from pyspark import SparkContext\n",
    "from pyspark.sql import SQLContext\n",
    "from pyspark.sql.types import *"
   ]
  },
  {
   "cell_type": "code",
   "execution_count": 44,
   "metadata": {},
   "outputs": [],
   "source": [
    "schema = StructType([StructField('ID_A',StringType(),False),\n",
    "                    StructField('USER_NAME_A',StringType(),False),\n",
    "                    StructField('DEPARTMENT_CODE',IntegerType(),False),\n",
    "                    StructField('INIT_APPLICATION',IntegerType(),False),\n",
    "                    StructField('EMAIL_A',StringType(),False),\n",
    "                    ])"
   ]
  },
  {
   "cell_type": "code",
   "execution_count": 45,
   "metadata": {},
   "outputs": [],
   "source": [
    "df_hdfs = spark.read.option(\"header\",\"true\").option(\"delimiter\",\",\").option(\"inferSchema\",\"true\").csv(\"hdfs://master.com:8020/user/value/user.txt\")"
   ]
  },
  {
   "cell_type": "code",
   "execution_count": 46,
   "metadata": {},
   "outputs": [
    {
     "name": "stdout",
     "output_type": "stream",
     "text": [
      "+-------+-----------+---------------+----------------+------------------+\n",
      "|   ID_A|USER_NAME_A|DEPARTMENT_CODE|INIT_APPLICATION|           EMAIL_A|\n",
      "+-------+-----------+---------------+----------------+------------------+\n",
      "|B-00001|     B00001|            555|            ?278|B00001@biat.com.tn|\n",
      "|B-00002|     B00002|             35|            ?233|B00002@biat.com.tn|\n",
      "|B-00003|     B00003|            299|            ?202|B00003@biat.com.tn|\n",
      "|B-00004|     B00004|             41|            ?265|B00004@biat.com.tn|\n",
      "|B-00005|     B00005|            605|            ?266|B00005@biat.com.tn|\n",
      "|B-00006|     B00006|            125|            ?233|B00006@biat.com.tn|\n",
      "|B-00007|     B00007|            103|            ?202|B00007@biat.com.tn|\n",
      "+-------+-----------+---------------+----------------+------------------+\n",
      "\n"
     ]
    }
   ],
   "source": [
    "df_hdfs.show()"
   ]
  },
  {
   "cell_type": "code",
   "execution_count": 47,
   "metadata": {},
   "outputs": [
    {
     "name": "stdout",
     "output_type": "stream",
     "text": [
      "root\n",
      " |-- ID_A: string (nullable = true)\n",
      " |-- USER_NAME_A: string (nullable = true)\n",
      " |-- DEPARTMENT_CODE: integer (nullable = true)\n",
      " |-- INIT_APPLICATION: string (nullable = true)\n",
      " |-- EMAIL_A: string (nullable = true)\n",
      "\n"
     ]
    }
   ],
   "source": [
    "df_hdfs.printSchema()"
   ]
  },
  {
   "cell_type": "code",
   "execution_count": 48,
   "metadata": {},
   "outputs": [],
   "source": [
    "import pyspark.sql.functions as f"
   ]
  },
  {
   "cell_type": "code",
   "execution_count": 49,
   "metadata": {},
   "outputs": [
    {
     "name": "stdout",
     "output_type": "stream",
     "text": [
      "+-------+-----------+---------------+----------------+------------------+---------+\n",
      "|   ID_A|USER_NAME_A|DEPARTMENT_CODE|INIT_APPLICATION|           EMAIL_A|Duplicate|\n",
      "+-------+-----------+---------------+----------------+------------------+---------+\n",
      "|B-00004|     B00004|             41|            ?265|B00004@biat.com.tn|        0|\n",
      "|B-00003|     B00003|            299|            ?202|B00003@biat.com.tn|        0|\n",
      "|B-00006|     B00006|            125|            ?233|B00006@biat.com.tn|        0|\n",
      "|B-00005|     B00005|            605|            ?266|B00005@biat.com.tn|        0|\n",
      "|B-00001|     B00001|            555|            ?278|B00001@biat.com.tn|        0|\n",
      "|B-00007|     B00007|            103|            ?202|B00007@biat.com.tn|        0|\n",
      "|B-00002|     B00002|             35|            ?233|B00002@biat.com.tn|        0|\n",
      "+-------+-----------+---------------+----------------+------------------+---------+\n",
      "\n"
     ]
    }
   ],
   "source": [
    "df_hdfs.join(df_hdfs.groupBy(df_hdfs.columns).agg((f.count(\"*\")>1).cast(\"int\").alias(\"Duplicate\")),df_hdfs.columns,how=\"inner\").show()"
   ]
  },
  {
   "cell_type": "code",
   "execution_count": 50,
   "metadata": {},
   "outputs": [
    {
     "data": {
      "text/plain": [
       "<module 'datetime' from '/home/value/anaconda3/lib/python3.7/datetime.py'>"
      ]
     },
     "execution_count": 50,
     "metadata": {},
     "output_type": "execute_result"
    }
   ],
   "source": [
    "import time\n",
    "import datetime\n",
    "from pyspark.sql.functions import lit,unix_timestamp\n",
    "datetime"
   ]
  },
  {
   "cell_type": "code",
   "execution_count": 51,
   "metadata": {},
   "outputs": [],
   "source": [
    "timestamp = datetime.datetime.fromtimestamp(time.time()).strftime('%Y-%m-%d %H:%M:%S')"
   ]
  },
  {
   "cell_type": "code",
   "execution_count": 52,
   "metadata": {},
   "outputs": [],
   "source": [
    "newdf = df_hdfs.withColumn('DATDEBVLD',unix_timestamp(lit(timestamp),'yyyy-MM-dd HH:mm:ss').cast(\"timestamp\")).withColumn('DATCHG',unix_timestamp(lit(timestamp),'yyyy-MM-dd HH:mm:ss').cast(\"timestamp\"))"
   ]
  },
  {
   "cell_type": "code",
   "execution_count": 53,
   "metadata": {},
   "outputs": [
    {
     "name": "stdout",
     "output_type": "stream",
     "text": [
      "+-------+-----------+---------------+----------------+------------------+-------------------+-------------------+\n",
      "|   ID_A|USER_NAME_A|DEPARTMENT_CODE|INIT_APPLICATION|           EMAIL_A|          DATDEBVLD|             DATCHG|\n",
      "+-------+-----------+---------------+----------------+------------------+-------------------+-------------------+\n",
      "|B-00001|     B00001|            555|            ?278|B00001@biat.com.tn|2021-07-23 09:17:08|2021-07-23 09:17:08|\n",
      "|B-00002|     B00002|             35|            ?233|B00002@biat.com.tn|2021-07-23 09:17:08|2021-07-23 09:17:08|\n",
      "|B-00003|     B00003|            299|            ?202|B00003@biat.com.tn|2021-07-23 09:17:08|2021-07-23 09:17:08|\n",
      "|B-00004|     B00004|             41|            ?265|B00004@biat.com.tn|2021-07-23 09:17:08|2021-07-23 09:17:08|\n",
      "|B-00005|     B00005|            605|            ?266|B00005@biat.com.tn|2021-07-23 09:17:08|2021-07-23 09:17:08|\n",
      "|B-00006|     B00006|            125|            ?233|B00006@biat.com.tn|2021-07-23 09:17:08|2021-07-23 09:17:08|\n",
      "|B-00007|     B00007|            103|            ?202|B00007@biat.com.tn|2021-07-23 09:17:08|2021-07-23 09:17:08|\n",
      "+-------+-----------+---------------+----------------+------------------+-------------------+-------------------+\n",
      "\n"
     ]
    }
   ],
   "source": [
    "newdf.show()"
   ]
  },
  {
   "cell_type": "code",
   "execution_count": 54,
   "metadata": {},
   "outputs": [],
   "source": [
    "findata=newdf.withColumn(\"DATFINVLD\",lit(999))"
   ]
  },
  {
   "cell_type": "code",
   "execution_count": 55,
   "metadata": {},
   "outputs": [
    {
     "name": "stdout",
     "output_type": "stream",
     "text": [
      "+-------+-----------+---------------+----------------+------------------+-------------------+-------------------+---------+\n",
      "|   ID_A|USER_NAME_A|DEPARTMENT_CODE|INIT_APPLICATION|           EMAIL_A|          DATDEBVLD|             DATCHG|DATFINVLD|\n",
      "+-------+-----------+---------------+----------------+------------------+-------------------+-------------------+---------+\n",
      "|B-00001|     B00001|            555|            ?278|B00001@biat.com.tn|2021-07-23 09:17:08|2021-07-23 09:17:08|      999|\n",
      "|B-00002|     B00002|             35|            ?233|B00002@biat.com.tn|2021-07-23 09:17:08|2021-07-23 09:17:08|      999|\n",
      "|B-00003|     B00003|            299|            ?202|B00003@biat.com.tn|2021-07-23 09:17:08|2021-07-23 09:17:08|      999|\n",
      "|B-00004|     B00004|             41|            ?265|B00004@biat.com.tn|2021-07-23 09:17:08|2021-07-23 09:17:08|      999|\n",
      "|B-00005|     B00005|            605|            ?266|B00005@biat.com.tn|2021-07-23 09:17:08|2021-07-23 09:17:08|      999|\n",
      "|B-00006|     B00006|            125|            ?233|B00006@biat.com.tn|2021-07-23 09:17:08|2021-07-23 09:17:08|      999|\n",
      "|B-00007|     B00007|            103|            ?202|B00007@biat.com.tn|2021-07-23 09:17:08|2021-07-23 09:17:08|      999|\n",
      "+-------+-----------+---------------+----------------+------------------+-------------------+-------------------+---------+\n",
      "\n"
     ]
    }
   ],
   "source": [
    "findata.show()"
   ]
  },
  {
   "cell_type": "code",
   "execution_count": 56,
   "metadata": {},
   "outputs": [],
   "source": [
    "findata.coalesce(1).write.csv(\"hdfs://master.com:8020/user/value/hdfs-user.csv\")"
   ]
  },
  {
   "cell_type": "code",
   "execution_count": 57,
   "metadata": {},
   "outputs": [],
   "source": [
    "df_load = spark.read.option(\"header\",\"true\").csv('hdfs://master.com:8020/user/value/hdfs-user.csv')"
   ]
  },
  {
   "cell_type": "code",
   "execution_count": 58,
   "metadata": {},
   "outputs": [
    {
     "name": "stdout",
     "output_type": "stream",
     "text": [
      "+-------+------+---+----+------------------+------------------------------+------------------------------+---+\n",
      "|B-00001|B00001|555|?278|B00001@biat.com.tn|2021-07-23T09:17:08.000+01:005|2021-07-23T09:17:08.000+01:006|999|\n",
      "+-------+------+---+----+------------------+------------------------------+------------------------------+---+\n",
      "|B-00002|B00002| 35|?233|B00002@biat.com.tn|          2021-07-23T09:17:...|          2021-07-23T09:17:...|999|\n",
      "|B-00003|B00003|299|?202|B00003@biat.com.tn|          2021-07-23T09:17:...|          2021-07-23T09:17:...|999|\n",
      "|B-00004|B00004| 41|?265|B00004@biat.com.tn|          2021-07-23T09:17:...|          2021-07-23T09:17:...|999|\n",
      "|B-00005|B00005|605|?266|B00005@biat.com.tn|          2021-07-23T09:17:...|          2021-07-23T09:17:...|999|\n",
      "|B-00006|B00006|125|?233|B00006@biat.com.tn|          2021-07-23T09:17:...|          2021-07-23T09:17:...|999|\n",
      "|B-00007|B00007|103|?202|B00007@biat.com.tn|          2021-07-23T09:17:...|          2021-07-23T09:17:...|999|\n",
      "+-------+------+---+----+------------------+------------------------------+------------------------------+---+\n",
      "\n"
     ]
    }
   ],
   "source": [
    "df_load.show()"
   ]
  },
  {
   "cell_type": "code",
   "execution_count": 59,
   "metadata": {},
   "outputs": [],
   "source": [
    "from pyhive  import  hive\n",
    "from pyhive import  presto"
   ]
  },
  {
   "cell_type": "code",
   "execution_count": 60,
   "metadata": {},
   "outputs": [],
   "source": [
    "conn = hive.Connection(host=\"localhost\",port=10000,username=\"value\",database=\"default\")"
   ]
  },
  {
   "cell_type": "code",
   "execution_count": 61,
   "metadata": {},
   "outputs": [],
   "source": [
    "cnx = conn.cursor()"
   ]
  },
  {
   "cell_type": "code",
   "execution_count": 62,
   "metadata": {},
   "outputs": [],
   "source": [
    "cnx.execute(\"CREATE TABLE  master ( ID_A string, USER_NAME_A string, DEPARTMENT_CODE string, INIT_APPLICATION string, EMAIL_A string,DATDEBVLD Timestamp,DATCHG Timestamp, DATFINVLD string)ROW FORMAT DELIMITED FIELDS TERMINATED BY ','\")"
   ]
  },
  {
   "cell_type": "code",
   "execution_count": 63,
   "metadata": {},
   "outputs": [],
   "source": [
    "cnx.execute(\"load data  INPATH 'hdfs://master.com:8020/user/value/hdfs-user.csv' overwrite into table master\")"
   ]
  },
  {
   "cell_type": "code",
   "execution_count": 64,
   "metadata": {},
   "outputs": [],
   "source": [
    "cnx.execute(\"select * from master\")"
   ]
  },
  {
   "cell_type": "code",
   "execution_count": 65,
   "metadata": {},
   "outputs": [],
   "source": [
    "newschema = cnx.fetchall()"
   ]
  },
  {
   "cell_type": "code",
   "execution_count": 66,
   "metadata": {},
   "outputs": [],
   "source": [
    "df1= spark.createDataFrame(newschema,['ID_A','USER_NAME_A','DEPARTMENT_CODE','INIT_APPLICATION','EMAIL_A','DATDEBVLD','DATCHG','DATFINVLD'])\n"
   ]
  },
  {
   "cell_type": "code",
   "execution_count": 67,
   "metadata": {},
   "outputs": [
    {
     "name": "stdout",
     "output_type": "stream",
     "text": [
      "+-------+-----------+---------------+----------------+------------------+-------------------+-------------------+---------+\n",
      "|   ID_A|USER_NAME_A|DEPARTMENT_CODE|INIT_APPLICATION|           EMAIL_A|          DATDEBVLD|             DATCHG|DATFINVLD|\n",
      "+-------+-----------+---------------+----------------+------------------+-------------------+-------------------+---------+\n",
      "|B-00001|     B00001|            555|            ?278|B00001@biat.com.tn|2021-07-23 00:00:00|2021-07-23 00:00:00|      999|\n",
      "|B-00002|     B00002|             35|            ?233|B00002@biat.com.tn|2021-07-23 00:00:00|2021-07-23 00:00:00|      999|\n",
      "|B-00003|     B00003|            299|            ?202|B00003@biat.com.tn|2021-07-23 00:00:00|2021-07-23 00:00:00|      999|\n",
      "|B-00004|     B00004|             41|            ?265|B00004@biat.com.tn|2021-07-23 00:00:00|2021-07-23 00:00:00|      999|\n",
      "|B-00005|     B00005|            605|            ?266|B00005@biat.com.tn|2021-07-23 00:00:00|2021-07-23 00:00:00|      999|\n",
      "|B-00006|     B00006|            125|            ?233|B00006@biat.com.tn|2021-07-23 00:00:00|2021-07-23 00:00:00|      999|\n",
      "|B-00007|     B00007|            103|            ?202|B00007@biat.com.tn|2021-07-23 00:00:00|2021-07-23 00:00:00|      999|\n",
      "+-------+-----------+---------------+----------------+------------------+-------------------+-------------------+---------+\n",
      "\n"
     ]
    }
   ],
   "source": [
    "df1.show()"
   ]
  },
  {
   "cell_type": "code",
   "execution_count": null,
   "metadata": {},
   "outputs": [],
   "source": []
  }
 ],
 "metadata": {
  "kernelspec": {
   "display_name": "Python 3",
   "language": "python",
   "name": "python3"
  },
  "language_info": {
   "codemirror_mode": {
    "name": "ipython",
    "version": 3
   },
   "file_extension": ".py",
   "mimetype": "text/x-python",
   "name": "python",
   "nbconvert_exporter": "python",
   "pygments_lexer": "ipython3",
   "version": "3.7.3"
  }
 },
 "nbformat": 4,
 "nbformat_minor": 2
}
